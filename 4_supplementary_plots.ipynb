{
 "metadata": {
  "language_info": {
   "codemirror_mode": {
    "name": "ipython",
    "version": 3
   },
   "file_extension": ".py",
   "mimetype": "text/x-python",
   "name": "python",
   "nbconvert_exporter": "python",
   "pygments_lexer": "ipython3",
   "version": "3.6.12"
  },
  "orig_nbformat": 2,
  "kernelspec": {
   "name": "python3",
   "display_name": "Python 3.6.12 64-bit ('rnap3': conda)"
  },
  "interpreter": {
   "hash": "54d2a9842a4608b27ce67022a41a245b1d56e32e33e45e2772f6c8e2ecf9d326"
  }
 },
 "nbformat": 4,
 "nbformat_minor": 2,
 "cells": [
  {
   "cell_type": "code",
   "execution_count": 1,
   "metadata": {},
   "outputs": [
    {
     "output_type": "stream",
     "name": "stderr",
     "text": [
      "Using TensorFlow backend.\n",
      "/home/alovse/miniconda3/envs/rnap3/lib/python3.6/site-packages/tensorflow/python/framework/dtypes.py:523: FutureWarning: Passing (type, 1) or '1type' as a synonym of type is deprecated; in a future version of numpy, it will be understood as (type, (1,)) / '(1,)type'.\n",
      "  _np_qint8 = np.dtype([(\"qint8\", np.int8, 1)])\n",
      "/home/alovse/miniconda3/envs/rnap3/lib/python3.6/site-packages/tensorflow/python/framework/dtypes.py:524: FutureWarning: Passing (type, 1) or '1type' as a synonym of type is deprecated; in a future version of numpy, it will be understood as (type, (1,)) / '(1,)type'.\n",
      "  _np_quint8 = np.dtype([(\"quint8\", np.uint8, 1)])\n",
      "/home/alovse/miniconda3/envs/rnap3/lib/python3.6/site-packages/tensorflow/python/framework/dtypes.py:525: FutureWarning: Passing (type, 1) or '1type' as a synonym of type is deprecated; in a future version of numpy, it will be understood as (type, (1,)) / '(1,)type'.\n",
      "  _np_qint16 = np.dtype([(\"qint16\", np.int16, 1)])\n",
      "/home/alovse/miniconda3/envs/rnap3/lib/python3.6/site-packages/tensorflow/python/framework/dtypes.py:526: FutureWarning: Passing (type, 1) or '1type' as a synonym of type is deprecated; in a future version of numpy, it will be understood as (type, (1,)) / '(1,)type'.\n",
      "  _np_quint16 = np.dtype([(\"quint16\", np.uint16, 1)])\n",
      "/home/alovse/miniconda3/envs/rnap3/lib/python3.6/site-packages/tensorflow/python/framework/dtypes.py:527: FutureWarning: Passing (type, 1) or '1type' as a synonym of type is deprecated; in a future version of numpy, it will be understood as (type, (1,)) / '(1,)type'.\n",
      "  _np_qint32 = np.dtype([(\"qint32\", np.int32, 1)])\n",
      "/home/alovse/miniconda3/envs/rnap3/lib/python3.6/site-packages/tensorflow/python/framework/dtypes.py:532: FutureWarning: Passing (type, 1) or '1type' as a synonym of type is deprecated; in a future version of numpy, it will be understood as (type, (1,)) / '(1,)type'.\n",
      "  np_resource = np.dtype([(\"resource\", np.ubyte, 1)])\n"
     ]
    }
   ],
   "source": [
    "import os\n",
    "import pickle\n",
    "\n",
    "import matplotlib.pyplot as plt\n",
    "import matplotlib.style as style\n",
    "import numpy as np\n",
    "import pandas as pd\n",
    "\n",
    "from IPython.display import display, Image\n",
    "from sklearn.metrics import roc_auc_score, roc_curve\n",
    "\n",
    "from utils import get_class, load_data_sources, reset_seeds, get_positive_samples\n",
    "from constants import protein_list, protein_names, experiment_set\n",
    "\n",
    "style.use('seaborn-poster')\n",
    "\n",
    "#Set random seeds for reproducibility.\n",
    "reset_seeds()"
   ]
  },
  {
   "cell_type": "code",
   "execution_count": 2,
   "metadata": {},
   "outputs": [
    {
     "output_type": "stream",
     "name": "stdout",
     "text": [
      "ERF of layer conv1 is 6\nERF of layer pool1 is 25\nERF of layer conv2 is 28\nERF of layer pool2 is 67\nERF of layer conv3 is 70\nERF of layer pool3 is 99\nERF of layer conv4 is 101\n"
     ]
    }
   ],
   "source": [
    "receptive_field = 0\n",
    "receptive_field_previous = 1\n",
    "filters = [6,20,4,40,4,30,3]\n",
    "layers = ['conv1','pool1','conv2','pool2','conv3','pool3','conv4']\n",
    "\n",
    "for i, filter_size in enumerate(filters):\n",
    "    receptive_field = receptive_field_previous + filter_size - 1\n",
    "    print('ERF of layer {} is {}'.format(layers[i], receptive_field))\n",
    "    receptive_field_previous = receptive_field"
   ]
  },
  {
   "cell_type": "code",
   "execution_count": 3,
   "metadata": {},
   "outputs": [
    {
     "output_type": "display_data",
     "data": {
      "text/plain": "<IPython.core.display.Latex object>",
      "text/latex": "\\subsection{Ago/EIF}\n    \\begin{figure}[h!]\n        \\begin{center}\n            \\includegraphics[width=\\textwidth]{/1_PARCLIP_AGO1234_hg19.png}\n            \\caption{Aggregated plots for Ago/EIF. (a) Area under ROC curve analysis of iDeep, iONMF and mcBind. (b) Calibration curves for iDeep and mcBind. For each of the two models the distribution of predicted values is shown below. (c) Sequence logo based on most salient regions. (d) Sequence motifs based on filter activation. Filters are ordered by the impact on AUC when this filter is omitted. The number of times each filter was activated is written in parentheses. (e) Visualisation of filter weights. (f) Artificial sequence that achieves the maximum activation.}\n            \\label{sf:1_Ago/EIF}\n        \\end{center}\n    \\end{figure}\n    \\clearpage"
     },
     "metadata": {}
    },
    {
     "output_type": "display_data",
     "data": {
      "text/plain": "<IPython.core.display.Latex object>",
      "text/latex": "\\subsection{Ago2-MNase}\n    \\begin{figure}[h!]\n        \\begin{center}\n            \\includegraphics[width=\\textwidth]{/2_PARCLIP_AGO2MNASE_hg19.png}\n            \\caption{Aggregated plots for Ago2-MNase. (a) Area under ROC curve analysis of iDeep, iONMF and mcBind. (b) Calibration curves for iDeep and mcBind. For each of the two models the distribution of predicted values is shown below. (c) Sequence logo based on most salient regions. (d) Sequence motifs based on filter activation. Filters are ordered by the impact on AUC when this filter is omitted. The number of times each filter was activated is written in parentheses. (e) Visualisation of filter weights. (f) Artificial sequence that achieves the maximum activation.}\n            \\label{sf:2_Ago2-MNase}\n        \\end{center}\n    \\end{figure}\n    \\clearpage"
     },
     "metadata": {}
    },
    {
     "output_type": "display_data",
     "data": {
      "text/plain": "<IPython.core.display.Latex object>",
      "text/latex": "\\subsection{Ago2-1}\n    \\begin{figure}[h!]\n        \\begin{center}\n            \\includegraphics[width=\\textwidth]{/3_HITSCLIP_Ago2_binding_clusters.png}\n            \\caption{Aggregated plots for Ago2-1. (a) Area under ROC curve analysis of iDeep, iONMF and mcBind. (b) Calibration curves for iDeep and mcBind. For each of the two models the distribution of predicted values is shown below. (c) Sequence logo based on most salient regions. (d) Sequence motifs based on filter activation. Filters are ordered by the impact on AUC when this filter is omitted. The number of times each filter was activated is written in parentheses. (e) Visualisation of filter weights. (f) Artificial sequence that achieves the maximum activation.}\n            \\label{sf:3_Ago2-1}\n        \\end{center}\n    \\end{figure}\n    \\clearpage"
     },
     "metadata": {}
    },
    {
     "output_type": "display_data",
     "data": {
      "text/plain": "<IPython.core.display.Latex object>",
      "text/latex": "\\subsection{Ago2-2}\n    \\begin{figure}[h!]\n        \\begin{center}\n            \\includegraphics[width=\\textwidth]{/4_HITSCLIP_Ago2_binding_clusters_2.png}\n            \\caption{Aggregated plots for Ago2-2. (a) Area under ROC curve analysis of iDeep, iONMF and mcBind. (b) Calibration curves for iDeep and mcBind. For each of the two models the distribution of predicted values is shown below. (c) Sequence logo based on most salient regions. (d) Sequence motifs based on filter activation. Filters are ordered by the impact on AUC when this filter is omitted. The number of times each filter was activated is written in parentheses. (e) Visualisation of filter weights. (f) Artificial sequence that achieves the maximum activation.}\n            \\label{sf:4_Ago2-2}\n        \\end{center}\n    \\end{figure}\n    \\clearpage"
     },
     "metadata": {}
    },
    {
     "output_type": "display_data",
     "data": {
      "text/plain": "<IPython.core.display.Latex object>",
      "text/latex": "\\subsection{Ago2}\n    \\begin{figure}[h!]\n        \\begin{center}\n            \\includegraphics[width=\\textwidth]{/5_CLIPSEQ_AGO2_hg19.png}\n            \\caption{Aggregated plots for Ago2. (a) Area under ROC curve analysis of iDeep, iONMF and mcBind. (b) Calibration curves for iDeep and mcBind. For each of the two models the distribution of predicted values is shown below. (c) Sequence logo based on most salient regions. (d) Sequence motifs based on filter activation. Filters are ordered by the impact on AUC when this filter is omitted. The number of times each filter was activated is written in parentheses. (e) Visualisation of filter weights. (f) Artificial sequence that achieves the maximum activation.}\n            \\label{sf:5_Ago2}\n        \\end{center}\n    \\end{figure}\n    \\clearpage"
     },
     "metadata": {}
    },
    {
     "output_type": "display_data",
     "data": {
      "text/plain": "<IPython.core.display.Latex object>",
      "text/latex": "\\subsection{eIF4AIII-1}\n    \\begin{figure}[h!]\n        \\begin{center}\n            \\includegraphics[width=\\textwidth]{/6_CLIP-seq-eIF4AIII_1.png}\n            \\caption{Aggregated plots for eIF4AIII-1. (a) Area under ROC curve analysis of iDeep, iONMF and mcBind. (b) Calibration curves for iDeep and mcBind. For each of the two models the distribution of predicted values is shown below. (c) Sequence logo based on most salient regions. (d) Sequence motifs based on filter activation. Filters are ordered by the impact on AUC when this filter is omitted. The number of times each filter was activated is written in parentheses. (e) Visualisation of filter weights. (f) Artificial sequence that achieves the maximum activation.}\n            \\label{sf:6_eIF4AIII-1}\n        \\end{center}\n    \\end{figure}\n    \\clearpage"
     },
     "metadata": {}
    },
    {
     "output_type": "display_data",
     "data": {
      "text/plain": "<IPython.core.display.Latex object>",
      "text/latex": "\\subsection{eIF4AIII-2}\n    \\begin{figure}[h!]\n        \\begin{center}\n            \\includegraphics[width=\\textwidth]{/7_CLIP-seq-eIF4AIII_2.png}\n            \\caption{Aggregated plots for eIF4AIII-2. (a) Area under ROC curve analysis of iDeep, iONMF and mcBind. (b) Calibration curves for iDeep and mcBind. For each of the two models the distribution of predicted values is shown below. (c) Sequence logo based on most salient regions. (d) Sequence motifs based on filter activation. Filters are ordered by the impact on AUC when this filter is omitted. The number of times each filter was activated is written in parentheses. (e) Visualisation of filter weights. (f) Artificial sequence that achieves the maximum activation.}\n            \\label{sf:7_eIF4AIII-2}\n        \\end{center}\n    \\end{figure}\n    \\clearpage"
     },
     "metadata": {}
    },
    {
     "output_type": "display_data",
     "data": {
      "text/plain": "<IPython.core.display.Latex object>",
      "text/latex": "\\subsection{ELAVL1-1}\n    \\begin{figure}[h!]\n        \\begin{center}\n            \\includegraphics[width=\\textwidth]{/8_PARCLIP_ELAVL1_hg19.png}\n            \\caption{Aggregated plots for ELAVL1-1. (a) Area under ROC curve analysis of iDeep, iONMF and mcBind. (b) Calibration curves for iDeep and mcBind. For each of the two models the distribution of predicted values is shown below. (c) Sequence logo based on most salient regions. (d) Sequence motifs based on filter activation. Filters are ordered by the impact on AUC when this filter is omitted. The number of times each filter was activated is written in parentheses. (e) Visualisation of filter weights. (f) Artificial sequence that achieves the maximum activation.}\n            \\label{sf:8_ELAVL1-1}\n        \\end{center}\n    \\end{figure}\n    \\clearpage"
     },
     "metadata": {}
    },
    {
     "output_type": "display_data",
     "data": {
      "text/plain": "<IPython.core.display.Latex object>",
      "text/latex": "\\subsection{ELAVL1-MNase}\n    \\begin{figure}[h!]\n        \\begin{center}\n            \\includegraphics[width=\\textwidth]{/9_PARCLIP_ELAVL1MNASE_hg19.png}\n            \\caption{Aggregated plots for ELAVL1-MNase. (a) Area under ROC curve analysis of iDeep, iONMF and mcBind. (b) Calibration curves for iDeep and mcBind. For each of the two models the distribution of predicted values is shown below. (c) Sequence logo based on most salient regions. (d) Sequence motifs based on filter activation. Filters are ordered by the impact on AUC when this filter is omitted. The number of times each filter was activated is written in parentheses. (e) Visualisation of filter weights. (f) Artificial sequence that achieves the maximum activation.}\n            \\label{sf:9_ELAVL1-MNase}\n        \\end{center}\n    \\end{figure}\n    \\clearpage"
     },
     "metadata": {}
    },
    {
     "output_type": "display_data",
     "data": {
      "text/plain": "<IPython.core.display.Latex object>",
      "text/latex": "\\subsection{ELAVL1A}\n    \\begin{figure}[h!]\n        \\begin{center}\n            \\includegraphics[width=\\textwidth]{/10_PARCLIP_ELAVL1A_hg19.png}\n            \\caption{Aggregated plots for ELAVL1A. (a) Area under ROC curve analysis of iDeep, iONMF and mcBind. (b) Calibration curves for iDeep and mcBind. For each of the two models the distribution of predicted values is shown below. (c) Sequence logo based on most salient regions. (d) Sequence motifs based on filter activation. Filters are ordered by the impact on AUC when this filter is omitted. The number of times each filter was activated is written in parentheses. (e) Visualisation of filter weights. (f) Artificial sequence that achieves the maximum activation.}\n            \\label{sf:10_ELAVL1A}\n        \\end{center}\n    \\end{figure}\n    \\clearpage"
     },
     "metadata": {}
    },
    {
     "output_type": "display_data",
     "data": {
      "text/plain": "<IPython.core.display.Latex object>",
      "text/latex": "\\subsection{ELAVL1-2}\n    \\begin{figure}[h!]\n        \\begin{center}\n            \\includegraphics[width=\\textwidth]{/11_CLIPSEQ_ELAVL1_hg19.png}\n            \\caption{Aggregated plots for ELAVL1-2. (a) Area under ROC curve analysis of iDeep, iONMF and mcBind. (b) Calibration curves for iDeep and mcBind. For each of the two models the distribution of predicted values is shown below. (c) Sequence logo based on most salient regions. (d) Sequence motifs based on filter activation. Filters are ordered by the impact on AUC when this filter is omitted. The number of times each filter was activated is written in parentheses. (e) Visualisation of filter weights. (f) Artificial sequence that achieves the maximum activation.}\n            \\label{sf:11_ELAVL1-2}\n        \\end{center}\n    \\end{figure}\n    \\clearpage"
     },
     "metadata": {}
    },
    {
     "output_type": "display_data",
     "data": {
      "text/plain": "<IPython.core.display.Latex object>",
      "text/latex": "\\subsection{ESWR1}\n    \\begin{figure}[h!]\n        \\begin{center}\n            \\includegraphics[width=\\textwidth]{/12_PARCLIP_EWSR1_hg19.png}\n            \\caption{Aggregated plots for ESWR1. (a) Area under ROC curve analysis of iDeep, iONMF and mcBind. (b) Calibration curves for iDeep and mcBind. For each of the two models the distribution of predicted values is shown below. (c) Sequence logo based on most salient regions. (d) Sequence motifs based on filter activation. Filters are ordered by the impact on AUC when this filter is omitted. The number of times each filter was activated is written in parentheses. (e) Visualisation of filter weights. (f) Artificial sequence that achieves the maximum activation.}\n            \\label{sf:12_ESWR1}\n        \\end{center}\n    \\end{figure}\n    \\clearpage"
     },
     "metadata": {}
    },
    {
     "output_type": "display_data",
     "data": {
      "text/plain": "<IPython.core.display.Latex object>",
      "text/latex": "\\subsection{FUS}\n    \\begin{figure}[h!]\n        \\begin{center}\n            \\includegraphics[width=\\textwidth]{/13_PARCLIP_FUS_hg19.png}\n            \\caption{Aggregated plots for FUS. (a) Area under ROC curve analysis of iDeep, iONMF and mcBind. (b) Calibration curves for iDeep and mcBind. For each of the two models the distribution of predicted values is shown below. (c) Sequence logo based on most salient regions. (d) Sequence motifs based on filter activation. Filters are ordered by the impact on AUC when this filter is omitted. The number of times each filter was activated is written in parentheses. (e) Visualisation of filter weights. (f) Artificial sequence that achieves the maximum activation.}\n            \\label{sf:13_FUS}\n        \\end{center}\n    \\end{figure}\n    \\clearpage"
     },
     "metadata": {}
    },
    {
     "output_type": "display_data",
     "data": {
      "text/plain": "<IPython.core.display.Latex object>",
      "text/latex": "\\subsection{Mut}\n    \\begin{figure}[h!]\n        \\begin{center}\n            \\includegraphics[width=\\textwidth]{/14_PARCLIP_FUS_mut_hg19.png}\n            \\caption{Aggregated plots for Mut. (a) Area under ROC curve analysis of iDeep, iONMF and mcBind. (b) Calibration curves for iDeep and mcBind. For each of the two models the distribution of predicted values is shown below. (c) Sequence logo based on most salient regions. (d) Sequence motifs based on filter activation. Filters are ordered by the impact on AUC when this filter is omitted. The number of times each filter was activated is written in parentheses. (e) Visualisation of filter weights. (f) Artificial sequence that achieves the maximum activation.}\n            \\label{sf:14_Mut_FUS}\n        \\end{center}\n    \\end{figure}\n    \\clearpage"
     },
     "metadata": {}
    },
    {
     "output_type": "display_data",
     "data": {
      "text/plain": "<IPython.core.display.Latex object>",
      "text/latex": "\\subsection{IGFBP1-3}\n    \\begin{figure}[h!]\n        \\begin{center}\n            \\includegraphics[width=\\textwidth]{/15_PARCLIP_IGF2BP123_hg19.png}\n            \\caption{Aggregated plots for IGFBP1-3. (a) Area under ROC curve analysis of iDeep, iONMF and mcBind. (b) Calibration curves for iDeep and mcBind. For each of the two models the distribution of predicted values is shown below. (c) Sequence logo based on most salient regions. (d) Sequence motifs based on filter activation. Filters are ordered by the impact on AUC when this filter is omitted. The number of times each filter was activated is written in parentheses. (e) Visualisation of filter weights. (f) Artificial sequence that achieves the maximum activation.}\n            \\label{sf:15_IGFBP1-3}\n        \\end{center}\n    \\end{figure}\n    \\clearpage"
     },
     "metadata": {}
    },
    {
     "output_type": "display_data",
     "data": {
      "text/plain": "<IPython.core.display.Latex object>",
      "text/latex": "\\subsection{hnRNPC-1}\n    \\begin{figure}[h!]\n        \\begin{center}\n            \\includegraphics[width=\\textwidth]{/16_ICLIP_hnRNPC_Hela_iCLIP_all_clusters.png}\n            \\caption{Aggregated plots for hnRNPC-1. (a) Area under ROC curve analysis of iDeep, iONMF and mcBind. (b) Calibration curves for iDeep and mcBind. For each of the two models the distribution of predicted values is shown below. (c) Sequence logo based on most salient regions. (d) Sequence motifs based on filter activation. Filters are ordered by the impact on AUC when this filter is omitted. The number of times each filter was activated is written in parentheses. (e) Visualisation of filter weights. (f) Artificial sequence that achieves the maximum activation.}\n            \\label{sf:16_hnRNPC-1}\n        \\end{center}\n    \\end{figure}\n    \\clearpage"
     },
     "metadata": {}
    },
    {
     "output_type": "display_data",
     "data": {
      "text/plain": "<IPython.core.display.Latex object>",
      "text/latex": "\\subsection{hnRNPC-2}\n    \\begin{figure}[h!]\n        \\begin{center}\n            \\includegraphics[width=\\textwidth]{/17_ICLIP_HNRNPC_hg19.png}\n            \\caption{Aggregated plots for hnRNPC-2. (a) Area under ROC curve analysis of iDeep, iONMF and mcBind. (b) Calibration curves for iDeep and mcBind. For each of the two models the distribution of predicted values is shown below. (c) Sequence logo based on most salient regions. (d) Sequence motifs based on filter activation. Filters are ordered by the impact on AUC when this filter is omitted. The number of times each filter was activated is written in parentheses. (e) Visualisation of filter weights. (f) Artificial sequence that achieves the maximum activation.}\n            \\label{sf:17_hnRNPC-2}\n        \\end{center}\n    \\end{figure}\n    \\clearpage"
     },
     "metadata": {}
    },
    {
     "output_type": "display_data",
     "data": {
      "text/plain": "<IPython.core.display.Latex object>",
      "text/latex": "\\subsection{hnRNPL-1}\n    \\begin{figure}[h!]\n        \\begin{center}\n            \\includegraphics[width=\\textwidth]{/18_ICLIP_hnRNPL_Hela_group_3975_all-hnRNPL-Hela-hg19_sum_G_hg19--ensembl59_from_2337-2339-741_bedGraph-cDNA-hits-in-genome.png}\n            \\caption{Aggregated plots for hnRNPL-1. (a) Area under ROC curve analysis of iDeep, iONMF and mcBind. (b) Calibration curves for iDeep and mcBind. For each of the two models the distribution of predicted values is shown below. (c) Sequence logo based on most salient regions. (d) Sequence motifs based on filter activation. Filters are ordered by the impact on AUC when this filter is omitted. The number of times each filter was activated is written in parentheses. (e) Visualisation of filter weights. (f) Artificial sequence that achieves the maximum activation.}\n            \\label{sf:18_hnRNPL-1}\n        \\end{center}\n    \\end{figure}\n    \\clearpage"
     },
     "metadata": {}
    },
    {
     "output_type": "display_data",
     "data": {
      "text/plain": "<IPython.core.display.Latex object>",
      "text/latex": "\\subsection{hnRNPL-2}\n    \\begin{figure}[h!]\n        \\begin{center}\n            \\includegraphics[width=\\textwidth]{/19_ICLIP_hnRNPL_U266_group_3986_all-hnRNPL-U266-hg19_sum_G_hg19--ensembl59_from_2485_bedGraph-cDNA-hits-in-genome.png}\n            \\caption{Aggregated plots for hnRNPL-2. (a) Area under ROC curve analysis of iDeep, iONMF and mcBind. (b) Calibration curves for iDeep and mcBind. For each of the two models the distribution of predicted values is shown below. (c) Sequence logo based on most salient regions. (d) Sequence motifs based on filter activation. Filters are ordered by the impact on AUC when this filter is omitted. The number of times each filter was activated is written in parentheses. (e) Visualisation of filter weights. (f) Artificial sequence that achieves the maximum activation.}\n            \\label{sf:19_hnRNPL-2}\n        \\end{center}\n    \\end{figure}\n    \\clearpage"
     },
     "metadata": {}
    },
    {
     "output_type": "display_data",
     "data": {
      "text/plain": "<IPython.core.display.Latex object>",
      "text/latex": "\\subsection{hnRNPL-like}\n    \\begin{figure}[h!]\n        \\begin{center}\n            \\includegraphics[width=\\textwidth]{/20_ICLIP_hnRNPlike_U266_group_4000_all-hnRNPLlike-U266-hg19_sum_G_hg19--ensembl59_from_2342-2486_bedGraph-cDNA-hits-in-genome.png}\n            \\caption{Aggregated plots for hnRNPL-like. (a) Area under ROC curve analysis of iDeep, iONMF and mcBind. (b) Calibration curves for iDeep and mcBind. For each of the two models the distribution of predicted values is shown below. (c) Sequence logo based on most salient regions. (d) Sequence motifs based on filter activation. Filters are ordered by the impact on AUC when this filter is omitted. The number of times each filter was activated is written in parentheses. (e) Visualisation of filter weights. (f) Artificial sequence that achieves the maximum activation.}\n            \\label{sf:20_hnRNPL-like}\n        \\end{center}\n    \\end{figure}\n    \\clearpage"
     },
     "metadata": {}
    },
    {
     "output_type": "display_data",
     "data": {
      "text/plain": "<IPython.core.display.Latex object>",
      "text/latex": "\\subsection{MOV10}\n    \\begin{figure}[h!]\n        \\begin{center}\n            \\includegraphics[width=\\textwidth]{/21_PARCLIP_MOV10_Sievers_hg19.png}\n            \\caption{Aggregated plots for MOV10. (a) Area under ROC curve analysis of iDeep, iONMF and mcBind. (b) Calibration curves for iDeep and mcBind. For each of the two models the distribution of predicted values is shown below. (c) Sequence logo based on most salient regions. (d) Sequence motifs based on filter activation. Filters are ordered by the impact on AUC when this filter is omitted. The number of times each filter was activated is written in parentheses. (e) Visualisation of filter weights. (f) Artificial sequence that achieves the maximum activation.}\n            \\label{sf:21_MOV10}\n        \\end{center}\n    \\end{figure}\n    \\clearpage"
     },
     "metadata": {}
    },
    {
     "output_type": "display_data",
     "data": {
      "text/plain": "<IPython.core.display.Latex object>",
      "text/latex": "\\subsection{Nsun2}\n    \\begin{figure}[h!]\n        \\begin{center}\n            \\includegraphics[width=\\textwidth]{/22_ICLIP_NSUN2_293_group_4007_all-NSUN2-293-hg19_sum_G_hg19--ensembl59_from_3137-3202_bedGraph-cDNA-hits-in-genome.png}\n            \\caption{Aggregated plots for Nsun2. (a) Area under ROC curve analysis of iDeep, iONMF and mcBind. (b) Calibration curves for iDeep and mcBind. For each of the two models the distribution of predicted values is shown below. (c) Sequence logo based on most salient regions. (d) Sequence motifs based on filter activation. Filters are ordered by the impact on AUC when this filter is omitted. The number of times each filter was activated is written in parentheses. (e) Visualisation of filter weights. (f) Artificial sequence that achieves the maximum activation.}\n            \\label{sf:22_Nsun2}\n        \\end{center}\n    \\end{figure}\n    \\clearpage"
     },
     "metadata": {}
    },
    {
     "output_type": "display_data",
     "data": {
      "text/plain": "<IPython.core.display.Latex object>",
      "text/latex": "\\subsection{PUM2}\n    \\begin{figure}[h!]\n        \\begin{center}\n            \\includegraphics[width=\\textwidth]{/23_PARCLIP_PUM2_hg19.png}\n            \\caption{Aggregated plots for PUM2. (a) Area under ROC curve analysis of iDeep, iONMF and mcBind. (b) Calibration curves for iDeep and mcBind. For each of the two models the distribution of predicted values is shown below. (c) Sequence logo based on most salient regions. (d) Sequence motifs based on filter activation. Filters are ordered by the impact on AUC when this filter is omitted. The number of times each filter was activated is written in parentheses. (e) Visualisation of filter weights. (f) Artificial sequence that achieves the maximum activation.}\n            \\label{sf:23_PUM2}\n        \\end{center}\n    \\end{figure}\n    \\clearpage"
     },
     "metadata": {}
    },
    {
     "output_type": "display_data",
     "data": {
      "text/plain": "<IPython.core.display.Latex object>",
      "text/latex": "\\subsection{QKI}\n    \\begin{figure}[h!]\n        \\begin{center}\n            \\includegraphics[width=\\textwidth]{/24_PARCLIP_QKI_hg19.png}\n            \\caption{Aggregated plots for QKI. (a) Area under ROC curve analysis of iDeep, iONMF and mcBind. (b) Calibration curves for iDeep and mcBind. For each of the two models the distribution of predicted values is shown below. (c) Sequence logo based on most salient regions. (d) Sequence motifs based on filter activation. Filters are ordered by the impact on AUC when this filter is omitted. The number of times each filter was activated is written in parentheses. (e) Visualisation of filter weights. (f) Artificial sequence that achieves the maximum activation.}\n            \\label{sf:24_QKI}\n        \\end{center}\n    \\end{figure}\n    \\clearpage"
     },
     "metadata": {}
    },
    {
     "output_type": "display_data",
     "data": {
      "text/plain": "<IPython.core.display.Latex object>",
      "text/latex": "\\subsection{SRSF1}\n    \\begin{figure}[h!]\n        \\begin{center}\n            \\includegraphics[width=\\textwidth]{/25_CLIPSEQ_SFRS1_hg19.png}\n            \\caption{Aggregated plots for SRSF1. (a) Area under ROC curve analysis of iDeep, iONMF and mcBind. (b) Calibration curves for iDeep and mcBind. For each of the two models the distribution of predicted values is shown below. (c) Sequence logo based on most salient regions. (d) Sequence motifs based on filter activation. Filters are ordered by the impact on AUC when this filter is omitted. The number of times each filter was activated is written in parentheses. (e) Visualisation of filter weights. (f) Artificial sequence that achieves the maximum activation.}\n            \\label{sf:25_SRSF1}\n        \\end{center}\n    \\end{figure}\n    \\clearpage"
     },
     "metadata": {}
    },
    {
     "output_type": "display_data",
     "data": {
      "text/plain": "<IPython.core.display.Latex object>",
      "text/latex": "\\subsection{TAF15}\n    \\begin{figure}[h!]\n        \\begin{center}\n            \\includegraphics[width=\\textwidth]{/26_PARCLIP_TAF15_hg19.png}\n            \\caption{Aggregated plots for TAF15. (a) Area under ROC curve analysis of iDeep, iONMF and mcBind. (b) Calibration curves for iDeep and mcBind. For each of the two models the distribution of predicted values is shown below. (c) Sequence logo based on most salient regions. (d) Sequence motifs based on filter activation. Filters are ordered by the impact on AUC when this filter is omitted. The number of times each filter was activated is written in parentheses. (e) Visualisation of filter weights. (f) Artificial sequence that achieves the maximum activation.}\n            \\label{sf:26_TAF15}\n        \\end{center}\n    \\end{figure}\n    \\clearpage"
     },
     "metadata": {}
    },
    {
     "output_type": "display_data",
     "data": {
      "text/plain": "<IPython.core.display.Latex object>",
      "text/latex": "\\subsection{TDP-43}\n    \\begin{figure}[h!]\n        \\begin{center}\n            \\includegraphics[width=\\textwidth]{/27_ICLIP_TDP43_hg19.png}\n            \\caption{Aggregated plots for TDP-43. (a) Area under ROC curve analysis of iDeep, iONMF and mcBind. (b) Calibration curves for iDeep and mcBind. For each of the two models the distribution of predicted values is shown below. (c) Sequence logo based on most salient regions. (d) Sequence motifs based on filter activation. Filters are ordered by the impact on AUC when this filter is omitted. The number of times each filter was activated is written in parentheses. (e) Visualisation of filter weights. (f) Artificial sequence that achieves the maximum activation.}\n            \\label{sf:27_TDP-43}\n        \\end{center}\n    \\end{figure}\n    \\clearpage"
     },
     "metadata": {}
    },
    {
     "output_type": "display_data",
     "data": {
      "text/plain": "<IPython.core.display.Latex object>",
      "text/latex": "\\subsection{TIA1}\n    \\begin{figure}[h!]\n        \\begin{center}\n            \\includegraphics[width=\\textwidth]{/28_ICLIP_TIA1_hg19.png}\n            \\caption{Aggregated plots for TIA1. (a) Area under ROC curve analysis of iDeep, iONMF and mcBind. (b) Calibration curves for iDeep and mcBind. For each of the two models the distribution of predicted values is shown below. (c) Sequence logo based on most salient regions. (d) Sequence motifs based on filter activation. Filters are ordered by the impact on AUC when this filter is omitted. The number of times each filter was activated is written in parentheses. (e) Visualisation of filter weights. (f) Artificial sequence that achieves the maximum activation.}\n            \\label{sf:28_TIA1}\n        \\end{center}\n    \\end{figure}\n    \\clearpage"
     },
     "metadata": {}
    },
    {
     "output_type": "display_data",
     "data": {
      "text/plain": "<IPython.core.display.Latex object>",
      "text/latex": "\\subsection{TIAL1}\n    \\begin{figure}[h!]\n        \\begin{center}\n            \\includegraphics[width=\\textwidth]{/29_ICLIP_TIAL1_hg19.png}\n            \\caption{Aggregated plots for TIAL1. (a) Area under ROC curve analysis of iDeep, iONMF and mcBind. (b) Calibration curves for iDeep and mcBind. For each of the two models the distribution of predicted values is shown below. (c) Sequence logo based on most salient regions. (d) Sequence motifs based on filter activation. Filters are ordered by the impact on AUC when this filter is omitted. The number of times each filter was activated is written in parentheses. (e) Visualisation of filter weights. (f) Artificial sequence that achieves the maximum activation.}\n            \\label{sf:29_TIAL1}\n        \\end{center}\n    \\end{figure}\n    \\clearpage"
     },
     "metadata": {}
    },
    {
     "output_type": "display_data",
     "data": {
      "text/plain": "<IPython.core.display.Latex object>",
      "text/latex": "\\subsection{U2AF2}\n    \\begin{figure}[h!]\n        \\begin{center}\n            \\includegraphics[width=\\textwidth]{/30_ICLIP_U2AF65_Hela_iCLIP_ctrl_all_clusters.png}\n            \\caption{Aggregated plots for U2AF2. (a) Area under ROC curve analysis of iDeep, iONMF and mcBind. (b) Calibration curves for iDeep and mcBind. For each of the two models the distribution of predicted values is shown below. (c) Sequence logo based on most salient regions. (d) Sequence motifs based on filter activation. Filters are ordered by the impact on AUC when this filter is omitted. The number of times each filter was activated is written in parentheses. (e) Visualisation of filter weights. (f) Artificial sequence that achieves the maximum activation.}\n            \\label{sf:30_U2AF2}\n        \\end{center}\n    \\end{figure}\n    \\clearpage"
     },
     "metadata": {}
    },
    {
     "output_type": "display_data",
     "data": {
      "text/plain": "<IPython.core.display.Latex object>",
      "text/latex": "\\subsection{U2AF2(KD)}\n    \\begin{figure}[h!]\n        \\begin{center}\n            \\includegraphics[width=\\textwidth]{/31_ICLIP_U2AF65_Hela_iCLIP_ctrl+kd_all_clusters.png}\n            \\caption{Aggregated plots for U2AF2(KD). (a) Area under ROC curve analysis of iDeep, iONMF and mcBind. (b) Calibration curves for iDeep and mcBind. For each of the two models the distribution of predicted values is shown below. (c) Sequence logo based on most salient regions. (d) Sequence motifs based on filter activation. Filters are ordered by the impact on AUC when this filter is omitted. The number of times each filter was activated is written in parentheses. (e) Visualisation of filter weights. (f) Artificial sequence that achieves the maximum activation.}\n            \\label{sf:31_U2AF2(KD)}\n        \\end{center}\n    \\end{figure}\n    \\clearpage"
     },
     "metadata": {}
    }
   ],
   "source": [
    "\n",
    "from IPython.display import Latex\n",
    "\n",
    "def makeplot(figname, figlabel, figcaption):\n",
    "    strLatex=r\"\"\"\\subsection{%s}\n",
    "    \\begin{figure}[h!]\n",
    "        \\begin{center}\n",
    "            \\includegraphics[width=\\textwidth]{/%s}\n",
    "            \\caption{%s}\n",
    "            \\label{sf:%s}\n",
    "        \\end{center}\n",
    "    \\end{figure}\n",
    "    \\clearpage\"\"\"%(figlabel.split(\" \")[1], figname, figcaption, figlabel.replace(\" \", \"_\")) \n",
    "    return display(Latex(strLatex))\n",
    "\n",
    "for protein, name in zip(protein_list, protein_names):\n",
    "    fig_text = [\n",
    "        f\"Aggregated plots for {name.split(' ')[1]}. (a) Area under ROC curve analysis of iDeep, iONMF and mcBind. (b) Calibration curves for iDeep and mcBind. For each of the \"\n",
    "        \"two models the distribution of predicted values is shown below. (c) Sequence logo based on most salient regions. (d) Sequence motifs based on filter activation. Filters are ordered \"\n",
    "        \"by the impact on AUC when this filter is omitted. The number of times each filter was activated is written in parentheses. (e) Visualisation of filter weights. (f) Artificial sequence \"\n",
    "        \"that achieves the maximum activation.\"\n",
    "    ]\n",
    "    makeplot(f\"{protein}.png\", name, fig_text[0])\n"
   ]
  },
  {
   "cell_type": "code",
   "execution_count": 4,
   "metadata": {},
   "outputs": [],
   "source": [
    "%run aggregate"
   ]
  },
  {
   "cell_type": "code",
   "execution_count": 5,
   "metadata": {},
   "outputs": [],
   "source": [
    "# %run shallow_model.py"
   ]
  },
  {
   "cell_type": "code",
   "execution_count": 6,
   "metadata": {},
   "outputs": [],
   "source": [
    "shallow_results = pd.read_csv(\"shallow_model/scores.tsv\", sep=\"\\t\", index_col=0)"
   ]
  },
  {
   "cell_type": "code",
   "execution_count": 7,
   "metadata": {},
   "outputs": [
    {
     "output_type": "stream",
     "name": "stdout",
     "text": [
      "Mean difference with iDeep is 0.001619998655913976 \nNumber of proteins for which our model is better: 24 \nMean difference with Shallow mcbind is 0.010195104502688202 \nNumber of proteins for which our model is better: 19 \n"
     ]
    },
    {
     "output_type": "execute_result",
     "data": {
      "text/plain": [
       "<pandas.io.formats.style.Styler at 0x7fd5a0cdce80>"
      ],
      "text/html": "<style  type=\"text/css\" >\n#T_b2f36130_e7a2_11eb_9611_a34e258a7b22row0_col0,#T_b2f36130_e7a2_11eb_9611_a34e258a7b22row1_col1,#T_b2f36130_e7a2_11eb_9611_a34e258a7b22row2_col2,#T_b2f36130_e7a2_11eb_9611_a34e258a7b22row3_col2,#T_b2f36130_e7a2_11eb_9611_a34e258a7b22row4_col2,#T_b2f36130_e7a2_11eb_9611_a34e258a7b22row5_col0,#T_b2f36130_e7a2_11eb_9611_a34e258a7b22row6_col2,#T_b2f36130_e7a2_11eb_9611_a34e258a7b22row7_col0,#T_b2f36130_e7a2_11eb_9611_a34e258a7b22row8_col2,#T_b2f36130_e7a2_11eb_9611_a34e258a7b22row9_col2,#T_b2f36130_e7a2_11eb_9611_a34e258a7b22row10_col1,#T_b2f36130_e7a2_11eb_9611_a34e258a7b22row11_col0,#T_b2f36130_e7a2_11eb_9611_a34e258a7b22row12_col0,#T_b2f36130_e7a2_11eb_9611_a34e258a7b22row13_col0,#T_b2f36130_e7a2_11eb_9611_a34e258a7b22row14_col2,#T_b2f36130_e7a2_11eb_9611_a34e258a7b22row15_col0,#T_b2f36130_e7a2_11eb_9611_a34e258a7b22row16_col0,#T_b2f36130_e7a2_11eb_9611_a34e258a7b22row17_col0,#T_b2f36130_e7a2_11eb_9611_a34e258a7b22row18_col1,#T_b2f36130_e7a2_11eb_9611_a34e258a7b22row19_col1,#T_b2f36130_e7a2_11eb_9611_a34e258a7b22row20_col2,#T_b2f36130_e7a2_11eb_9611_a34e258a7b22row21_col1,#T_b2f36130_e7a2_11eb_9611_a34e258a7b22row22_col0,#T_b2f36130_e7a2_11eb_9611_a34e258a7b22row23_col0,#T_b2f36130_e7a2_11eb_9611_a34e258a7b22row24_col0,#T_b2f36130_e7a2_11eb_9611_a34e258a7b22row25_col0,#T_b2f36130_e7a2_11eb_9611_a34e258a7b22row26_col0,#T_b2f36130_e7a2_11eb_9611_a34e258a7b22row27_col0,#T_b2f36130_e7a2_11eb_9611_a34e258a7b22row28_col0,#T_b2f36130_e7a2_11eb_9611_a34e258a7b22row29_col1,#T_b2f36130_e7a2_11eb_9611_a34e258a7b22row30_col0{\n            font-weight: bold;\n        }</style><table id=\"T_b2f36130_e7a2_11eb_9611_a34e258a7b22\" ><thead>    <tr>        <th class=\"blank level0\" ></th>        <th class=\"col_heading level0 col0\" >mcBind</th>        <th class=\"col_heading level0 col1\" >iDeep</th>        <th class=\"col_heading level0 col2\" >Shallow mcBind</th>    </tr></thead><tbody>\n                <tr>\n                        <th id=\"T_b2f36130_e7a2_11eb_9611_a34e258a7b22level0_row0\" class=\"row_heading level0 row0\" >1_PARCLIP_AGO1234_hg19</th>\n                        <td id=\"T_b2f36130_e7a2_11eb_9611_a34e258a7b22row0_col0\" class=\"data row0 col0\" >0.943</td>\n                        <td id=\"T_b2f36130_e7a2_11eb_9611_a34e258a7b22row0_col1\" class=\"data row0 col1\" >0.937</td>\n                        <td id=\"T_b2f36130_e7a2_11eb_9611_a34e258a7b22row0_col2\" class=\"data row0 col2\" >0.942</td>\n            </tr>\n            <tr>\n                        <th id=\"T_b2f36130_e7a2_11eb_9611_a34e258a7b22level0_row1\" class=\"row_heading level0 row1\" >2_PARCLIP_AGO2MNASE_hg19</th>\n                        <td id=\"T_b2f36130_e7a2_11eb_9611_a34e258a7b22row1_col0\" class=\"data row1 col0\" >0.761</td>\n                        <td id=\"T_b2f36130_e7a2_11eb_9611_a34e258a7b22row1_col1\" class=\"data row1 col1\" >0.768</td>\n                        <td id=\"T_b2f36130_e7a2_11eb_9611_a34e258a7b22row1_col2\" class=\"data row1 col2\" >0.763</td>\n            </tr>\n            <tr>\n                        <th id=\"T_b2f36130_e7a2_11eb_9611_a34e258a7b22level0_row2\" class=\"row_heading level0 row2\" >3_HITSCLIP_Ago2_binding_clusters</th>\n                        <td id=\"T_b2f36130_e7a2_11eb_9611_a34e258a7b22row2_col0\" class=\"data row2 col0\" >0.940</td>\n                        <td id=\"T_b2f36130_e7a2_11eb_9611_a34e258a7b22row2_col1\" class=\"data row2 col1\" >0.942</td>\n                        <td id=\"T_b2f36130_e7a2_11eb_9611_a34e258a7b22row2_col2\" class=\"data row2 col2\" >0.945</td>\n            </tr>\n            <tr>\n                        <th id=\"T_b2f36130_e7a2_11eb_9611_a34e258a7b22level0_row3\" class=\"row_heading level0 row3\" >4_HITSCLIP_Ago2_binding_clusters_2</th>\n                        <td id=\"T_b2f36130_e7a2_11eb_9611_a34e258a7b22row3_col0\" class=\"data row3 col0\" >0.944</td>\n                        <td id=\"T_b2f36130_e7a2_11eb_9611_a34e258a7b22row3_col1\" class=\"data row3 col1\" >0.943</td>\n                        <td id=\"T_b2f36130_e7a2_11eb_9611_a34e258a7b22row3_col2\" class=\"data row3 col2\" >0.949</td>\n            </tr>\n            <tr>\n                        <th id=\"T_b2f36130_e7a2_11eb_9611_a34e258a7b22level0_row4\" class=\"row_heading level0 row4\" >5_CLIPSEQ_AGO2_hg19</th>\n                        <td id=\"T_b2f36130_e7a2_11eb_9611_a34e258a7b22row4_col0\" class=\"data row4 col0\" >0.764</td>\n                        <td id=\"T_b2f36130_e7a2_11eb_9611_a34e258a7b22row4_col1\" class=\"data row4 col1\" >0.760</td>\n                        <td id=\"T_b2f36130_e7a2_11eb_9611_a34e258a7b22row4_col2\" class=\"data row4 col2\" >0.767</td>\n            </tr>\n            <tr>\n                        <th id=\"T_b2f36130_e7a2_11eb_9611_a34e258a7b22level0_row5\" class=\"row_heading level0 row5\" >6_CLIP-seq-eIF4AIII_1</th>\n                        <td id=\"T_b2f36130_e7a2_11eb_9611_a34e258a7b22row5_col0\" class=\"data row5 col0\" >0.961</td>\n                        <td id=\"T_b2f36130_e7a2_11eb_9611_a34e258a7b22row5_col1\" class=\"data row5 col1\" >0.954</td>\n                        <td id=\"T_b2f36130_e7a2_11eb_9611_a34e258a7b22row5_col2\" class=\"data row5 col2\" >0.932</td>\n            </tr>\n            <tr>\n                        <th id=\"T_b2f36130_e7a2_11eb_9611_a34e258a7b22level0_row6\" class=\"row_heading level0 row6\" >7_CLIP-seq-eIF4AIII_2</th>\n                        <td id=\"T_b2f36130_e7a2_11eb_9611_a34e258a7b22row6_col0\" class=\"data row6 col0\" >0.982</td>\n                        <td id=\"T_b2f36130_e7a2_11eb_9611_a34e258a7b22row6_col1\" class=\"data row6 col1\" >0.969</td>\n                        <td id=\"T_b2f36130_e7a2_11eb_9611_a34e258a7b22row6_col2\" class=\"data row6 col2\" >0.983</td>\n            </tr>\n            <tr>\n                        <th id=\"T_b2f36130_e7a2_11eb_9611_a34e258a7b22level0_row7\" class=\"row_heading level0 row7\" >8_PARCLIP_ELAVL1_hg19</th>\n                        <td id=\"T_b2f36130_e7a2_11eb_9611_a34e258a7b22row7_col0\" class=\"data row7 col0\" >0.972</td>\n                        <td id=\"T_b2f36130_e7a2_11eb_9611_a34e258a7b22row7_col1\" class=\"data row7 col1\" >0.966</td>\n                        <td id=\"T_b2f36130_e7a2_11eb_9611_a34e258a7b22row7_col2\" class=\"data row7 col2\" >0.964</td>\n            </tr>\n            <tr>\n                        <th id=\"T_b2f36130_e7a2_11eb_9611_a34e258a7b22level0_row8\" class=\"row_heading level0 row8\" >9_PARCLIP_ELAVL1MNASE_hg19</th>\n                        <td id=\"T_b2f36130_e7a2_11eb_9611_a34e258a7b22row8_col0\" class=\"data row8 col0\" >0.763</td>\n                        <td id=\"T_b2f36130_e7a2_11eb_9611_a34e258a7b22row8_col1\" class=\"data row8 col1\" >0.762</td>\n                        <td id=\"T_b2f36130_e7a2_11eb_9611_a34e258a7b22row8_col2\" class=\"data row8 col2\" >0.770</td>\n            </tr>\n            <tr>\n                        <th id=\"T_b2f36130_e7a2_11eb_9611_a34e258a7b22level0_row9\" class=\"row_heading level0 row9\" >10_PARCLIP_ELAVL1A_hg19</th>\n                        <td id=\"T_b2f36130_e7a2_11eb_9611_a34e258a7b22row9_col0\" class=\"data row9 col0\" >0.953</td>\n                        <td id=\"T_b2f36130_e7a2_11eb_9611_a34e258a7b22row9_col1\" class=\"data row9 col1\" >0.945</td>\n                        <td id=\"T_b2f36130_e7a2_11eb_9611_a34e258a7b22row9_col2\" class=\"data row9 col2\" >0.954</td>\n            </tr>\n            <tr>\n                        <th id=\"T_b2f36130_e7a2_11eb_9611_a34e258a7b22level0_row10\" class=\"row_heading level0 row10\" >11_CLIPSEQ_ELAVL1_hg19</th>\n                        <td id=\"T_b2f36130_e7a2_11eb_9611_a34e258a7b22row10_col0\" class=\"data row10 col0\" >0.962</td>\n                        <td id=\"T_b2f36130_e7a2_11eb_9611_a34e258a7b22row10_col1\" class=\"data row10 col1\" >0.966</td>\n                        <td id=\"T_b2f36130_e7a2_11eb_9611_a34e258a7b22row10_col2\" class=\"data row10 col2\" >0.964</td>\n            </tr>\n            <tr>\n                        <th id=\"T_b2f36130_e7a2_11eb_9611_a34e258a7b22level0_row11\" class=\"row_heading level0 row11\" >12_PARCLIP_EWSR1_hg19</th>\n                        <td id=\"T_b2f36130_e7a2_11eb_9611_a34e258a7b22row11_col0\" class=\"data row11 col0\" >0.960</td>\n                        <td id=\"T_b2f36130_e7a2_11eb_9611_a34e258a7b22row11_col1\" class=\"data row11 col1\" >0.954</td>\n                        <td id=\"T_b2f36130_e7a2_11eb_9611_a34e258a7b22row11_col2\" class=\"data row11 col2\" >0.936</td>\n            </tr>\n            <tr>\n                        <th id=\"T_b2f36130_e7a2_11eb_9611_a34e258a7b22level0_row12\" class=\"row_heading level0 row12\" >13_PARCLIP_FUS_hg19</th>\n                        <td id=\"T_b2f36130_e7a2_11eb_9611_a34e258a7b22row12_col0\" class=\"data row12 col0\" >0.948</td>\n                        <td id=\"T_b2f36130_e7a2_11eb_9611_a34e258a7b22row12_col1\" class=\"data row12 col1\" >0.945</td>\n                        <td id=\"T_b2f36130_e7a2_11eb_9611_a34e258a7b22row12_col2\" class=\"data row12 col2\" >0.893</td>\n            </tr>\n            <tr>\n                        <th id=\"T_b2f36130_e7a2_11eb_9611_a34e258a7b22level0_row13\" class=\"row_heading level0 row13\" >14_PARCLIP_FUS_mut_hg19</th>\n                        <td id=\"T_b2f36130_e7a2_11eb_9611_a34e258a7b22row13_col0\" class=\"data row13 col0\" >0.992</td>\n                        <td id=\"T_b2f36130_e7a2_11eb_9611_a34e258a7b22row13_col1\" class=\"data row13 col1\" >0.987</td>\n                        <td id=\"T_b2f36130_e7a2_11eb_9611_a34e258a7b22row13_col2\" class=\"data row13 col2\" >0.982</td>\n            </tr>\n            <tr>\n                        <th id=\"T_b2f36130_e7a2_11eb_9611_a34e258a7b22level0_row14\" class=\"row_heading level0 row14\" >15_PARCLIP_IGF2BP123_hg19</th>\n                        <td id=\"T_b2f36130_e7a2_11eb_9611_a34e258a7b22row14_col0\" class=\"data row14 col0\" >0.959</td>\n                        <td id=\"T_b2f36130_e7a2_11eb_9611_a34e258a7b22row14_col1\" class=\"data row14 col1\" >0.955</td>\n                        <td id=\"T_b2f36130_e7a2_11eb_9611_a34e258a7b22row14_col2\" class=\"data row14 col2\" >0.960</td>\n            </tr>\n            <tr>\n                        <th id=\"T_b2f36130_e7a2_11eb_9611_a34e258a7b22level0_row15\" class=\"row_heading level0 row15\" >16_ICLIP_hnRNPC_Hela_iCLIP_all_clusters</th>\n                        <td id=\"T_b2f36130_e7a2_11eb_9611_a34e258a7b22row15_col0\" class=\"data row15 col0\" >0.959</td>\n                        <td id=\"T_b2f36130_e7a2_11eb_9611_a34e258a7b22row15_col1\" class=\"data row15 col1\" >0.947</td>\n                        <td id=\"T_b2f36130_e7a2_11eb_9611_a34e258a7b22row15_col2\" class=\"data row15 col2\" >0.929</td>\n            </tr>\n            <tr>\n                        <th id=\"T_b2f36130_e7a2_11eb_9611_a34e258a7b22level0_row16\" class=\"row_heading level0 row16\" >17_ICLIP_HNRNPC_hg19</th>\n                        <td id=\"T_b2f36130_e7a2_11eb_9611_a34e258a7b22row16_col0\" class=\"data row16 col0\" >0.972</td>\n                        <td id=\"T_b2f36130_e7a2_11eb_9611_a34e258a7b22row16_col1\" class=\"data row16 col1\" >0.966</td>\n                        <td id=\"T_b2f36130_e7a2_11eb_9611_a34e258a7b22row16_col2\" class=\"data row16 col2\" >0.949</td>\n            </tr>\n            <tr>\n                        <th id=\"T_b2f36130_e7a2_11eb_9611_a34e258a7b22level0_row17\" class=\"row_heading level0 row17\" >18_ICLIP_hnRNPL_Hela_group_3975_all-hnRNPL-Hela-hg19_sum_G_hg19--ensembl59_from_2337-2339-741_bedGraph-cDNA-hits-in-genome</th>\n                        <td id=\"T_b2f36130_e7a2_11eb_9611_a34e258a7b22row17_col0\" class=\"data row17 col0\" >0.851</td>\n                        <td id=\"T_b2f36130_e7a2_11eb_9611_a34e258a7b22row17_col1\" class=\"data row17 col1\" >0.842</td>\n                        <td id=\"T_b2f36130_e7a2_11eb_9611_a34e258a7b22row17_col2\" class=\"data row17 col2\" >0.848</td>\n            </tr>\n            <tr>\n                        <th id=\"T_b2f36130_e7a2_11eb_9611_a34e258a7b22level0_row18\" class=\"row_heading level0 row18\" >19_ICLIP_hnRNPL_U266_group_3986_all-hnRNPL-U266-hg19_sum_G_hg19--ensembl59_from_2485_bedGraph-cDNA-hits-in-genome</th>\n                        <td id=\"T_b2f36130_e7a2_11eb_9611_a34e258a7b22row18_col0\" class=\"data row18 col0\" >0.788</td>\n                        <td id=\"T_b2f36130_e7a2_11eb_9611_a34e258a7b22row18_col1\" class=\"data row18 col1\" >0.825</td>\n                        <td id=\"T_b2f36130_e7a2_11eb_9611_a34e258a7b22row18_col2\" class=\"data row18 col2\" >0.783</td>\n            </tr>\n            <tr>\n                        <th id=\"T_b2f36130_e7a2_11eb_9611_a34e258a7b22level0_row19\" class=\"row_heading level0 row19\" >20_ICLIP_hnRNPlike_U266_group_4000_all-hnRNPLlike-U266-hg19_sum_G_hg19--ensembl59_from_2342-2486_bedGraph-cDNA-hits-in-genome</th>\n                        <td id=\"T_b2f36130_e7a2_11eb_9611_a34e258a7b22row19_col0\" class=\"data row19 col0\" >0.791</td>\n                        <td id=\"T_b2f36130_e7a2_11eb_9611_a34e258a7b22row19_col1\" class=\"data row19 col1\" >0.829</td>\n                        <td id=\"T_b2f36130_e7a2_11eb_9611_a34e258a7b22row19_col2\" class=\"data row19 col2\" >0.792</td>\n            </tr>\n            <tr>\n                        <th id=\"T_b2f36130_e7a2_11eb_9611_a34e258a7b22level0_row20\" class=\"row_heading level0 row20\" >21_PARCLIP_MOV10_Sievers_hg19</th>\n                        <td id=\"T_b2f36130_e7a2_11eb_9611_a34e258a7b22row20_col0\" class=\"data row20 col0\" >0.977</td>\n                        <td id=\"T_b2f36130_e7a2_11eb_9611_a34e258a7b22row20_col1\" class=\"data row20 col1\" >0.970</td>\n                        <td id=\"T_b2f36130_e7a2_11eb_9611_a34e258a7b22row20_col2\" class=\"data row20 col2\" >0.979</td>\n            </tr>\n            <tr>\n                        <th id=\"T_b2f36130_e7a2_11eb_9611_a34e258a7b22level0_row21\" class=\"row_heading level0 row21\" >22_ICLIP_NSUN2_293_group_4007_all-NSUN2-293-hg19_sum_G_hg19--ensembl59_from_3137-3202_bedGraph-cDNA-hits-in-genome</th>\n                        <td id=\"T_b2f36130_e7a2_11eb_9611_a34e258a7b22row21_col0\" class=\"data row21 col0\" >0.866</td>\n                        <td id=\"T_b2f36130_e7a2_11eb_9611_a34e258a7b22row21_col1\" class=\"data row21 col1\" >0.886</td>\n                        <td id=\"T_b2f36130_e7a2_11eb_9611_a34e258a7b22row21_col2\" class=\"data row21 col2\" >0.867</td>\n            </tr>\n            <tr>\n                        <th id=\"T_b2f36130_e7a2_11eb_9611_a34e258a7b22level0_row22\" class=\"row_heading level0 row22\" >23_PARCLIP_PUM2_hg19</th>\n                        <td id=\"T_b2f36130_e7a2_11eb_9611_a34e258a7b22row22_col0\" class=\"data row22 col0\" >0.988</td>\n                        <td id=\"T_b2f36130_e7a2_11eb_9611_a34e258a7b22row22_col1\" class=\"data row22 col1\" >0.983</td>\n                        <td id=\"T_b2f36130_e7a2_11eb_9611_a34e258a7b22row22_col2\" class=\"data row22 col2\" >0.980</td>\n            </tr>\n            <tr>\n                        <th id=\"T_b2f36130_e7a2_11eb_9611_a34e258a7b22level0_row23\" class=\"row_heading level0 row23\" >24_PARCLIP_QKI_hg19</th>\n                        <td id=\"T_b2f36130_e7a2_11eb_9611_a34e258a7b22row23_col0\" class=\"data row23 col0\" >0.979</td>\n                        <td id=\"T_b2f36130_e7a2_11eb_9611_a34e258a7b22row23_col1\" class=\"data row23 col1\" >0.975</td>\n                        <td id=\"T_b2f36130_e7a2_11eb_9611_a34e258a7b22row23_col2\" class=\"data row23 col2\" >0.958</td>\n            </tr>\n            <tr>\n                        <th id=\"T_b2f36130_e7a2_11eb_9611_a34e258a7b22level0_row24\" class=\"row_heading level0 row24\" >25_CLIPSEQ_SFRS1_hg19</th>\n                        <td id=\"T_b2f36130_e7a2_11eb_9611_a34e258a7b22row24_col0\" class=\"data row24 col0\" >0.930</td>\n                        <td id=\"T_b2f36130_e7a2_11eb_9611_a34e258a7b22row24_col1\" class=\"data row24 col1\" >0.930</td>\n                        <td id=\"T_b2f36130_e7a2_11eb_9611_a34e258a7b22row24_col2\" class=\"data row24 col2\" >0.923</td>\n            </tr>\n            <tr>\n                        <th id=\"T_b2f36130_e7a2_11eb_9611_a34e258a7b22level0_row25\" class=\"row_heading level0 row25\" >26_PARCLIP_TAF15_hg19</th>\n                        <td id=\"T_b2f36130_e7a2_11eb_9611_a34e258a7b22row25_col0\" class=\"data row25 col0\" >0.981</td>\n                        <td id=\"T_b2f36130_e7a2_11eb_9611_a34e258a7b22row25_col1\" class=\"data row25 col1\" >0.977</td>\n                        <td id=\"T_b2f36130_e7a2_11eb_9611_a34e258a7b22row25_col2\" class=\"data row25 col2\" >0.950</td>\n            </tr>\n            <tr>\n                        <th id=\"T_b2f36130_e7a2_11eb_9611_a34e258a7b22level0_row26\" class=\"row_heading level0 row26\" >27_ICLIP_TDP43_hg19</th>\n                        <td id=\"T_b2f36130_e7a2_11eb_9611_a34e258a7b22row26_col0\" class=\"data row26 col0\" >0.919</td>\n                        <td id=\"T_b2f36130_e7a2_11eb_9611_a34e258a7b22row26_col1\" class=\"data row26 col1\" >0.914</td>\n                        <td id=\"T_b2f36130_e7a2_11eb_9611_a34e258a7b22row26_col2\" class=\"data row26 col2\" >0.917</td>\n            </tr>\n            <tr>\n                        <th id=\"T_b2f36130_e7a2_11eb_9611_a34e258a7b22level0_row27\" class=\"row_heading level0 row27\" >28_ICLIP_TIA1_hg19</th>\n                        <td id=\"T_b2f36130_e7a2_11eb_9611_a34e258a7b22row27_col0\" class=\"data row27 col0\" >0.974</td>\n                        <td id=\"T_b2f36130_e7a2_11eb_9611_a34e258a7b22row27_col1\" class=\"data row27 col1\" >0.949</td>\n                        <td id=\"T_b2f36130_e7a2_11eb_9611_a34e258a7b22row27_col2\" class=\"data row27 col2\" >0.961</td>\n            </tr>\n            <tr>\n                        <th id=\"T_b2f36130_e7a2_11eb_9611_a34e258a7b22level0_row28\" class=\"row_heading level0 row28\" >29_ICLIP_TIAL1_hg19</th>\n                        <td id=\"T_b2f36130_e7a2_11eb_9611_a34e258a7b22row28_col0\" class=\"data row28 col0\" >0.945</td>\n                        <td id=\"T_b2f36130_e7a2_11eb_9611_a34e258a7b22row28_col1\" class=\"data row28 col1\" >0.920</td>\n                        <td id=\"T_b2f36130_e7a2_11eb_9611_a34e258a7b22row28_col2\" class=\"data row28 col2\" >0.931</td>\n            </tr>\n            <tr>\n                        <th id=\"T_b2f36130_e7a2_11eb_9611_a34e258a7b22level0_row29\" class=\"row_heading level0 row29\" >30_ICLIP_U2AF65_Hela_iCLIP_ctrl_all_clusters</th>\n                        <td id=\"T_b2f36130_e7a2_11eb_9611_a34e258a7b22row29_col0\" class=\"data row29 col0\" >0.944</td>\n                        <td id=\"T_b2f36130_e7a2_11eb_9611_a34e258a7b22row29_col1\" class=\"data row29 col1\" >0.951</td>\n                        <td id=\"T_b2f36130_e7a2_11eb_9611_a34e258a7b22row29_col2\" class=\"data row29 col2\" >0.904</td>\n            </tr>\n            <tr>\n                        <th id=\"T_b2f36130_e7a2_11eb_9611_a34e258a7b22level0_row30\" class=\"row_heading level0 row30\" >31_ICLIP_U2AF65_Hela_iCLIP_ctrl+kd_all_clusters</th>\n                        <td id=\"T_b2f36130_e7a2_11eb_9611_a34e258a7b22row30_col0\" class=\"data row30 col0\" >0.942</td>\n                        <td id=\"T_b2f36130_e7a2_11eb_9611_a34e258a7b22row30_col1\" class=\"data row30 col1\" >0.942</td>\n                        <td id=\"T_b2f36130_e7a2_11eb_9611_a34e258a7b22row30_col2\" class=\"data row30 col2\" >0.915</td>\n            </tr>\n    </tbody></table>"
     },
     "metadata": {},
     "execution_count": 7
    }
   ],
   "source": [
    "with open(\"results/scores_dict.pkl\" , \"rb\") as pkl:\n",
    "    scores_dict = pickle.load(pkl)\n",
    "\n",
    "def latex_highlight(x):\n",
    "    is_max = x == x.max()\n",
    "    return [f'\\\\textbf{{{np.round(val, 3)}}}' if v else np.round(val, 3) for val, v in zip(x, is_max)]\n",
    "def highlight_max(s):\n",
    "    \"\"\"Marks the series in bold.\"\"\"\n",
    "    is_max = s == s.max()\n",
    "    return ['font-weight:bold' if v else '' for v in is_max]\n",
    "\n",
    "def get_ideep_scores():\n",
    "    ideep_scores = {}\n",
    "    for training_set in range(3):\n",
    "        for protein in protein_list:\n",
    "            predictions = np.loadtxt(f\"ideep_results/predictions_{training_set}/{protein}\", delimiter=\"\\n\", unpack=False)\n",
    "            predictions = np.array(predictions)\n",
    "\n",
    "            Y_test =  get_class(protein, \"test\", training_set)\n",
    "            Y_test = Y_test[:,1]\n",
    "\n",
    "            score = roc_auc_score(Y_test, predictions)\n",
    "            \n",
    "            if protein in ideep_scores:\n",
    "                ideep_scores[protein].append(score)\n",
    "            else:\n",
    "                ideep_scores[protein] = [score]\n",
    "    return ideep_scores\n",
    "\n",
    "ideep_scores = get_ideep_scores()\n",
    "ideep = pd.DataFrame.from_dict(ideep_scores, orient=\"index\").reindex(protein_list).mean(axis=1).rename(\"iDeep\")\n",
    "new = [v for v in scores_dict.values()]\n",
    "shallow = shallow_results.mean(axis=1).to_list()\n",
    "\n",
    "table_data = {'mcBind': new, 'iDeep': ideep, 'Shallow mcBind': shallow}\n",
    "\n",
    "table = pd.DataFrame(table_data, index=protein_list)\n",
    "\n",
    "d1 = np.subtract(new, ideep)\n",
    "d2 = np.subtract(new, shallow)\n",
    "\n",
    "n1 = sum(1 for number in d1 if number > 0)\n",
    "n2 = sum(1 for number in d2 if number > 0)\n",
    "\n",
    "print(\"Mean difference with iDeep is %s \" % (np.mean(d1)))\n",
    "print(\"Number of proteins for which our model is better: %s \" % (n1))\n",
    "print(\"Mean difference with Shallow mcbind is %s \" % (np.mean(d2)))\n",
    "print(\"Number of proteins for which our model is better: %s \" % (n2))\n",
    "\n",
    "\n",
    "with pd.option_context('display.precision', 3):\n",
    "    html = (table.style.apply(highlight_max, axis=1))\n",
    "latex_table = table.apply(latex_highlight, axis=1, result_type='expand')\n",
    "\n",
    "html\n",
    "\n"
   ]
  },
  {
   "cell_type": "code",
   "execution_count": 8,
   "metadata": {},
   "outputs": [
    {
     "output_type": "stream",
     "name": "stdout",
     "text": [
      "\\begin{tabular}{llll}\n\\toprule\n{} &               0 &               1 &               2 \\\\\n\\midrule\n1_PARCLIP_AGO1234_hg19                             &  \\textbf{0.943} &           0.937 &           0.942 \\\\\n2_PARCLIP_AGO2MNASE_hg19                           &           0.761 &  \\textbf{0.768} &           0.763 \\\\\n3_HITSCLIP_Ago2_binding_clusters                   &            0.94 &           0.942 &  \\textbf{0.945} \\\\\n4_HITSCLIP_Ago2_binding_clusters_2                 &           0.944 &           0.943 &  \\textbf{0.949} \\\\\n5_CLIPSEQ_AGO2_hg19                                &           0.764 &            0.76 &  \\textbf{0.767} \\\\\n6_CLIP-seq-eIF4AIII_1                              &  \\textbf{0.961} &           0.954 &           0.932 \\\\\n7_CLIP-seq-eIF4AIII_2                              &           0.982 &           0.969 &  \\textbf{0.983} \\\\\n8_PARCLIP_ELAVL1_hg19                              &  \\textbf{0.972} &           0.966 &           0.964 \\\\\n9_PARCLIP_ELAVL1MNASE_hg19                         &           0.763 &           0.762 &   \\textbf{0.77} \\\\\n10_PARCLIP_ELAVL1A_hg19                            &           0.953 &           0.945 &  \\textbf{0.954} \\\\\n11_CLIPSEQ_ELAVL1_hg19                             &           0.962 &  \\textbf{0.966} &           0.964 \\\\\n12_PARCLIP_EWSR1_hg19                              &   \\textbf{0.96} &           0.954 &           0.936 \\\\\n13_PARCLIP_FUS_hg19                                &  \\textbf{0.948} &           0.945 &           0.893 \\\\\n14_PARCLIP_FUS_mut_hg19                            &  \\textbf{0.992} &           0.987 &           0.982 \\\\\n15_PARCLIP_IGF2BP123_hg19                          &           0.959 &           0.955 &   \\textbf{0.96} \\\\\n16_ICLIP_hnRNPC_Hela_iCLIP_all_clusters            &  \\textbf{0.959} &           0.947 &           0.929 \\\\\n17_ICLIP_HNRNPC_hg19                               &  \\textbf{0.972} &           0.966 &           0.949 \\\\\n18_ICLIP_hnRNPL_Hela_group_3975_all-hnRNPL-Hela... &  \\textbf{0.851} &           0.842 &           0.848 \\\\\n19_ICLIP_hnRNPL_U266_group_3986_all-hnRNPL-U266... &           0.788 &  \\textbf{0.825} &           0.783 \\\\\n20_ICLIP_hnRNPlike_U266_group_4000_all-hnRNPLli... &           0.791 &  \\textbf{0.829} &           0.792 \\\\\n21_PARCLIP_MOV10_Sievers_hg19                      &           0.977 &            0.97 &  \\textbf{0.979} \\\\\n22_ICLIP_NSUN2_293_group_4007_all-NSUN2-293-hg1... &           0.866 &  \\textbf{0.886} &           0.867 \\\\\n23_PARCLIP_PUM2_hg19                               &  \\textbf{0.988} &           0.983 &            0.98 \\\\\n24_PARCLIP_QKI_hg19                                &  \\textbf{0.979} &           0.975 &           0.958 \\\\\n25_CLIPSEQ_SFRS1_hg19                              &   \\textbf{0.93} &            0.93 &           0.923 \\\\\n26_PARCLIP_TAF15_hg19                              &  \\textbf{0.981} &           0.977 &            0.95 \\\\\n27_ICLIP_TDP43_hg19                                &  \\textbf{0.919} &           0.914 &           0.917 \\\\\n28_ICLIP_TIA1_hg19                                 &  \\textbf{0.974} &           0.949 &           0.961 \\\\\n29_ICLIP_TIAL1_hg19                                &  \\textbf{0.945} &            0.92 &           0.931 \\\\\n30_ICLIP_U2AF65_Hela_iCLIP_ctrl_all_clusters       &           0.944 &  \\textbf{0.951} &           0.904 \\\\\n31_ICLIP_U2AF65_Hela_iCLIP_ctrl+kd_all_clusters    &  \\textbf{0.942} &           0.942 &           0.915 \\\\\n\\bottomrule\n\\end{tabular}\n\n"
     ]
    }
   ],
   "source": [
    "print(latex_table.to_latex(escape=False))"
   ]
  },
  {
   "cell_type": "code",
   "execution_count": 18,
   "metadata": {},
   "outputs": [
    {
     "output_type": "display_data",
     "data": {
      "text/plain": "<Figure size 1152x288 with 1 Axes>",
      "image/svg+xml": "<?xml version=\"1.0\" encoding=\"utf-8\" standalone=\"no\"?>\n<!DOCTYPE svg PUBLIC \"-//W3C//DTD SVG 1.1//EN\"\n  \"http://www.w3.org/Graphics/SVG/1.1/DTD/svg11.dtd\">\n<!-- Created with matplotlib (https://matplotlib.org/) -->\n<svg height=\"302.4pt\" version=\"1.1\" viewBox=\"0 0 1166.4 302.4\" width=\"1166.4pt\" xmlns=\"http://www.w3.org/2000/svg\" xmlns:xlink=\"http://www.w3.org/1999/xlink\">\n <metadata>\n  <rdf:RDF xmlns:cc=\"http://creativecommons.org/ns#\" xmlns:dc=\"http://purl.org/dc/elements/1.1/\" xmlns:rdf=\"http://www.w3.org/1999/02/22-rdf-syntax-ns#\">\n   <cc:Work>\n    <dc:type rdf:resource=\"http://purl.org/dc/dcmitype/StillImage\"/>\n    <dc:date>2021-07-18T10:08:43.117759</dc:date>\n    <dc:format>image/svg+xml</dc:format>\n    <dc:creator>\n     <cc:Agent>\n      <dc:title>Matplotlib v3.3.2, https://matplotlib.org/</dc:title>\n     </cc:Agent>\n    </dc:creator>\n   </cc:Work>\n  </rdf:RDF>\n </metadata>\n <defs>\n  <style type=\"text/css\">*{stroke-linecap:butt;stroke-linejoin:round;}</style>\n </defs>\n <g id=\"figure_1\">\n  <g id=\"patch_1\">\n   <path d=\"M 0 302.4 \nL 1166.4 302.4 \nL 1166.4 0 \nL 0 0 \nz\n\" style=\"fill:#ffffff;\"/>\n  </g>\n  <g id=\"axes_1\">\n   <g id=\"line2d_1\">\n    <path clip-path=\"url(#pde4d0c6828)\" d=\"M 7.2 7.2 \nL 1159.2 295.2 \n\" style=\"fill:none;stroke:#ffffff;stroke-linecap:square;stroke-width:1.75;\"/>\n   </g>\n   <g id=\"line2d_2\">\n    <path clip-path=\"url(#pde4d0c6828)\" d=\"M 199.2 136.303448 \nL 967.2 136.303448 \n\" style=\"fill:none;stroke:#000000;stroke-linecap:square;stroke-width:0.7;\"/>\n   </g>\n   <g id=\"line2d_3\">\n    <path clip-path=\"url(#pde4d0c6828)\" d=\"M 199.2 126.372414 \nL 199.2 136.303448 \n\" style=\"fill:none;stroke:#000000;stroke-linecap:square;stroke-width:0.7;\"/>\n   </g>\n   <g id=\"line2d_4\">\n    <path clip-path=\"url(#pde4d0c6828)\" d=\"M 391.2 131.337931 \nL 391.2 136.303448 \n\" style=\"fill:none;stroke:#000000;stroke-linecap:square;stroke-width:0.7;\"/>\n   </g>\n   <g id=\"line2d_5\">\n    <path clip-path=\"url(#pde4d0c6828)\" d=\"M 583.2 126.372414 \nL 583.2 136.303448 \n\" style=\"fill:none;stroke:#000000;stroke-linecap:square;stroke-width:0.7;\"/>\n   </g>\n   <g id=\"line2d_6\">\n    <path clip-path=\"url(#pde4d0c6828)\" d=\"M 775.2 131.337931 \nL 775.2 136.303448 \n\" style=\"fill:none;stroke:#000000;stroke-linecap:square;stroke-width:0.7;\"/>\n   </g>\n   <g id=\"line2d_7\">\n    <path clip-path=\"url(#pde4d0c6828)\" d=\"M 967.2 126.372414 \nL 967.2 136.303448 \n\" style=\"fill:none;stroke:#000000;stroke-linecap:square;stroke-width:0.7;\"/>\n   </g>\n   <g id=\"line2d_8\">\n    <path clip-path=\"url(#pde4d0c6828)\" d=\"M 434.554839 136.303448 \nL 434.554839 215.751724 \nL 180 215.751724 \n\" style=\"fill:none;stroke:#000000;stroke-linecap:square;stroke-width:0.7;\"/>\n   </g>\n   <g id=\"line2d_9\">\n    <path clip-path=\"url(#pde4d0c6828)\" d=\"M 657.522581 136.303448 \nL 657.522581 255.475862 \nL 180 255.475862 \n\" style=\"fill:none;stroke:#000000;stroke-linecap:square;stroke-width:0.7;\"/>\n   </g>\n   <g id=\"line2d_10\">\n    <path clip-path=\"url(#pde4d0c6828)\" d=\"M 657.522581 136.303448 \nL 657.522581 215.751724 \nL 986.4 215.751724 \n\" style=\"fill:none;stroke:#000000;stroke-linecap:square;stroke-width:0.7;\"/>\n   </g>\n   <g id=\"line2d_11\">\n    <path clip-path=\"url(#pde4d0c6828)\" d=\"M 199.2 56.855172 \nL 427.795449 56.855172 \n\" style=\"fill:none;stroke:#000000;stroke-linecap:square;stroke-width:0.7;\"/>\n   </g>\n   <g id=\"line2d_12\">\n    <path clip-path=\"url(#pde4d0c6828)\" d=\"M 199.2 66.786207 \nL 199.2 46.924138 \n\" style=\"fill:none;stroke:#000000;stroke-linecap:square;stroke-width:0.7;\"/>\n   </g>\n   <g id=\"line2d_13\">\n    <path clip-path=\"url(#pde4d0c6828)\" d=\"M 427.795449 66.786207 \nL 427.795449 46.924138 \n\" style=\"fill:none;stroke:#000000;stroke-linecap:square;stroke-width:0.7;\"/>\n   </g>\n   <g id=\"line2d_14\">\n    <path clip-path=\"url(#pde4d0c6828)\" d=\"M 424.954839 176.027586 \nL 667.122581 176.027586 \n\" style=\"fill:none;stroke:#000000;stroke-linecap:square;stroke-width:2.5;\"/>\n   </g>\n   <g id=\"text_1\">\n    <!-- 1 -->\n    <g transform=\"translate(196.01875 114.361692)scale(0.1 -0.1)\">\n     <defs>\n      <path d=\"M 12.40625 8.296875 \nL 28.515625 8.296875 \nL 28.515625 63.921875 \nL 10.984375 60.40625 \nL 10.984375 69.390625 \nL 28.421875 72.90625 \nL 38.28125 72.90625 \nL 38.28125 8.296875 \nL 54.390625 8.296875 \nL 54.390625 0 \nL 12.40625 0 \nz\n\" id=\"DejaVuSans-49\"/>\n     </defs>\n     <use xlink:href=\"#DejaVuSans-49\"/>\n    </g>\n   </g>\n   <g id=\"text_2\">\n    <!-- 2 -->\n    <g transform=\"translate(580.01875 114.361692)scale(0.1 -0.1)\">\n     <defs>\n      <path d=\"M 19.1875 8.296875 \nL 53.609375 8.296875 \nL 53.609375 0 \nL 7.328125 0 \nL 7.328125 8.296875 \nQ 12.9375 14.109375 22.625 23.890625 \nQ 32.328125 33.6875 34.8125 36.53125 \nQ 39.546875 41.84375 41.421875 45.53125 \nQ 43.3125 49.21875 43.3125 52.78125 \nQ 43.3125 58.59375 39.234375 62.25 \nQ 35.15625 65.921875 28.609375 65.921875 \nQ 23.96875 65.921875 18.8125 64.3125 \nQ 13.671875 62.703125 7.8125 59.421875 \nL 7.8125 69.390625 \nQ 13.765625 71.78125 18.9375 73 \nQ 24.125 74.21875 28.421875 74.21875 \nQ 39.75 74.21875 46.484375 68.546875 \nQ 53.21875 62.890625 53.21875 53.421875 \nQ 53.21875 48.921875 51.53125 44.890625 \nQ 49.859375 40.875 45.40625 35.40625 \nQ 44.1875 33.984375 37.640625 27.21875 \nQ 31.109375 20.453125 19.1875 8.296875 \nz\n\" id=\"DejaVuSans-50\"/>\n     </defs>\n     <use xlink:href=\"#DejaVuSans-50\"/>\n    </g>\n   </g>\n   <g id=\"text_3\">\n    <!-- 3 -->\n    <g transform=\"translate(964.01875 114.361692)scale(0.1 -0.1)\">\n     <defs>\n      <path d=\"M 40.578125 39.3125 \nQ 47.65625 37.796875 51.625 33 \nQ 55.609375 28.21875 55.609375 21.1875 \nQ 55.609375 10.40625 48.1875 4.484375 \nQ 40.765625 -1.421875 27.09375 -1.421875 \nQ 22.515625 -1.421875 17.65625 -0.515625 \nQ 12.796875 0.390625 7.625 2.203125 \nL 7.625 11.71875 \nQ 11.71875 9.328125 16.59375 8.109375 \nQ 21.484375 6.890625 26.8125 6.890625 \nQ 36.078125 6.890625 40.9375 10.546875 \nQ 45.796875 14.203125 45.796875 21.1875 \nQ 45.796875 27.640625 41.28125 31.265625 \nQ 36.765625 34.90625 28.71875 34.90625 \nL 20.21875 34.90625 \nL 20.21875 43.015625 \nL 29.109375 43.015625 \nQ 36.375 43.015625 40.234375 45.921875 \nQ 44.09375 48.828125 44.09375 54.296875 \nQ 44.09375 59.90625 40.109375 62.90625 \nQ 36.140625 65.921875 28.71875 65.921875 \nQ 24.65625 65.921875 20.015625 65.03125 \nQ 15.375 64.15625 9.8125 62.3125 \nL 9.8125 71.09375 \nQ 15.4375 72.65625 20.34375 73.4375 \nQ 25.25 74.21875 29.59375 74.21875 \nQ 40.828125 74.21875 47.359375 69.109375 \nQ 53.90625 64.015625 53.90625 55.328125 \nQ 53.90625 49.265625 50.4375 45.09375 \nQ 46.96875 40.921875 40.578125 39.3125 \nz\n\" id=\"DejaVuSans-51\"/>\n     </defs>\n     <use xlink:href=\"#DejaVuSans-51\"/>\n    </g>\n   </g>\n   <g id=\"text_4\">\n    <!-- mcBind -->\n    <g transform=\"translate(123.235937 218.511099)scale(0.1 -0.1)\">\n     <defs>\n      <path d=\"M 52 44.1875 \nQ 55.375 50.25 60.0625 53.125 \nQ 64.75 56 71.09375 56 \nQ 79.640625 56 84.28125 50.015625 \nQ 88.921875 44.046875 88.921875 33.015625 \nL 88.921875 0 \nL 79.890625 0 \nL 79.890625 32.71875 \nQ 79.890625 40.578125 77.09375 44.375 \nQ 74.3125 48.1875 68.609375 48.1875 \nQ 61.625 48.1875 57.5625 43.546875 \nQ 53.515625 38.921875 53.515625 30.90625 \nL 53.515625 0 \nL 44.484375 0 \nL 44.484375 32.71875 \nQ 44.484375 40.625 41.703125 44.40625 \nQ 38.921875 48.1875 33.109375 48.1875 \nQ 26.21875 48.1875 22.15625 43.53125 \nQ 18.109375 38.875 18.109375 30.90625 \nL 18.109375 0 \nL 9.078125 0 \nL 9.078125 54.6875 \nL 18.109375 54.6875 \nL 18.109375 46.1875 \nQ 21.1875 51.21875 25.484375 53.609375 \nQ 29.78125 56 35.6875 56 \nQ 41.65625 56 45.828125 52.96875 \nQ 50 49.953125 52 44.1875 \nz\n\" id=\"DejaVuSans-109\"/>\n      <path d=\"M 48.78125 52.59375 \nL 48.78125 44.1875 \nQ 44.96875 46.296875 41.140625 47.34375 \nQ 37.3125 48.390625 33.40625 48.390625 \nQ 24.65625 48.390625 19.8125 42.84375 \nQ 14.984375 37.3125 14.984375 27.296875 \nQ 14.984375 17.28125 19.8125 11.734375 \nQ 24.65625 6.203125 33.40625 6.203125 \nQ 37.3125 6.203125 41.140625 7.25 \nQ 44.96875 8.296875 48.78125 10.40625 \nL 48.78125 2.09375 \nQ 45.015625 0.34375 40.984375 -0.53125 \nQ 36.96875 -1.421875 32.421875 -1.421875 \nQ 20.0625 -1.421875 12.78125 6.34375 \nQ 5.515625 14.109375 5.515625 27.296875 \nQ 5.515625 40.671875 12.859375 48.328125 \nQ 20.21875 56 33.015625 56 \nQ 37.15625 56 41.109375 55.140625 \nQ 45.0625 54.296875 48.78125 52.59375 \nz\n\" id=\"DejaVuSans-99\"/>\n      <path d=\"M 19.671875 34.8125 \nL 19.671875 8.109375 \nL 35.5 8.109375 \nQ 43.453125 8.109375 47.28125 11.40625 \nQ 51.125 14.703125 51.125 21.484375 \nQ 51.125 28.328125 47.28125 31.5625 \nQ 43.453125 34.8125 35.5 34.8125 \nz\nM 19.671875 64.796875 \nL 19.671875 42.828125 \nL 34.28125 42.828125 \nQ 41.5 42.828125 45.03125 45.53125 \nQ 48.578125 48.25 48.578125 53.8125 \nQ 48.578125 59.328125 45.03125 62.0625 \nQ 41.5 64.796875 34.28125 64.796875 \nz\nM 9.8125 72.90625 \nL 35.015625 72.90625 \nQ 46.296875 72.90625 52.390625 68.21875 \nQ 58.5 63.53125 58.5 54.890625 \nQ 58.5 48.1875 55.375 44.234375 \nQ 52.25 40.28125 46.1875 39.3125 \nQ 53.46875 37.75 57.5 32.78125 \nQ 61.53125 27.828125 61.53125 20.40625 \nQ 61.53125 10.640625 54.890625 5.3125 \nQ 48.25 0 35.984375 0 \nL 9.8125 0 \nz\n\" id=\"DejaVuSans-66\"/>\n      <path d=\"M 9.421875 54.6875 \nL 18.40625 54.6875 \nL 18.40625 0 \nL 9.421875 0 \nz\nM 9.421875 75.984375 \nL 18.40625 75.984375 \nL 18.40625 64.59375 \nL 9.421875 64.59375 \nz\n\" id=\"DejaVuSans-105\"/>\n      <path d=\"M 54.890625 33.015625 \nL 54.890625 0 \nL 45.90625 0 \nL 45.90625 32.71875 \nQ 45.90625 40.484375 42.875 44.328125 \nQ 39.84375 48.1875 33.796875 48.1875 \nQ 26.515625 48.1875 22.3125 43.546875 \nQ 18.109375 38.921875 18.109375 30.90625 \nL 18.109375 0 \nL 9.078125 0 \nL 9.078125 54.6875 \nL 18.109375 54.6875 \nL 18.109375 46.1875 \nQ 21.34375 51.125 25.703125 53.5625 \nQ 30.078125 56 35.796875 56 \nQ 45.21875 56 50.046875 50.171875 \nQ 54.890625 44.34375 54.890625 33.015625 \nz\n\" id=\"DejaVuSans-110\"/>\n      <path d=\"M 45.40625 46.390625 \nL 45.40625 75.984375 \nL 54.390625 75.984375 \nL 54.390625 0 \nL 45.40625 0 \nL 45.40625 8.203125 \nQ 42.578125 3.328125 38.25 0.953125 \nQ 33.9375 -1.421875 27.875 -1.421875 \nQ 17.96875 -1.421875 11.734375 6.484375 \nQ 5.515625 14.40625 5.515625 27.296875 \nQ 5.515625 40.1875 11.734375 48.09375 \nQ 17.96875 56 27.875 56 \nQ 33.9375 56 38.25 53.625 \nQ 42.578125 51.265625 45.40625 46.390625 \nz\nM 14.796875 27.296875 \nQ 14.796875 17.390625 18.875 11.75 \nQ 22.953125 6.109375 30.078125 6.109375 \nQ 37.203125 6.109375 41.296875 11.75 \nQ 45.40625 17.390625 45.40625 27.296875 \nQ 45.40625 37.203125 41.296875 42.84375 \nQ 37.203125 48.484375 30.078125 48.484375 \nQ 22.953125 48.484375 18.875 42.84375 \nQ 14.796875 37.203125 14.796875 27.296875 \nz\n\" id=\"DejaVuSans-100\"/>\n     </defs>\n     <use xlink:href=\"#DejaVuSans-109\"/>\n     <use x=\"97.412109\" xlink:href=\"#DejaVuSans-99\"/>\n     <use x=\"152.392578\" xlink:href=\"#DejaVuSans-66\"/>\n     <use x=\"220.996094\" xlink:href=\"#DejaVuSans-105\"/>\n     <use x=\"248.779297\" xlink:href=\"#DejaVuSans-110\"/>\n     <use x=\"312.158203\" xlink:href=\"#DejaVuSans-100\"/>\n    </g>\n   </g>\n   <g id=\"text_5\">\n    <!-- iDeep -->\n    <g transform=\"translate(131.667187 258.235237)scale(0.1 -0.1)\">\n     <defs>\n      <path d=\"M 19.671875 64.796875 \nL 19.671875 8.109375 \nL 31.59375 8.109375 \nQ 46.6875 8.109375 53.6875 14.9375 \nQ 60.6875 21.78125 60.6875 36.53125 \nQ 60.6875 51.171875 53.6875 57.984375 \nQ 46.6875 64.796875 31.59375 64.796875 \nz\nM 9.8125 72.90625 \nL 30.078125 72.90625 \nQ 51.265625 72.90625 61.171875 64.09375 \nQ 71.09375 55.28125 71.09375 36.53125 \nQ 71.09375 17.671875 61.125 8.828125 \nQ 51.171875 0 30.078125 0 \nL 9.8125 0 \nz\n\" id=\"DejaVuSans-68\"/>\n      <path d=\"M 56.203125 29.59375 \nL 56.203125 25.203125 \nL 14.890625 25.203125 \nQ 15.484375 15.921875 20.484375 11.0625 \nQ 25.484375 6.203125 34.421875 6.203125 \nQ 39.59375 6.203125 44.453125 7.46875 \nQ 49.3125 8.734375 54.109375 11.28125 \nL 54.109375 2.78125 \nQ 49.265625 0.734375 44.1875 -0.34375 \nQ 39.109375 -1.421875 33.890625 -1.421875 \nQ 20.796875 -1.421875 13.15625 6.1875 \nQ 5.515625 13.8125 5.515625 26.8125 \nQ 5.515625 40.234375 12.765625 48.109375 \nQ 20.015625 56 32.328125 56 \nQ 43.359375 56 49.78125 48.890625 \nQ 56.203125 41.796875 56.203125 29.59375 \nz\nM 47.21875 32.234375 \nQ 47.125 39.59375 43.09375 43.984375 \nQ 39.0625 48.390625 32.421875 48.390625 \nQ 24.90625 48.390625 20.390625 44.140625 \nQ 15.875 39.890625 15.1875 32.171875 \nz\n\" id=\"DejaVuSans-101\"/>\n      <path d=\"M 18.109375 8.203125 \nL 18.109375 -20.796875 \nL 9.078125 -20.796875 \nL 9.078125 54.6875 \nL 18.109375 54.6875 \nL 18.109375 46.390625 \nQ 20.953125 51.265625 25.265625 53.625 \nQ 29.59375 56 35.59375 56 \nQ 45.5625 56 51.78125 48.09375 \nQ 58.015625 40.1875 58.015625 27.296875 \nQ 58.015625 14.40625 51.78125 6.484375 \nQ 45.5625 -1.421875 35.59375 -1.421875 \nQ 29.59375 -1.421875 25.265625 0.953125 \nQ 20.953125 3.328125 18.109375 8.203125 \nz\nM 48.6875 27.296875 \nQ 48.6875 37.203125 44.609375 42.84375 \nQ 40.53125 48.484375 33.40625 48.484375 \nQ 26.265625 48.484375 22.1875 42.84375 \nQ 18.109375 37.203125 18.109375 27.296875 \nQ 18.109375 17.390625 22.1875 11.75 \nQ 26.265625 6.109375 33.40625 6.109375 \nQ 40.53125 6.109375 44.609375 11.75 \nQ 48.6875 17.390625 48.6875 27.296875 \nz\n\" id=\"DejaVuSans-112\"/>\n     </defs>\n     <use xlink:href=\"#DejaVuSans-105\"/>\n     <use x=\"27.783203\" xlink:href=\"#DejaVuSans-68\"/>\n     <use x=\"104.785156\" xlink:href=\"#DejaVuSans-101\"/>\n     <use x=\"166.308594\" xlink:href=\"#DejaVuSans-101\"/>\n     <use x=\"227.832031\" xlink:href=\"#DejaVuSans-112\"/>\n    </g>\n   </g>\n   <g id=\"text_6\">\n    <!-- Shallow mcBind -->\n    <g transform=\"translate(1005.6 218.511099)scale(0.1 -0.1)\">\n     <defs>\n      <path d=\"M 53.515625 70.515625 \nL 53.515625 60.890625 \nQ 47.90625 63.578125 42.921875 64.890625 \nQ 37.9375 66.21875 33.296875 66.21875 \nQ 25.25 66.21875 20.875 63.09375 \nQ 16.5 59.96875 16.5 54.203125 \nQ 16.5 49.359375 19.40625 46.890625 \nQ 22.3125 44.4375 30.421875 42.921875 \nL 36.375 41.703125 \nQ 47.40625 39.59375 52.65625 34.296875 \nQ 57.90625 29 57.90625 20.125 \nQ 57.90625 9.515625 50.796875 4.046875 \nQ 43.703125 -1.421875 29.984375 -1.421875 \nQ 24.8125 -1.421875 18.96875 -0.25 \nQ 13.140625 0.921875 6.890625 3.21875 \nL 6.890625 13.375 \nQ 12.890625 10.015625 18.65625 8.296875 \nQ 24.421875 6.59375 29.984375 6.59375 \nQ 38.421875 6.59375 43.015625 9.90625 \nQ 47.609375 13.234375 47.609375 19.390625 \nQ 47.609375 24.75 44.3125 27.78125 \nQ 41.015625 30.8125 33.5 32.328125 \nL 27.484375 33.5 \nQ 16.453125 35.6875 11.515625 40.375 \nQ 6.59375 45.0625 6.59375 53.421875 \nQ 6.59375 63.09375 13.40625 68.65625 \nQ 20.21875 74.21875 32.171875 74.21875 \nQ 37.3125 74.21875 42.625 73.28125 \nQ 47.953125 72.359375 53.515625 70.515625 \nz\n\" id=\"DejaVuSans-83\"/>\n      <path d=\"M 54.890625 33.015625 \nL 54.890625 0 \nL 45.90625 0 \nL 45.90625 32.71875 \nQ 45.90625 40.484375 42.875 44.328125 \nQ 39.84375 48.1875 33.796875 48.1875 \nQ 26.515625 48.1875 22.3125 43.546875 \nQ 18.109375 38.921875 18.109375 30.90625 \nL 18.109375 0 \nL 9.078125 0 \nL 9.078125 75.984375 \nL 18.109375 75.984375 \nL 18.109375 46.1875 \nQ 21.34375 51.125 25.703125 53.5625 \nQ 30.078125 56 35.796875 56 \nQ 45.21875 56 50.046875 50.171875 \nQ 54.890625 44.34375 54.890625 33.015625 \nz\n\" id=\"DejaVuSans-104\"/>\n      <path d=\"M 34.28125 27.484375 \nQ 23.390625 27.484375 19.1875 25 \nQ 14.984375 22.515625 14.984375 16.5 \nQ 14.984375 11.71875 18.140625 8.90625 \nQ 21.296875 6.109375 26.703125 6.109375 \nQ 34.1875 6.109375 38.703125 11.40625 \nQ 43.21875 16.703125 43.21875 25.484375 \nL 43.21875 27.484375 \nz\nM 52.203125 31.203125 \nL 52.203125 0 \nL 43.21875 0 \nL 43.21875 8.296875 \nQ 40.140625 3.328125 35.546875 0.953125 \nQ 30.953125 -1.421875 24.3125 -1.421875 \nQ 15.921875 -1.421875 10.953125 3.296875 \nQ 6 8.015625 6 15.921875 \nQ 6 25.140625 12.171875 29.828125 \nQ 18.359375 34.515625 30.609375 34.515625 \nL 43.21875 34.515625 \nL 43.21875 35.40625 \nQ 43.21875 41.609375 39.140625 45 \nQ 35.0625 48.390625 27.6875 48.390625 \nQ 23 48.390625 18.546875 47.265625 \nQ 14.109375 46.140625 10.015625 43.890625 \nL 10.015625 52.203125 \nQ 14.9375 54.109375 19.578125 55.046875 \nQ 24.21875 56 28.609375 56 \nQ 40.484375 56 46.34375 49.84375 \nQ 52.203125 43.703125 52.203125 31.203125 \nz\n\" id=\"DejaVuSans-97\"/>\n      <path d=\"M 9.421875 75.984375 \nL 18.40625 75.984375 \nL 18.40625 0 \nL 9.421875 0 \nz\n\" id=\"DejaVuSans-108\"/>\n      <path d=\"M 30.609375 48.390625 \nQ 23.390625 48.390625 19.1875 42.75 \nQ 14.984375 37.109375 14.984375 27.296875 \nQ 14.984375 17.484375 19.15625 11.84375 \nQ 23.34375 6.203125 30.609375 6.203125 \nQ 37.796875 6.203125 41.984375 11.859375 \nQ 46.1875 17.53125 46.1875 27.296875 \nQ 46.1875 37.015625 41.984375 42.703125 \nQ 37.796875 48.390625 30.609375 48.390625 \nz\nM 30.609375 56 \nQ 42.328125 56 49.015625 48.375 \nQ 55.71875 40.765625 55.71875 27.296875 \nQ 55.71875 13.875 49.015625 6.21875 \nQ 42.328125 -1.421875 30.609375 -1.421875 \nQ 18.84375 -1.421875 12.171875 6.21875 \nQ 5.515625 13.875 5.515625 27.296875 \nQ 5.515625 40.765625 12.171875 48.375 \nQ 18.84375 56 30.609375 56 \nz\n\" id=\"DejaVuSans-111\"/>\n      <path d=\"M 4.203125 54.6875 \nL 13.1875 54.6875 \nL 24.421875 12.015625 \nL 35.59375 54.6875 \nL 46.1875 54.6875 \nL 57.421875 12.015625 \nL 68.609375 54.6875 \nL 77.59375 54.6875 \nL 63.28125 0 \nL 52.6875 0 \nL 40.921875 44.828125 \nL 29.109375 0 \nL 18.5 0 \nz\n\" id=\"DejaVuSans-119\"/>\n      <path id=\"DejaVuSans-32\"/>\n     </defs>\n     <use xlink:href=\"#DejaVuSans-83\"/>\n     <use x=\"63.476562\" xlink:href=\"#DejaVuSans-104\"/>\n     <use x=\"126.855469\" xlink:href=\"#DejaVuSans-97\"/>\n     <use x=\"188.134766\" xlink:href=\"#DejaVuSans-108\"/>\n     <use x=\"215.917969\" xlink:href=\"#DejaVuSans-108\"/>\n     <use x=\"243.701172\" xlink:href=\"#DejaVuSans-111\"/>\n     <use x=\"304.882812\" xlink:href=\"#DejaVuSans-119\"/>\n     <use x=\"386.669922\" xlink:href=\"#DejaVuSans-32\"/>\n     <use x=\"418.457031\" xlink:href=\"#DejaVuSans-109\"/>\n     <use x=\"515.869141\" xlink:href=\"#DejaVuSans-99\"/>\n     <use x=\"570.849609\" xlink:href=\"#DejaVuSans-66\"/>\n     <use x=\"639.453125\" xlink:href=\"#DejaVuSans-105\"/>\n     <use x=\"667.236328\" xlink:href=\"#DejaVuSans-110\"/>\n     <use x=\"730.615234\" xlink:href=\"#DejaVuSans-100\"/>\n    </g>\n   </g>\n   <g id=\"text_7\">\n    <!-- CD -->\n    <g transform=\"translate(306.156318 44.84445)scale(0.1 -0.1)\">\n     <defs>\n      <path d=\"M 64.40625 67.28125 \nL 64.40625 56.890625 \nQ 59.421875 61.53125 53.78125 63.8125 \nQ 48.140625 66.109375 41.796875 66.109375 \nQ 29.296875 66.109375 22.65625 58.46875 \nQ 16.015625 50.828125 16.015625 36.375 \nQ 16.015625 21.96875 22.65625 14.328125 \nQ 29.296875 6.6875 41.796875 6.6875 \nQ 48.140625 6.6875 53.78125 8.984375 \nQ 59.421875 11.28125 64.40625 15.921875 \nL 64.40625 5.609375 \nQ 59.234375 2.09375 53.4375 0.328125 \nQ 47.65625 -1.421875 41.21875 -1.421875 \nQ 24.65625 -1.421875 15.125 8.703125 \nQ 5.609375 18.84375 5.609375 36.375 \nQ 5.609375 53.953125 15.125 64.078125 \nQ 24.65625 74.21875 41.21875 74.21875 \nQ 47.75 74.21875 53.53125 72.484375 \nQ 59.328125 70.75 64.40625 67.28125 \nz\n\" id=\"DejaVuSans-67\"/>\n     </defs>\n     <use xlink:href=\"#DejaVuSans-67\"/>\n     <use x=\"69.824219\" xlink:href=\"#DejaVuSans-68\"/>\n    </g>\n   </g>\n  </g>\n </g>\n <defs>\n  <clipPath id=\"pde4d0c6828\">\n   <rect height=\"288\" width=\"1152\" x=\"7.2\" y=\"7.2\"/>\n  </clipPath>\n </defs>\n</svg>\n",
      "image/png": "[encoded data removed]"
     },
     "metadata": {}
    },
    {
     "output_type": "display_data",
     "data": {
      "text/plain": "<Figure size 576x396 with 0 Axes>"
     },
     "metadata": {}
    }
   ],
   "source": [
    "import Orange\n",
    "\n",
    "ranks = table.rank(axis=1, method=\"min\", ascending=False)\n",
    "avranks = ranks.mean()\n",
    "names = table.columns.to_list()\n",
    "cd = Orange.evaluation.compute_CD(avranks, 31)\n",
    "Orange.evaluation.graph_ranks(avranks, names, cd=cd, textspace=1)\n",
    "\n",
    "fig = plt.gcf()\n",
    "fig.set_size_inches(16, 4)\n",
    "\n",
    "plt.show()\n",
    "plt.savefig(\"results/critical_difference_shalow.png\")"
   ]
  },
  {
   "cell_type": "code",
   "execution_count": 10,
   "metadata": {},
   "outputs": [],
   "source": [
    "with open(\"results/set_{}/{}/predictions\".format(0, \"17_ICLIP_HNRNPC_hg19\"), \"rb\") as predictions_file:\n",
    "    loaded_predictions = np.load(predictions_file)\n",
    "    loaded_predictions[1]"
   ]
  },
  {
   "cell_type": "code",
   "execution_count": 11,
   "metadata": {},
   "outputs": [
    {
     "output_type": "display_data",
     "data": {
      "text/plain": "<Figure size 576x396 with 1 Axes>",
      "image/svg+xml": "<?xml version=\"1.0\" encoding=\"utf-8\" standalone=\"no\"?>\n<!DOCTYPE svg PUBLIC \"-//W3C//DTD SVG 1.1//EN\"\n  \"http://www.w3.org/Graphics/SVG/1.1/DTD/svg11.dtd\">\n<!-- Created with matplotlib (https://matplotlib.org/) -->\n<svg height=\"36.356436pt\" version=\"1.1\" viewBox=\"0 0 568.8 36.356436\" width=\"568.8pt\" xmlns=\"http://www.w3.org/2000/svg\" xmlns:xlink=\"http://www.w3.org/1999/xlink\">\n <metadata>\n  <rdf:RDF xmlns:cc=\"http://creativecommons.org/ns#\" xmlns:dc=\"http://purl.org/dc/elements/1.1/\" xmlns:rdf=\"http://www.w3.org/1999/02/22-rdf-syntax-ns#\">\n   <cc:Work>\n    <dc:type rdf:resource=\"http://purl.org/dc/dcmitype/StillImage\"/>\n    <dc:date>2021-07-18T08:32:36.239683</dc:date>\n    <dc:format>image/svg+xml</dc:format>\n    <dc:creator>\n     <cc:Agent>\n      <dc:title>Matplotlib v3.3.2, https://matplotlib.org/</dc:title>\n     </cc:Agent>\n    </dc:creator>\n   </cc:Work>\n  </rdf:RDF>\n </metadata>\n <defs>\n  <style type=\"text/css\">*{stroke-linecap:butt;stroke-linejoin:round;}</style>\n </defs>\n <g id=\"figure_1\">\n  <g id=\"patch_1\">\n   <path d=\"M 0 36.356436 \nL 568.8 36.356436 \nL 568.8 0 \nL 0 0 \nz\n\" style=\"fill:none;\"/>\n  </g>\n  <g id=\"axes_1\">\n   <g id=\"patch_2\">\n    <path d=\"M 7.2 29.156436 \nL 561.6 29.156436 \nL 561.6 7.2 \nL 7.2 7.2 \nz\n\" style=\"fill:#ffffff;\"/>\n   </g>\n   <g clip-path=\"url(#pb3f1ddbb7c)\">\n    <image height=\"4\" id=\"image19c764f990\" opacity=\"0.5\" style=\"image-rendering:crisp-edges;image-rendering:pixelated\" transform=\"matrix(5.49505 0 0 5.5 7.2 7.156436)\" width=\"101\" xlink:href=\"data:image/png;base64,\niVBORw0KGgoAAAANSUhEUgAAAGUAAAAECAYAAACX1PEwAAAAk0lEQVR4nK1TSRLAMAjC/z/anpKhjFvTeIui4EjM3R1FmBkAYMHMDFlLVeNZPO9rLA7m6nhPtHb4E84xV3SUbHEAO8/BWK1pXXl0pvLpnE6fcnIf90a7KnYSJ+aINLz246P8dd9URFX/+hMnOqtDVObTd/bTq/4sV+oFsJGZo9shl3tuGKJz46S/w1dmig7YHXjlHu9Pw/jwC/dMAAAAAElFTkSuQmCC\"/>\n   </g>\n   <g id=\"matplotlib.axis_1\">\n    <g id=\"xtick_1\"/>\n    <g id=\"xtick_2\"/>\n    <g id=\"xtick_3\"/>\n    <g id=\"xtick_4\"/>\n    <g id=\"xtick_5\"/>\n    <g id=\"xtick_6\"/>\n   </g>\n   <g id=\"matplotlib.axis_2\">\n    <g id=\"ytick_1\"/>\n    <g id=\"ytick_2\"/>\n    <g id=\"ytick_3\"/>\n    <g id=\"ytick_4\"/>\n   </g>\n   <g id=\"patch_3\">\n    <path d=\"M 7.2 29.156436 \nL 7.2 7.2 \n\" style=\"fill:none;stroke:#000000;stroke-linecap:square;stroke-linejoin:miter;stroke-width:0.8;\"/>\n   </g>\n   <g id=\"patch_4\">\n    <path d=\"M 561.6 29.156436 \nL 561.6 7.2 \n\" style=\"fill:none;stroke:#000000;stroke-linecap:square;stroke-linejoin:miter;stroke-width:0.8;\"/>\n   </g>\n   <g id=\"patch_5\">\n    <path d=\"M 7.2 29.156436 \nL 561.6 29.156436 \n\" style=\"fill:none;stroke:#000000;stroke-linecap:square;stroke-linejoin:miter;stroke-width:0.8;\"/>\n   </g>\n   <g id=\"patch_6\">\n    <path d=\"M 7.2 7.2 \nL 561.6 7.2 \n\" style=\"fill:none;stroke:#000000;stroke-linecap:square;stroke-linejoin:miter;stroke-width:0.8;\"/>\n   </g>\n  </g>\n </g>\n <defs>\n  <clipPath id=\"pb3f1ddbb7c\">\n   <rect height=\"21.956436\" width=\"554.4\" x=\"7.2\" y=\"7.2\"/>\n  </clipPath>\n </defs>\n</svg>\n",
      "image/png": "[encoded data removed]"
     },
     "metadata": {}
    }
   ],
   "source": [
    "from utils import get_cobinding, get_fold, get_seq, get_region\n",
    "fig, ax = plt.subplots()\n",
    "ax.matshow(get_seq(\"17_ICLIP_HNRNPC_hg19\", \"test\", 0)[1].T, cmap=\"binary\", alpha=0.5, interpolation=\"none\")\n",
    "ax.margins(0)\n",
    "ax.tick_params(\n",
    "    left=False,\n",
    "    bottom=False,\n",
    "    top=False,\n",
    "    labelleft=False,\n",
    "    labelbottom=False,\n",
    "    labeltop=False\n",
    ")\n",
    "fig.tight_layout()\n",
    "plt.savefig(\"seq.svg\")"
   ]
  },
  {
   "cell_type": "code",
   "execution_count": 12,
   "metadata": {},
   "outputs": [
    {
     "output_type": "display_data",
     "data": {
      "text/plain": "<Figure size 576x396 with 1 Axes>",
      "image/svg+xml": "<?xml version=\"1.0\" encoding=\"utf-8\" standalone=\"no\"?>\n<!DOCTYPE svg PUBLIC \"-//W3C//DTD SVG 1.1//EN\"\n  \"http://www.w3.org/Graphics/SVG/1.1/DTD/svg11.dtd\">\n<!-- Created with matplotlib (https://matplotlib.org/) -->\n<svg height=\"19.889109pt\" version=\"1.1\" viewBox=\"0 0 568.8 19.889109\" width=\"568.8pt\" xmlns=\"http://www.w3.org/2000/svg\" xmlns:xlink=\"http://www.w3.org/1999/xlink\">\n <metadata>\n  <rdf:RDF xmlns:cc=\"http://creativecommons.org/ns#\" xmlns:dc=\"http://purl.org/dc/elements/1.1/\" xmlns:rdf=\"http://www.w3.org/1999/02/22-rdf-syntax-ns#\">\n   <cc:Work>\n    <dc:type rdf:resource=\"http://purl.org/dc/dcmitype/StillImage\"/>\n    <dc:date>2021-07-18T08:32:37.229000</dc:date>\n    <dc:format>image/svg+xml</dc:format>\n    <dc:creator>\n     <cc:Agent>\n      <dc:title>Matplotlib v3.3.2, https://matplotlib.org/</dc:title>\n     </cc:Agent>\n    </dc:creator>\n   </cc:Work>\n  </rdf:RDF>\n </metadata>\n <defs>\n  <style type=\"text/css\">*{stroke-linecap:butt;stroke-linejoin:round;}</style>\n </defs>\n <g id=\"figure_1\">\n  <g id=\"patch_1\">\n   <path d=\"M 0 19.889109 \nL 568.8 19.889109 \nL 568.8 -0 \nL 0 -0 \nz\n\" style=\"fill:none;\"/>\n  </g>\n  <g id=\"axes_1\">\n   <g id=\"patch_2\">\n    <path d=\"M 7.2 12.689109 \nL 561.6 12.689109 \nL 561.6 7.2 \nL 7.2 7.2 \nz\n\" style=\"fill:#ffffff;\"/>\n   </g>\n   <g clip-path=\"url(#pc72f664d15)\">\n    <image height=\"1\" id=\"image3fc916b91e\" opacity=\"0.5\" style=\"image-rendering:crisp-edges;image-rendering:pixelated\" transform=\"matrix(5.49505 0 0 6 7.2 6.689109)\" width=\"101\" xlink:href=\"data:image/png;base64,\niVBORw0KGgoAAAANSUhEUgAAAGUAAAABCAYAAADHGWCDAAAAzklEQVR4nG2QMc5FQBSFP0tQiSmfQicheiPR0o0dWIAdsBKFbnSiN3pR2YQVKP3Vm7w/8TX35OTcm5PrFEXxuK6L67rs+85xHIzjyDzPAJznSZqmxHEMgNaauq5p25ZlWWiahqqq8H0fIQRfyrK0OkkSq4UQDMPAdV14nkcURTiOwxvP87z6b3RdZ3Xf9yilmKbJzi9aawCUUq93frtkWca2bQCs64oxBgApJVJKmzPGkOe53QnDkH3fue+bvu/5fD6kaWrzv/8ACILgX8c/iWFGASk1T98AAAAASUVORK5CYII=\"/>\n   </g>\n   <g id=\"matplotlib.axis_1\">\n    <g id=\"xtick_1\"/>\n    <g id=\"xtick_2\"/>\n    <g id=\"xtick_3\"/>\n    <g id=\"xtick_4\"/>\n    <g id=\"xtick_5\"/>\n    <g id=\"xtick_6\"/>\n   </g>\n   <g id=\"matplotlib.axis_2\">\n    <g id=\"ytick_1\"/>\n    <g id=\"ytick_2\"/>\n    <g id=\"ytick_3\"/>\n    <g id=\"ytick_4\"/>\n    <g id=\"ytick_5\"/>\n   </g>\n   <g id=\"patch_3\">\n    <path d=\"M 7.2 12.689109 \nL 7.2 7.2 \n\" style=\"fill:none;stroke:#000000;stroke-linecap:square;stroke-linejoin:miter;stroke-width:0.8;\"/>\n   </g>\n   <g id=\"patch_4\">\n    <path d=\"M 561.6 12.689109 \nL 561.6 7.2 \n\" style=\"fill:none;stroke:#000000;stroke-linecap:square;stroke-linejoin:miter;stroke-width:0.8;\"/>\n   </g>\n   <g id=\"patch_5\">\n    <path d=\"M 7.2 12.689109 \nL 561.6 12.689109 \n\" style=\"fill:none;stroke:#000000;stroke-linecap:square;stroke-linejoin:miter;stroke-width:0.8;\"/>\n   </g>\n   <g id=\"patch_6\">\n    <path d=\"M 7.2 7.2 \nL 561.6 7.2 \n\" style=\"fill:none;stroke:#000000;stroke-linecap:square;stroke-linejoin:miter;stroke-width:0.8;\"/>\n   </g>\n  </g>\n </g>\n <defs>\n  <clipPath id=\"pc72f664d15\">\n   <rect height=\"5.489109\" width=\"554.4\" x=\"7.2\" y=\"7.2\"/>\n  </clipPath>\n </defs>\n</svg>\n",
      "image/png": "[encoded data removed]"
     },
     "metadata": {}
    }
   ],
   "source": [
    "fig, ax = plt.subplots()\n",
    "ax.matshow(get_fold(\"17_ICLIP_HNRNPC_hg19\", \"test\", 0)[1].T, cmap=\"binary\", alpha=0.5, interpolation=\"none\")\n",
    "ax.margins(0)\n",
    "ax.tick_params(\n",
    "    left=False,\n",
    "    bottom=False,\n",
    "    top=False,\n",
    "    labelleft=False,\n",
    "    labelbottom=False,\n",
    "    labeltop=False\n",
    ")\n",
    "fig.tight_layout()\n",
    "plt.savefig(\"fold.svg\")"
   ]
  },
  {
   "cell_type": "code",
   "execution_count": 13,
   "metadata": {},
   "outputs": [
    {
     "output_type": "display_data",
     "data": {
      "text/plain": "<Figure size 576x396 with 1 Axes>",
      "image/svg+xml": "<?xml version=\"1.0\" encoding=\"utf-8\" standalone=\"no\"?>\n<!DOCTYPE svg PUBLIC \"-//W3C//DTD SVG 1.1//EN\"\n  \"http://www.w3.org/Graphics/SVG/1.1/DTD/svg11.dtd\">\n<!-- Created with matplotlib (https://matplotlib.org/) -->\n<svg height=\"41.845545pt\" version=\"1.1\" viewBox=\"0 0 568.8 41.845545\" width=\"568.8pt\" xmlns=\"http://www.w3.org/2000/svg\" xmlns:xlink=\"http://www.w3.org/1999/xlink\">\n <metadata>\n  <rdf:RDF xmlns:cc=\"http://creativecommons.org/ns#\" xmlns:dc=\"http://purl.org/dc/elements/1.1/\" xmlns:rdf=\"http://www.w3.org/1999/02/22-rdf-syntax-ns#\">\n   <cc:Work>\n    <dc:type rdf:resource=\"http://purl.org/dc/dcmitype/StillImage\"/>\n    <dc:date>2021-07-18T08:32:40.585302</dc:date>\n    <dc:format>image/svg+xml</dc:format>\n    <dc:creator>\n     <cc:Agent>\n      <dc:title>Matplotlib v3.3.2, https://matplotlib.org/</dc:title>\n     </cc:Agent>\n    </dc:creator>\n   </cc:Work>\n  </rdf:RDF>\n </metadata>\n <defs>\n  <style type=\"text/css\">*{stroke-linecap:butt;stroke-linejoin:round;}</style>\n </defs>\n <g id=\"figure_1\">\n  <g id=\"patch_1\">\n   <path d=\"M 0 41.845545 \nL 568.8 41.845545 \nL 568.8 -0 \nL 0 -0 \nz\n\" style=\"fill:none;\"/>\n  </g>\n  <g id=\"axes_1\">\n   <g id=\"patch_2\">\n    <path d=\"M 7.2 34.645545 \nL 561.6 34.645545 \nL 561.6 7.2 \nL 7.2 7.2 \nz\n\" style=\"fill:#ffffff;\"/>\n   </g>\n   <g clip-path=\"url(#p5c8d378d62)\">\n    <image height=\"5\" id=\"image593443c0ae\" opacity=\"0.5\" style=\"image-rendering:crisp-edges;image-rendering:pixelated\" transform=\"matrix(5.49505 0 0 5.6 7.2 6.645545)\" width=\"101\" xlink:href=\"data:image/png;base64,\niVBORw0KGgoAAAANSUhEUgAAAGUAAAAFCAYAAABciCKVAAAAMklEQVR4nGP8////f4ZRMKgAIwMDw2ikUAiona5ZRjPK4ANMA+2AUYAJRosvKgBqlzYAuE0O+wUu88EAAAAASUVORK5CYII=\"/>\n   </g>\n   <g id=\"matplotlib.axis_1\">\n    <g id=\"xtick_1\"/>\n    <g id=\"xtick_2\"/>\n    <g id=\"xtick_3\"/>\n    <g id=\"xtick_4\"/>\n    <g id=\"xtick_5\"/>\n    <g id=\"xtick_6\"/>\n   </g>\n   <g id=\"matplotlib.axis_2\">\n    <g id=\"ytick_1\"/>\n    <g id=\"ytick_2\"/>\n    <g id=\"ytick_3\"/>\n    <g id=\"ytick_4\"/>\n    <g id=\"ytick_5\"/>\n   </g>\n   <g id=\"patch_3\">\n    <path d=\"M 7.2 34.645545 \nL 7.2 7.2 \n\" style=\"fill:none;stroke:#000000;stroke-linecap:square;stroke-linejoin:miter;stroke-width:0.8;\"/>\n   </g>\n   <g id=\"patch_4\">\n    <path d=\"M 561.6 34.645545 \nL 561.6 7.2 \n\" style=\"fill:none;stroke:#000000;stroke-linecap:square;stroke-linejoin:miter;stroke-width:0.8;\"/>\n   </g>\n   <g id=\"patch_5\">\n    <path d=\"M 7.2 34.645545 \nL 561.6 34.645545 \n\" style=\"fill:none;stroke:#000000;stroke-linecap:square;stroke-linejoin:miter;stroke-width:0.8;\"/>\n   </g>\n   <g id=\"patch_6\">\n    <path d=\"M 7.2 7.2 \nL 561.6 7.2 \n\" style=\"fill:none;stroke:#000000;stroke-linecap:square;stroke-linejoin:miter;stroke-width:0.8;\"/>\n   </g>\n  </g>\n </g>\n <defs>\n  <clipPath id=\"p5c8d378d62\">\n   <rect height=\"27.445545\" width=\"554.4\" x=\"7.2\" y=\"7.2\"/>\n  </clipPath>\n </defs>\n</svg>\n",
      "image/png": "[encoded data removed]"
     },
     "metadata": {}
    }
   ],
   "source": [
    "fig, ax = plt.subplots()\n",
    "ax.matshow(get_region(\"17_ICLIP_HNRNPC_hg19\", \"test\", 0)[1].T, cmap=\"binary\", alpha=0.5, interpolation=\"none\")\n",
    "ax.margins(0)\n",
    "ax.tick_params(\n",
    "    left=False,\n",
    "    bottom=False,\n",
    "    top=False,\n",
    "    labelleft=False,\n",
    "    labelbottom=False,\n",
    "    labeltop=False\n",
    ")\n",
    "fig.tight_layout()\n",
    "plt.savefig(\"region.svg\")"
   ]
  },
  {
   "cell_type": "code",
   "execution_count": 14,
   "metadata": {},
   "outputs": [
    {
     "output_type": "display_data",
     "data": {
      "text/plain": "<Figure size 576x396 with 1 Axes>",
      "image/svg+xml": "<?xml version=\"1.0\" encoding=\"utf-8\" standalone=\"no\"?>\n<!DOCTYPE svg PUBLIC \"-//W3C//DTD SVG 1.1//EN\"\n  \"http://www.w3.org/Graphics/SVG/1.1/DTD/svg11.dtd\">\n<!-- Created with matplotlib (https://matplotlib.org/) -->\n<svg height=\"173.584158pt\" version=\"1.1\" viewBox=\"0 0 568.8 173.584158\" width=\"568.8pt\" xmlns=\"http://www.w3.org/2000/svg\" xmlns:xlink=\"http://www.w3.org/1999/xlink\">\n <metadata>\n  <rdf:RDF xmlns:cc=\"http://creativecommons.org/ns#\" xmlns:dc=\"http://purl.org/dc/elements/1.1/\" xmlns:rdf=\"http://www.w3.org/1999/02/22-rdf-syntax-ns#\">\n   <cc:Work>\n    <dc:type rdf:resource=\"http://purl.org/dc/dcmitype/StillImage\"/>\n    <dc:date>2021-07-18T08:32:57.899910</dc:date>\n    <dc:format>image/svg+xml</dc:format>\n    <dc:creator>\n     <cc:Agent>\n      <dc:title>Matplotlib v3.3.2, https://matplotlib.org/</dc:title>\n     </cc:Agent>\n    </dc:creator>\n   </cc:Work>\n  </rdf:RDF>\n </metadata>\n <defs>\n  <style type=\"text/css\">*{stroke-linecap:butt;stroke-linejoin:round;}</style>\n </defs>\n <g id=\"figure_1\">\n  <g id=\"patch_1\">\n   <path d=\"M 0 173.584158 \nL 568.8 173.584158 \nL 568.8 -0 \nL 0 -0 \nz\n\" style=\"fill:none;\"/>\n  </g>\n  <g id=\"axes_1\">\n   <g id=\"patch_2\">\n    <path d=\"M 7.2 166.384158 \nL 561.6 166.384158 \nL 561.6 7.2 \nL 7.2 7.2 \nz\n\" style=\"fill:#ffffff;\"/>\n   </g>\n   <g clip-path=\"url(#p7b8b67122a)\">\n    <image height=\"29\" id=\"image735a95e101\" opacity=\"0.5\" style=\"image-rendering:crisp-edges;image-rendering:pixelated\" transform=\"matrix(5.49505 0 0 5.517241 7.2 6.384158)\" width=\"101\" xlink:href=\"data:image/png;base64,\niVBORw0KGgoAAAANSUhEUgAAAGUAAAAdCAYAAACzDaJjAAAAl0lEQVR4nO3Y0QmAMAwGYSvuv/LvAFpfrMkJ9y1g6GEhHUmyCWXvHkBXRgEyCpBRgIwCZBQgowAZBcgoQEYBMgqQUYCMAnR0D3BnjFH6PdpDOTIK7ZCqeX0BGQXIKEBGATIKkFGAjAJkFKDp8rh6q161EL6Z6y9LadlGX/108sUMVVGnUZIgDrJT159Vdn2R0K+xxz9FPU4cch8+RUbtJAAAAABJRU5ErkJggg==\"/>\n   </g>\n   <g id=\"matplotlib.axis_1\">\n    <g id=\"xtick_1\"/>\n    <g id=\"xtick_2\"/>\n    <g id=\"xtick_3\"/>\n    <g id=\"xtick_4\"/>\n    <g id=\"xtick_5\"/>\n    <g id=\"xtick_6\"/>\n   </g>\n   <g id=\"matplotlib.axis_2\">\n    <g id=\"ytick_1\"/>\n    <g id=\"ytick_2\"/>\n    <g id=\"ytick_3\"/>\n    <g id=\"ytick_4\"/>\n    <g id=\"ytick_5\"/>\n    <g id=\"ytick_6\"/>\n   </g>\n   <g id=\"patch_3\">\n    <path d=\"M 7.2 166.384158 \nL 7.2 7.2 \n\" style=\"fill:none;stroke:#000000;stroke-linecap:square;stroke-linejoin:miter;stroke-width:0.8;\"/>\n   </g>\n   <g id=\"patch_4\">\n    <path d=\"M 561.6 166.384158 \nL 561.6 7.2 \n\" style=\"fill:none;stroke:#000000;stroke-linecap:square;stroke-linejoin:miter;stroke-width:0.8;\"/>\n   </g>\n   <g id=\"patch_5\">\n    <path d=\"M 7.2 166.384158 \nL 561.6 166.384158 \n\" style=\"fill:none;stroke:#000000;stroke-linecap:square;stroke-linejoin:miter;stroke-width:0.8;\"/>\n   </g>\n   <g id=\"patch_6\">\n    <path d=\"M 7.2 7.2 \nL 561.6 7.2 \n\" style=\"fill:none;stroke:#000000;stroke-linecap:square;stroke-linejoin:miter;stroke-width:0.8;\"/>\n   </g>\n  </g>\n </g>\n <defs>\n  <clipPath id=\"p7b8b67122a\">\n   <rect height=\"159.184158\" width=\"554.4\" x=\"7.2\" y=\"7.2\"/>\n  </clipPath>\n </defs>\n</svg>\n",
      "image/png": "[encoded data removed]"
     },
     "metadata": {}
    }
   ],
   "source": [
    "fig, ax = plt.subplots()\n",
    "ax.matshow(get_cobinding(\"17_ICLIP_HNRNPC_hg19\", \"test\", 0)[1].T, cmap=\"binary\", alpha=0.5, interpolation=\"none\")\n",
    "ax.margins(0)\n",
    "ax.tick_params(\n",
    "    left=False,\n",
    "    bottom=False,\n",
    "    top=False,\n",
    "    labelleft=False,\n",
    "    labelbottom=False,\n",
    "    labeltop=False\n",
    ")\n",
    "fig.tight_layout()\n",
    "plt.savefig(\"clip.svg\")\n"
   ]
  }
 ]
}