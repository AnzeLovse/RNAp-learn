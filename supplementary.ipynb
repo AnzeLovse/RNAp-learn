{
 "cells": [
  {
   "cell_type": "code",
   "execution_count": null,
   "metadata": {
    "hide_input": false,
    "scrolled": true
   },
   "outputs": [],
   "source": [
    "#Training the model on 30k datasets.\n",
    "\n",
    "import random\n",
    "import numpy as np\n",
    "from Bio import SeqIO\n",
    "import gzip\n",
    "import os\n",
    "import pickle\n",
    "from tensorflow import set_random_seed\n",
    "from keras.models import Sequential\n",
    "from keras.callbacks import ModelCheckpoint, EarlyStopping\n",
    "from keras.layers import Dense, Activation, Conv1D, MaxPooling1D, Flatten, GlobalAveragePooling1D, Dropout\n",
    "from sklearn.model_selection import KFold\n",
    "from sklearn.metrics import roc_auc_score, roc_curve\n",
    "import pandas as pd\n",
    "import matplotlib.pyplot as plt\n",
    "\n",
    "#Set random seeds for reproducibility.\n",
    "np.random.seed(4)\n",
    "random.seed(5)\n",
    "set_random_seed(4) \n",
    "\n",
    "\n",
    "\n",
    "def load_data(path):   \n",
    "    data = gzip.open(os.path.join(path,\"sequences.fa.gz\"),\"rt\")\n",
    "    return data\n",
    "\n",
    "\n",
    "def get_seq(protein, t_data, training_set_number): \n",
    "    if t_data == \"train\":     \n",
    "        training_data = load_data(\"datasets/clip/%s/30000/training_sample_%s\"% (protein, training_set_number))\n",
    "        x_train = np.zeros((30000,101,4))          \n",
    "    \n",
    "    elif t_data == \"test\":          \n",
    "        training_data = load_data(\"datasets/clip/%s/30000/test_sample_%s\"% (protein, training_set_number))\n",
    "        x_train = np.zeros((10000,101,4))      \n",
    "    r = 0 \n",
    "    for record in SeqIO.parse(training_data,\"fasta\"):\n",
    "        sequence = list(record.seq)                \n",
    "        nucleotide = {'A' : 0, 'T' : 1, 'G' : 2, 'C' : 3, 'N' : 4} \n",
    "        num_seq = list() #Encoded sequence\n",
    "        for i in range(0,len(sequence)):\n",
    "                num_seq.append(nucleotide[sequence[i]])\n",
    "\n",
    "        X = np.zeros((1,len(num_seq),4))\n",
    "        for i in range (len(num_seq)):\n",
    "                if num_seq[i] <= 3:\n",
    "                    X[:,i,num_seq[i]] = 1               \n",
    "        x_train[r,:,:] = X\n",
    "        r = r + 1\n",
    "    \n",
    "    return x_train\n",
    "\n",
    "\n",
    "def get_class(protein, t_data,training_set_number):\n",
    "    y_train = []\n",
    "    if t_data == 'train':\n",
    "        data = load_data(\"datasets/clip/%s/30000/training_sample_%s\"% (protein, training_set_number))\n",
    "    elif t_data == 'test':\n",
    "        data = load_data(\"datasets/clip/%s/30000/test_sample_%s\"% (protein, training_set_number))\n",
    "    for record in SeqIO.parse(data,\"fasta\"):\n",
    "        v = int((record.description).split(\":\")[1])\n",
    "        # [1,0] if there was no observed binding and [0,1] for sequences where binding was observed.\n",
    "        y_train.append([int(v == 0), int(v != 0)])\n",
    "\n",
    "    y_train = np.array(y_train)\n",
    "    return y_train\n",
    "\n",
    "\n",
    "def get_cobinding(protein, t_data, training_set_number):\n",
    "    if t_data == \"train\":\n",
    "        with gzip.open((\"datasets/clip/%s/30000/training_sample_%s/matrix_Cobinding.tab.gz\"% (protein, training_set_number)), \"rt\") as f:\n",
    "            cobinding_data = np.loadtxt(f, skiprows=1)       \n",
    "        cobinding = np.zeros((30000,101,int(cobinding_data.shape[1]/101)),dtype=np.int)    \n",
    "    elif t_data == \"test\":\n",
    "        with gzip.open((\"datasets/clip/%s/30000/test_sample_%s/matrix_Cobinding.tab.gz\"% (protein, training_set_number)), \"rt\") as f:\n",
    "            cobinding_data = np.loadtxt(f, skiprows=1) \n",
    "        cobinding = np.zeros((10000,101,int(cobinding_data.shape[1]/101)),dtype=np.int)\n",
    "    for n in range(0,cobinding_data.shape[1],101):\n",
    "        a = cobinding_data[:,n:(n+101)]\n",
    "        cobinding[:,:,int(n/101)] = a\n",
    "    \n",
    "    return cobinding\n",
    "    \n",
    "\n",
    "def get_region (protein, t_data, training_set_number):\n",
    "    if t_data == \"train\":\n",
    "        with gzip.open((\"datasets/clip/%s/30000/training_sample_%s/matrix_RegionType.tab.gz\"% (protein, training_set_number)), \"rt\") as f:\n",
    "            region_data = np.loadtxt(f, skiprows=1)\n",
    "        region = np.zeros((30000,101,int(region_data.shape[1]/101)),dtype=np.int)\n",
    "                             \n",
    "    elif t_data == \"test\":\n",
    "        with gzip.open((\"datasets/clip/%s/30000/test_sample_%s/matrix_RegionType.tab.gz\"% (protein, training_set_number)), \"rt\") as f:\n",
    "            region_data = np.loadtxt(f, skiprows=1) \n",
    "        region = np.zeros((10000,101,int(region_data.shape[1]/101)),dtype=np.int)\n",
    "    for n in range(0,region_data.shape[1],101):\n",
    "        a = region_data[:,n:(n+101)]\n",
    "        region[:,:,int(n/101)] = a\n",
    "        \n",
    "    return region\n",
    "\n",
    "\n",
    "def get_fold (protein, t_data, training_set_number):\n",
    "    if t_data == \"train\":\n",
    "        with gzip.open((\"datasets/clip/%s/30000/training_sample_%s/matrix_RNAfold.tab.gz\"% (protein, training_set_number)), \"rt\") as f:\n",
    "            fold_data = np.loadtxt(f, skiprows=1) \n",
    "        fold = np.zeros((30000,101,int(fold_data.shape[1]/101)), dtype=np.int)\n",
    "                             \n",
    "    elif t_data == \"test\":\n",
    "        with gzip.open((\"datasets/clip/%s/30000/test_sample_%s/matrix_RNAfold.tab.gz\"% (protein, training_set_number)), \"rt\") as f:\n",
    "            fold_data = np.loadtxt(f, skiprows=1) \n",
    "        fold = np.zeros((10000,101,int(fold_data.shape[1]/101)),dtype=np.int)\n",
    "\n",
    "\n",
    "\n",
    "\n",
    "    for n in range(0,fold_data.shape[1],101):\n",
    "        a = fold_data[:,n:(n+101)]\n",
    "        fold[:,:,int(n/101)] = a\n",
    "    \n",
    "    \n",
    "    return fold\n",
    "\n",
    "def load_data_sources(protein, t_data, training_set_number, *args):\n",
    "    X = np.array([])\n",
    "    data_sources = []\n",
    "    for arg in args:\n",
    "        \n",
    "        if arg == 'KMER':\n",
    "            if X.size == 0:\n",
    "                X = get_seq(protein, t_data, training_set_number)\n",
    "            else: \n",
    "                X = np.dstack((X, get_seq(protein, t_data, training_set_number)))\n",
    "        if arg == 'RNA': \n",
    "            if X.size == 0:\n",
    "                X = get_fold(protein, t_data, training_set_number)\n",
    "            else: \n",
    "                X = np.dstack((X, get_fold(protein, t_data, training_set_number)))\n",
    "        if arg == 'RG':   \n",
    "            if X.size == 0:\n",
    "                X = get_region(protein, t_data, training_set_number)\n",
    "            else: \n",
    "                X = np.dstack((X, get_region(protein, t_data, training_set_number)))\n",
    "        if arg == 'CLIP': \n",
    "            if X.size == 0:\n",
    "                X = get_cobinding(protein, t_data, training_set_number)\n",
    "            else: \n",
    "                X = np.dstack((X, get_cobinding(protein, t_data, training_set_number)))\n",
    "        data_sources.append(arg)\n",
    "        \n",
    "    data_sources = ','.join(data_sources)\n",
    "    return data_sources, X\n"
   ]
  },
  {
   "cell_type": "code",
   "execution_count": 16,
   "metadata": {
    "scrolled": true
   },
   "outputs": [],
   "source": [
    "protein_list = [\"1_PARCLIP_AGO1234_hg19\", \"2_PARCLIP_AGO2MNASE_hg19\", \"3_HITSCLIP_Ago2_binding_clusters\", \"4_HITSCLIP_Ago2_binding_clusters_2\", \"5_CLIPSEQ_AGO2_hg19\", \"6_CLIP-seq-eIF4AIII_1\", \"7_CLIP-seq-eIF4AIII_2\", \"8_PARCLIP_ELAVL1_hg19\", \"9_PARCLIP_ELAVL1MNASE_hg19\", \"10_PARCLIP_ELAVL1A_hg19\", \"10_PARCLIP_ELAVL1A_hg19\", \"12_PARCLIP_EWSR1_hg19\", \"13_PARCLIP_FUS_hg19\", \"14_PARCLIP_FUS_mut_hg19\", \"15_PARCLIP_IGF2BP123_hg19\", \"16_ICLIP_hnRNPC_Hela_iCLIP_all_clusters\", \"17_ICLIP_HNRNPC_hg19\", \"18_ICLIP_hnRNPL_Hela_group_3975_all-hnRNPL-Hela-hg19_sum_G_hg19--ensembl59_from_2337-2339-741_bedGraph-cDNA-hits-in-genome\",\n",
    "                \"19_ICLIP_hnRNPL_U266_group_3986_all-hnRNPL-U266-hg19_sum_G_hg19--ensembl59_from_2485_bedGraph-cDNA-hits-in-genome\", \"20_ICLIP_hnRNPlike_U266_group_4000_all-hnRNPLlike-U266-hg19_sum_G_hg19--ensembl59_from_2342-2486_bedGraph-cDNA-hits-in-genome\", \"21_PARCLIP_MOV10_Sievers_hg19\", \"22_ICLIP_NSUN2_293_group_4007_all-NSUN2-293-hg19_sum_G_hg19--ensembl59_from_3137-3202_bedGraph-cDNA-hits-in-genome\", \"23_PARCLIP_PUM2_hg19\", \"24_PARCLIP_QKI_hg19\", \"25_CLIPSEQ_SFRS1_hg19\", \"26_PARCLIP_TAF15_hg19\", \"27_ICLIP_TDP43_hg19\", \"28_ICLIP_TIA1_hg19\", \"29_ICLIP_TIAL1_hg19\", \"30_ICLIP_U2AF65_Hela_iCLIP_ctrl_all_clusters\", \"31_ICLIP_U2AF65_Hela_iCLIP_ctrl+kd_all_clusters\"]\n",
    "scores_dict = {}\n",
    "for protein in protein_list:\n",
    "#     print(protein)\n",
    "    for training_set_number in range(3):\n",
    "        with open(\"results/set_%s/%s/predictions\" % (training_set_number, protein), \"rb\") as predictions_file:\n",
    "            loaded_predictions = np.load(predictions_file)\n",
    "        with open(\"../iONMF/results/set_%s/%s_predictions\" % (training_set_number, protein), \"rb\") as ionmf_file:\n",
    "            ionmf_loaded = np.load(ionmf_file)\n",
    "        ideep_loaded = np.loadtxt(\n",
    "            f\"../iDeep/predictions_{training_set_number}/{protein}\", delimiter=\"\\n\", unpack=False)\n",
    "        y_test = get_class(protein, \"test\", training_set_number)\n",
    "\n",
    "        if training_set_number == 0:\n",
    "            imcnn_predictions = loaded_predictions[:, 0:1]\n",
    "            imcnn_test = y_test[:, 0:1]\n",
    "            ideep_predictions = ideep_loaded\n",
    "            ideep_test = y_test[:, 1]\n",
    "            ionmf_predictions = ionmf_loaded\n",
    "\n",
    "        else:\n",
    "            imcnn_predictions = np.concatenate(\n",
    "                (imcnn_predictions, loaded_predictions[:, 0:1]))\n",
    "            imcnn_test = np.concatenate((imcnn_test, y_test[:, 0:1]))\n",
    "            ideep_predictions = np.concatenate(\n",
    "                (ideep_predictions, ideep_loaded))\n",
    "            ideep_test = np.concatenate((ideep_test, y_test[:, 1]))\n",
    "            ionmf_predictions = np.concatenate(\n",
    "                (ionmf_predictions, ionmf_loaded))\n",
    "\n",
    "    imcnn_fpr, imcnn_tpr, _ = roc_curve(imcnn_test, imcnn_predictions)\n",
    "    ideep_fpr, ideep_tpr, _ = roc_curve(ideep_test, ideep_predictions)\n",
    "    ionmf_fpr, ionmf_tpr, _ = roc_curve(ideep_test, ionmf_predictions)\n",
    "    \n",
    "    fig, ax = plt.subplots(figsize=(10, 10))\n",
    "    ax.plot(imcnn_fpr, imcnn_tpr, label='imcnnRNA')\n",
    "    ax.plot(ideep_fpr, ideep_tpr, label='iDeep')\n",
    "    ax.plot(ionmf_fpr, ionmf_tpr, label='iONMFF')\n",
    "\n",
    "    ax.plot([0, 1], [0, 1], 'k--')\n",
    "    ax.legend(loc='lower right')\n",
    "    ax.set_xlabel('False positive rate')\n",
    "    ax.set_ylabel('True positive rate')\n",
    "    ax.set_title('ROC curves of %s' % protein)\n",
    "    plt.savefig(f\"figures/ROC/{protein}.png\")\n",
    "#     plt.show()\n",
    "    plt.close()"
   ]
  },
  {
   "cell_type": "code",
   "execution_count": null,
   "metadata": {
    "scrolled": true
   },
   "outputs": [],
   "source": [
    "from sklearn.calibration import calibration_curve\n",
    "\n",
    "    \n",
    "protein_list = [\"1_PARCLIP_AGO1234_hg19\", \"2_PARCLIP_AGO2MNASE_hg19\",\"3_HITSCLIP_Ago2_binding_clusters\",\"4_HITSCLIP_Ago2_binding_clusters_2\",\"5_CLIPSEQ_AGO2_hg19\", \"6_CLIP-seq-eIF4AIII_1\",\"7_CLIP-seq-eIF4AIII_2\",\"8_PARCLIP_ELAVL1_hg19\",\"9_PARCLIP_ELAVL1MNASE_hg19\", \"10_PARCLIP_ELAVL1A_hg19\", \"10_PARCLIP_ELAVL1A_hg19\", \"12_PARCLIP_EWSR1_hg19\", \"13_PARCLIP_FUS_hg19\", \"14_PARCLIP_FUS_mut_hg19\", \"15_PARCLIP_IGF2BP123_hg19\", \"16_ICLIP_hnRNPC_Hela_iCLIP_all_clusters\", \"17_ICLIP_HNRNPC_hg19\", \"18_ICLIP_hnRNPL_Hela_group_3975_all-hnRNPL-Hela-hg19_sum_G_hg19--ensembl59_from_2337-2339-741_bedGraph-cDNA-hits-in-genome\", \"19_ICLIP_hnRNPL_U266_group_3986_all-hnRNPL-U266-hg19_sum_G_hg19--ensembl59_from_2485_bedGraph-cDNA-hits-in-genome\", \"20_ICLIP_hnRNPlike_U266_group_4000_all-hnRNPLlike-U266-hg19_sum_G_hg19--ensembl59_from_2342-2486_bedGraph-cDNA-hits-in-genome\", \"21_PARCLIP_MOV10_Sievers_hg19\", \"22_ICLIP_NSUN2_293_group_4007_all-NSUN2-293-hg19_sum_G_hg19--ensembl59_from_3137-3202_bedGraph-cDNA-hits-in-genome\", \"23_PARCLIP_PUM2_hg19\", \"24_PARCLIP_QKI_hg19\", \"25_CLIPSEQ_SFRS1_hg19\",\"26_PARCLIP_TAF15_hg19\", \"27_ICLIP_TDP43_hg19\", \"28_ICLIP_TIA1_hg19\", \"29_ICLIP_TIAL1_hg19\", \"30_ICLIP_U2AF65_Hela_iCLIP_ctrl_all_clusters\", \"31_ICLIP_U2AF65_Hela_iCLIP_ctrl+kd_all_clusters\"]\n",
    "for protein in protein_list:\n",
    "    average_score = np.zeros(3)\n",
    "#     print(protein)\n",
    "    complete_ideep_prediction = []\n",
    "    y_scores = []\n",
    "    total_y_test = []\n",
    "    \n",
    "    for training_set_number in range (3):\n",
    "#         print(\"Training set number \" + str(training_set_number))\n",
    "        #Load model predictions.\n",
    "        with open (\"results/set_%s/%s/predictions\" % (training_set_number, protein), \"rb\") as predictions_file,\\\n",
    "            open (\"ideep_results/predictions%s/%s\" % (training_set_number, protein), \"rb\") as ideep_file:\n",
    "            loaded_predictions = np.load(predictions_file)\n",
    "            ideep_prediction = np.loadtxt(ideep_file, delimiter=\"\\n\", unpack=False)\n",
    "            ideep_prediction = np.array(ideep_prediction)\n",
    "            complete_ideep_prediction = np.append(complete_ideep_prediction, [abs(i-1) for i in ideep_prediction])\n",
    "            # Evaluate model performance.\n",
    "            y_scores = np.append(y_scores, loaded_predictions [:,0:1])\n",
    "            y_test = get_class(protein,\"test\",training_set_number)\n",
    "            total_y_test = np.append(total_y_test, y_test [:,0:1])\n",
    "#     print(len(y_scores))\n",
    "    y_scores.flatten()\n",
    "    total_y_test.flatten()\n",
    "    complete_ideep_prediction.flatten()\n",
    "    fraction_of_positives, mean_predicted_value = calibration_curve(total_y_test, y_scores, n_bins=10)\n",
    "    ideep_frp, ideep_mpv = calibration_curve(total_y_test, complete_ideep_prediction, n_bins=10)\n",
    "    \n",
    "    fig = plt.figure(figsize=(10, 10))\n",
    "    ax1 = plt.subplot2grid((3, 1), (0, 0), rowspan=2)\n",
    "    ax2 = plt.subplot2grid((3, 1), (2, 0))\n",
    "    \n",
    "    ax1.plot([0, 1], [0, 1], \"k:\", label=\"Perfectly calibrated\")\n",
    "    ax1.plot(mean_predicted_value, fraction_of_positives, label=\"imcnnRNA\")\n",
    "    ax1.plot(ideep_mpv, ideep_frp, label=\"iDeep\")\n",
    "    ax1.set_ylabel(\"Fraction of positives\")\n",
    "    ax1.set_xlabel(\"Mean predicted value\")            \n",
    "    ax1.legend()\n",
    "\n",
    "    ax2.hist(y_scores, range=(0, 1), bins=10, histtype=\"step\", lw=2, label=\"imcnnRNA\")\n",
    "    ax2.hist(complete_ideep_prediction, range=(0, 1), bins=10, histtype=\"step\", lw=2, label=\"iDeep\")\n",
    "    ax2.hist(total_y_test, range=(0, 1), bins=10, histtype=\"step\", lw=2, color=\"black\", alpha=0.7, ls=\"--\", label=\"Dataset\")\n",
    "    ax2.legend(loc=\"upper left\")\n",
    "    ax2.set_ylabel(\"Count\")\n",
    "    ax2.set_xlabel(\"Mean predicted value\")\n",
    "    \n",
    "    plt.tight_layout()\n",
    "    \n",
    "    plt.savefig(\"results/calibration_curves/{}_calibration_curve.png\".format(protein))\n",
    "#     plt.show()\n",
    "    plt.close()"
   ]
  },
  {
   "cell_type": "code",
   "execution_count": 15,
   "metadata": {},
   "outputs": [
    {
     "data": {
      "text/latex": [
       "\n",
       "    \\begin{figure}\n",
       "        \\begin{center}\n",
       "            \\includegraphics[max size={0.9\\linewidth}{0.4\\paperheight}]{figures/ROC/1_PARCLIP_AGO1234_hg19.png}\n",
       "            \\caption{ROC curves for 1 Ago/EIF}\n",
       "            \\label{fig:ROC1 Ago/EIF}\n",
       "        \\end{center}\n",
       "    \\end{figure}"
      ],
      "text/plain": [
       "<IPython.core.display.Latex object>"
      ]
     },
     "metadata": {},
     "output_type": "display_data"
    },
    {
     "data": {
      "text/latex": [
       "\n",
       "    \\begin{figure}\n",
       "        \\begin{center}\n",
       "            \\includegraphics[max size={0.9\\linewidth}{0.4\\paperheight}]{figures/ROC/2_PARCLIP_AGO2MNASE_hg19.png}\n",
       "            \\caption{ROC curves for 2 Ago2-MNase}\n",
       "            \\label{fig:ROC2 Ago2-MNase}\n",
       "        \\end{center}\n",
       "    \\end{figure}"
      ],
      "text/plain": [
       "<IPython.core.display.Latex object>"
      ]
     },
     "metadata": {},
     "output_type": "display_data"
    },
    {
     "data": {
      "text/latex": [
       "\n",
       "    \\begin{figure}\n",
       "        \\begin{center}\n",
       "            \\includegraphics[max size={0.9\\linewidth}{0.4\\paperheight}]{figures/ROC/3_HITSCLIP_Ago2_binding_clusters.png}\n",
       "            \\caption{ROC curves for 3 Ago2-1}\n",
       "            \\label{fig:ROC3 Ago2-1}\n",
       "        \\end{center}\n",
       "    \\end{figure}"
      ],
      "text/plain": [
       "<IPython.core.display.Latex object>"
      ]
     },
     "metadata": {},
     "output_type": "display_data"
    },
    {
     "data": {
      "text/latex": [
       "\n",
       "    \\begin{figure}\n",
       "        \\begin{center}\n",
       "            \\includegraphics[max size={0.9\\linewidth}{0.4\\paperheight}]{figures/ROC/4_HITSCLIP_Ago2_binding_clusters_2.png}\n",
       "            \\caption{ROC curves for 4 Ago2-2}\n",
       "            \\label{fig:ROC4 Ago2-2}\n",
       "        \\end{center}\n",
       "    \\end{figure}"
      ],
      "text/plain": [
       "<IPython.core.display.Latex object>"
      ]
     },
     "metadata": {},
     "output_type": "display_data"
    },
    {
     "data": {
      "text/latex": [
       "\n",
       "    \\begin{figure}\n",
       "        \\begin{center}\n",
       "            \\includegraphics[max size={0.9\\linewidth}{0.4\\paperheight}]{figures/ROC/5_CLIPSEQ_AGO2_hg19.png}\n",
       "            \\caption{ROC curves for 5 Ago2}\n",
       "            \\label{fig:ROC5 Ago2}\n",
       "        \\end{center}\n",
       "    \\end{figure}"
      ],
      "text/plain": [
       "<IPython.core.display.Latex object>"
      ]
     },
     "metadata": {},
     "output_type": "display_data"
    },
    {
     "data": {
      "text/latex": [
       "\n",
       "    \\begin{figure}\n",
       "        \\begin{center}\n",
       "            \\includegraphics[max size={0.9\\linewidth}{0.4\\paperheight}]{figures/ROC/6_CLIP-seq-eIF4AIII_1.png}\n",
       "            \\caption{ROC curves for 6 eIF4AIII-1}\n",
       "            \\label{fig:ROC6 eIF4AIII-1}\n",
       "        \\end{center}\n",
       "    \\end{figure}"
      ],
      "text/plain": [
       "<IPython.core.display.Latex object>"
      ]
     },
     "metadata": {},
     "output_type": "display_data"
    },
    {
     "data": {
      "text/latex": [
       "\n",
       "    \\begin{figure}\n",
       "        \\begin{center}\n",
       "            \\includegraphics[max size={0.9\\linewidth}{0.4\\paperheight}]{figures/ROC/7_CLIP-seq-eIF4AIII_2.png}\n",
       "            \\caption{ROC curves for 7 eIF4AIII-2}\n",
       "            \\label{fig:ROC7 eIF4AIII-2}\n",
       "        \\end{center}\n",
       "    \\end{figure}"
      ],
      "text/plain": [
       "<IPython.core.display.Latex object>"
      ]
     },
     "metadata": {},
     "output_type": "display_data"
    },
    {
     "data": {
      "text/latex": [
       "\n",
       "    \\begin{figure}\n",
       "        \\begin{center}\n",
       "            \\includegraphics[max size={0.9\\linewidth}{0.4\\paperheight}]{figures/ROC/8_PARCLIP_ELAVL1_hg19.png}\n",
       "            \\caption{ROC curves for 8 ELAVL1-1}\n",
       "            \\label{fig:ROC8 ELAVL1-1}\n",
       "        \\end{center}\n",
       "    \\end{figure}"
      ],
      "text/plain": [
       "<IPython.core.display.Latex object>"
      ]
     },
     "metadata": {},
     "output_type": "display_data"
    },
    {
     "data": {
      "text/latex": [
       "\n",
       "    \\begin{figure}\n",
       "        \\begin{center}\n",
       "            \\includegraphics[max size={0.9\\linewidth}{0.4\\paperheight}]{figures/ROC/9_PARCLIP_ELAVL1MNASE_hg19.png}\n",
       "            \\caption{ROC curves for 9 ELAVL1-MNase}\n",
       "            \\label{fig:ROC9 ELAVL1-MNase}\n",
       "        \\end{center}\n",
       "    \\end{figure}"
      ],
      "text/plain": [
       "<IPython.core.display.Latex object>"
      ]
     },
     "metadata": {},
     "output_type": "display_data"
    },
    {
     "data": {
      "text/latex": [
       "\n",
       "    \\begin{figure}\n",
       "        \\begin{center}\n",
       "            \\includegraphics[max size={0.9\\linewidth}{0.4\\paperheight}]{figures/ROC/10_PARCLIP_ELAVL1A_hg19.png}\n",
       "            \\caption{ROC curves for 10 ELAVL1A}\n",
       "            \\label{fig:ROC10 ELAVL1A}\n",
       "        \\end{center}\n",
       "    \\end{figure}"
      ],
      "text/plain": [
       "<IPython.core.display.Latex object>"
      ]
     },
     "metadata": {},
     "output_type": "display_data"
    },
    {
     "data": {
      "text/latex": [
       "\n",
       "    \\begin{figure}\n",
       "        \\begin{center}\n",
       "            \\includegraphics[max size={0.9\\linewidth}{0.4\\paperheight}]{figures/ROC/10_PARCLIP_ELAVL1A_hg19.png}\n",
       "            \\caption{ROC curves for 11 ELAVL1-2}\n",
       "            \\label{fig:ROC11 ELAVL1-2}\n",
       "        \\end{center}\n",
       "    \\end{figure}"
      ],
      "text/plain": [
       "<IPython.core.display.Latex object>"
      ]
     },
     "metadata": {},
     "output_type": "display_data"
    },
    {
     "data": {
      "text/latex": [
       "\n",
       "    \\begin{figure}\n",
       "        \\begin{center}\n",
       "            \\includegraphics[max size={0.9\\linewidth}{0.4\\paperheight}]{figures/ROC/12_PARCLIP_EWSR1_hg19.png}\n",
       "            \\caption{ROC curves for 12 ESWR1}\n",
       "            \\label{fig:ROC12 ESWR1}\n",
       "        \\end{center}\n",
       "    \\end{figure}"
      ],
      "text/plain": [
       "<IPython.core.display.Latex object>"
      ]
     },
     "metadata": {},
     "output_type": "display_data"
    },
    {
     "data": {
      "text/latex": [
       "\n",
       "    \\begin{figure}\n",
       "        \\begin{center}\n",
       "            \\includegraphics[max size={0.9\\linewidth}{0.4\\paperheight}]{figures/ROC/13_PARCLIP_FUS_hg19.png}\n",
       "            \\caption{ROC curves for 13 FUS}\n",
       "            \\label{fig:ROC13 FUS}\n",
       "        \\end{center}\n",
       "    \\end{figure}"
      ],
      "text/plain": [
       "<IPython.core.display.Latex object>"
      ]
     },
     "metadata": {},
     "output_type": "display_data"
    },
    {
     "data": {
      "text/latex": [
       "\n",
       "    \\begin{figure}\n",
       "        \\begin{center}\n",
       "            \\includegraphics[max size={0.9\\linewidth}{0.4\\paperheight}]{figures/ROC/14_PARCLIP_FUS_mut_hg19.png}\n",
       "            \\caption{ROC curves for 14 Mut FUS}\n",
       "            \\label{fig:ROC14 Mut FUS}\n",
       "        \\end{center}\n",
       "    \\end{figure}"
      ],
      "text/plain": [
       "<IPython.core.display.Latex object>"
      ]
     },
     "metadata": {},
     "output_type": "display_data"
    },
    {
     "data": {
      "text/latex": [
       "\n",
       "    \\begin{figure}\n",
       "        \\begin{center}\n",
       "            \\includegraphics[max size={0.9\\linewidth}{0.4\\paperheight}]{figures/ROC/15_PARCLIP_IGF2BP123_hg19.png}\n",
       "            \\caption{ROC curves for 15 IGFBP1-3}\n",
       "            \\label{fig:ROC15 IGFBP1-3}\n",
       "        \\end{center}\n",
       "    \\end{figure}"
      ],
      "text/plain": [
       "<IPython.core.display.Latex object>"
      ]
     },
     "metadata": {},
     "output_type": "display_data"
    },
    {
     "data": {
      "text/latex": [
       "\n",
       "    \\begin{figure}\n",
       "        \\begin{center}\n",
       "            \\includegraphics[max size={0.9\\linewidth}{0.4\\paperheight}]{figures/ROC/16_ICLIP_hnRNPC_Hela_iCLIP_all_clusters.png}\n",
       "            \\caption{ROC curves for 16 hnRNPC-1}\n",
       "            \\label{fig:ROC16 hnRNPC-1}\n",
       "        \\end{center}\n",
       "    \\end{figure}"
      ],
      "text/plain": [
       "<IPython.core.display.Latex object>"
      ]
     },
     "metadata": {},
     "output_type": "display_data"
    },
    {
     "data": {
      "text/latex": [
       "\n",
       "    \\begin{figure}\n",
       "        \\begin{center}\n",
       "            \\includegraphics[max size={0.9\\linewidth}{0.4\\paperheight}]{figures/ROC/17_ICLIP_HNRNPC_hg19.png}\n",
       "            \\caption{ROC curves for 17 hnRNPC-2}\n",
       "            \\label{fig:ROC17 hnRNPC-2}\n",
       "        \\end{center}\n",
       "    \\end{figure}"
      ],
      "text/plain": [
       "<IPython.core.display.Latex object>"
      ]
     },
     "metadata": {},
     "output_type": "display_data"
    },
    {
     "data": {
      "text/latex": [
       "\n",
       "    \\begin{figure}\n",
       "        \\begin{center}\n",
       "            \\includegraphics[max size={0.9\\linewidth}{0.4\\paperheight}]{figures/ROC/18_ICLIP_hnRNPL_Hela_group_3975_all-hnRNPL-Hela-hg19_sum_G_hg19--ensembl59_from_2337-2339-741_bedGraph-cDNA-hits-in-genome.png}\n",
       "            \\caption{ROC curves for 18 hnRNPL-1}\n",
       "            \\label{fig:ROC18 hnRNPL-1}\n",
       "        \\end{center}\n",
       "    \\end{figure}"
      ],
      "text/plain": [
       "<IPython.core.display.Latex object>"
      ]
     },
     "metadata": {},
     "output_type": "display_data"
    },
    {
     "data": {
      "text/latex": [
       "\n",
       "    \\begin{figure}\n",
       "        \\begin{center}\n",
       "            \\includegraphics[max size={0.9\\linewidth}{0.4\\paperheight}]{figures/ROC/19_ICLIP_hnRNPL_U266_group_3986_all-hnRNPL-U266-hg19_sum_G_hg19--ensembl59_from_2485_bedGraph-cDNA-hits-in-genome.png}\n",
       "            \\caption{ROC curves for 19 hnRNPL-2}\n",
       "            \\label{fig:ROC19 hnRNPL-2}\n",
       "        \\end{center}\n",
       "    \\end{figure}"
      ],
      "text/plain": [
       "<IPython.core.display.Latex object>"
      ]
     },
     "metadata": {},
     "output_type": "display_data"
    },
    {
     "data": {
      "text/latex": [
       "\n",
       "    \\begin{figure}\n",
       "        \\begin{center}\n",
       "            \\includegraphics[max size={0.9\\linewidth}{0.4\\paperheight}]{figures/ROC/20_ICLIP_hnRNPlike_U266_group_4000_all-hnRNPLlike-U266-hg19_sum_G_hg19--ensembl59_from_2342-2486_bedGraph-cDNA-hits-in-genome.png}\n",
       "            \\caption{ROC curves for 20 hnRNPL-like}\n",
       "            \\label{fig:ROC20 hnRNPL-like}\n",
       "        \\end{center}\n",
       "    \\end{figure}"
      ],
      "text/plain": [
       "<IPython.core.display.Latex object>"
      ]
     },
     "metadata": {},
     "output_type": "display_data"
    },
    {
     "data": {
      "text/latex": [
       "\n",
       "    \\begin{figure}\n",
       "        \\begin{center}\n",
       "            \\includegraphics[max size={0.9\\linewidth}{0.4\\paperheight}]{figures/ROC/21_PARCLIP_MOV10_Sievers_hg19.png}\n",
       "            \\caption{ROC curves for 21 MOV10}\n",
       "            \\label{fig:ROC21 MOV10}\n",
       "        \\end{center}\n",
       "    \\end{figure}"
      ],
      "text/plain": [
       "<IPython.core.display.Latex object>"
      ]
     },
     "metadata": {},
     "output_type": "display_data"
    },
    {
     "data": {
      "text/latex": [
       "\n",
       "    \\begin{figure}\n",
       "        \\begin{center}\n",
       "            \\includegraphics[max size={0.9\\linewidth}{0.4\\paperheight}]{figures/ROC/22_ICLIP_NSUN2_293_group_4007_all-NSUN2-293-hg19_sum_G_hg19--ensembl59_from_3137-3202_bedGraph-cDNA-hits-in-genome.png}\n",
       "            \\caption{ROC curves for 22 Nsun2}\n",
       "            \\label{fig:ROC22 Nsun2}\n",
       "        \\end{center}\n",
       "    \\end{figure}"
      ],
      "text/plain": [
       "<IPython.core.display.Latex object>"
      ]
     },
     "metadata": {},
     "output_type": "display_data"
    },
    {
     "data": {
      "text/latex": [
       "\n",
       "    \\begin{figure}\n",
       "        \\begin{center}\n",
       "            \\includegraphics[max size={0.9\\linewidth}{0.4\\paperheight}]{figures/ROC/23_PARCLIP_PUM2_hg19.png}\n",
       "            \\caption{ROC curves for 23 PUM2}\n",
       "            \\label{fig:ROC23 PUM2}\n",
       "        \\end{center}\n",
       "    \\end{figure}"
      ],
      "text/plain": [
       "<IPython.core.display.Latex object>"
      ]
     },
     "metadata": {},
     "output_type": "display_data"
    },
    {
     "data": {
      "text/latex": [
       "\n",
       "    \\begin{figure}\n",
       "        \\begin{center}\n",
       "            \\includegraphics[max size={0.9\\linewidth}{0.4\\paperheight}]{figures/ROC/24_PARCLIP_QKI_hg19.png}\n",
       "            \\caption{ROC curves for 24 QKI}\n",
       "            \\label{fig:ROC24 QKI}\n",
       "        \\end{center}\n",
       "    \\end{figure}"
      ],
      "text/plain": [
       "<IPython.core.display.Latex object>"
      ]
     },
     "metadata": {},
     "output_type": "display_data"
    },
    {
     "data": {
      "text/latex": [
       "\n",
       "    \\begin{figure}\n",
       "        \\begin{center}\n",
       "            \\includegraphics[max size={0.9\\linewidth}{0.4\\paperheight}]{figures/ROC/25_CLIPSEQ_SFRS1_hg19.png}\n",
       "            \\caption{ROC curves for 25 SRSF1}\n",
       "            \\label{fig:ROC25 SRSF1}\n",
       "        \\end{center}\n",
       "    \\end{figure}"
      ],
      "text/plain": [
       "<IPython.core.display.Latex object>"
      ]
     },
     "metadata": {},
     "output_type": "display_data"
    },
    {
     "data": {
      "text/latex": [
       "\n",
       "    \\begin{figure}\n",
       "        \\begin{center}\n",
       "            \\includegraphics[max size={0.9\\linewidth}{0.4\\paperheight}]{figures/ROC/26_PARCLIP_TAF15_hg19.png}\n",
       "            \\caption{ROC curves for 26 TAF15}\n",
       "            \\label{fig:ROC26 TAF15}\n",
       "        \\end{center}\n",
       "    \\end{figure}"
      ],
      "text/plain": [
       "<IPython.core.display.Latex object>"
      ]
     },
     "metadata": {},
     "output_type": "display_data"
    },
    {
     "data": {
      "text/latex": [
       "\n",
       "    \\begin{figure}\n",
       "        \\begin{center}\n",
       "            \\includegraphics[max size={0.9\\linewidth}{0.4\\paperheight}]{figures/ROC/27_ICLIP_TDP43_hg19.png}\n",
       "            \\caption{ROC curves for 27 TDP-43}\n",
       "            \\label{fig:ROC27 TDP-43}\n",
       "        \\end{center}\n",
       "    \\end{figure}"
      ],
      "text/plain": [
       "<IPython.core.display.Latex object>"
      ]
     },
     "metadata": {},
     "output_type": "display_data"
    },
    {
     "data": {
      "text/latex": [
       "\n",
       "    \\begin{figure}\n",
       "        \\begin{center}\n",
       "            \\includegraphics[max size={0.9\\linewidth}{0.4\\paperheight}]{figures/ROC/28_ICLIP_TIA1_hg19.png}\n",
       "            \\caption{ROC curves for 28 TIA1}\n",
       "            \\label{fig:ROC28 TIA1}\n",
       "        \\end{center}\n",
       "    \\end{figure}"
      ],
      "text/plain": [
       "<IPython.core.display.Latex object>"
      ]
     },
     "metadata": {},
     "output_type": "display_data"
    },
    {
     "data": {
      "text/latex": [
       "\n",
       "    \\begin{figure}\n",
       "        \\begin{center}\n",
       "            \\includegraphics[max size={0.9\\linewidth}{0.4\\paperheight}]{figures/ROC/29_ICLIP_TIAL1_hg19.png}\n",
       "            \\caption{ROC curves for 29 TIAL1}\n",
       "            \\label{fig:ROC29 TIAL1}\n",
       "        \\end{center}\n",
       "    \\end{figure}"
      ],
      "text/plain": [
       "<IPython.core.display.Latex object>"
      ]
     },
     "metadata": {},
     "output_type": "display_data"
    },
    {
     "data": {
      "text/latex": [
       "\n",
       "    \\begin{figure}\n",
       "        \\begin{center}\n",
       "            \\includegraphics[max size={0.9\\linewidth}{0.4\\paperheight}]{figures/ROC/30_ICLIP_U2AF65_Hela_iCLIP_ctrl_all_clusters.png}\n",
       "            \\caption{ROC curves for 30 U2AF2}\n",
       "            \\label{fig:ROC30 U2AF2}\n",
       "        \\end{center}\n",
       "    \\end{figure}"
      ],
      "text/plain": [
       "<IPython.core.display.Latex object>"
      ]
     },
     "metadata": {},
     "output_type": "display_data"
    },
    {
     "data": {
      "text/latex": [
       "\n",
       "    \\begin{figure}\n",
       "        \\begin{center}\n",
       "            \\includegraphics[max size={0.9\\linewidth}{0.4\\paperheight}]{figures/ROC/31_ICLIP_U2AF65_Hela_iCLIP_ctrl+kd_all_clusters.png}\n",
       "            \\caption{ROC curves for 31 U2AF2(KD)}\n",
       "            \\label{fig:ROC31 U2AF2(KD)}\n",
       "        \\end{center}\n",
       "    \\end{figure}"
      ],
      "text/plain": [
       "<IPython.core.display.Latex object>"
      ]
     },
     "metadata": {},
     "output_type": "display_data"
    },
    {
     "data": {
      "text/latex": [
       "\n",
       "    \\begin{figure}\n",
       "        \\begin{center}\n",
       "            \\includegraphics[max size={0.9\\linewidth}{0.4\\paperheight}]{figures/calibration_curves/1_PARCLIP_AGO1234_hg19_calibration_curve.png}\n",
       "            \\caption{Calibration curves for 1 Ago/EIF}\n",
       "            \\label{fig:calibration1 Ago/EIF}\n",
       "        \\end{center}\n",
       "    \\end{figure}"
      ],
      "text/plain": [
       "<IPython.core.display.Latex object>"
      ]
     },
     "metadata": {},
     "output_type": "display_data"
    },
    {
     "data": {
      "text/latex": [
       "\n",
       "    \\begin{figure}\n",
       "        \\begin{center}\n",
       "            \\includegraphics[max size={0.9\\linewidth}{0.4\\paperheight}]{figures/calibration_curves/2_PARCLIP_AGO2MNASE_hg19_calibration_curve.png}\n",
       "            \\caption{Calibration curves for 2 Ago2-MNase}\n",
       "            \\label{fig:calibration2 Ago2-MNase}\n",
       "        \\end{center}\n",
       "    \\end{figure}"
      ],
      "text/plain": [
       "<IPython.core.display.Latex object>"
      ]
     },
     "metadata": {},
     "output_type": "display_data"
    },
    {
     "data": {
      "text/latex": [
       "\n",
       "    \\begin{figure}\n",
       "        \\begin{center}\n",
       "            \\includegraphics[max size={0.9\\linewidth}{0.4\\paperheight}]{figures/calibration_curves/3_HITSCLIP_Ago2_binding_clusters_calibration_curve.png}\n",
       "            \\caption{Calibration curves for 3 Ago2-1}\n",
       "            \\label{fig:calibration3 Ago2-1}\n",
       "        \\end{center}\n",
       "    \\end{figure}"
      ],
      "text/plain": [
       "<IPython.core.display.Latex object>"
      ]
     },
     "metadata": {},
     "output_type": "display_data"
    },
    {
     "data": {
      "text/latex": [
       "\n",
       "    \\begin{figure}\n",
       "        \\begin{center}\n",
       "            \\includegraphics[max size={0.9\\linewidth}{0.4\\paperheight}]{figures/calibration_curves/4_HITSCLIP_Ago2_binding_clusters_2_calibration_curve.png}\n",
       "            \\caption{Calibration curves for 4 Ago2-2}\n",
       "            \\label{fig:calibration4 Ago2-2}\n",
       "        \\end{center}\n",
       "    \\end{figure}"
      ],
      "text/plain": [
       "<IPython.core.display.Latex object>"
      ]
     },
     "metadata": {},
     "output_type": "display_data"
    },
    {
     "data": {
      "text/latex": [
       "\n",
       "    \\begin{figure}\n",
       "        \\begin{center}\n",
       "            \\includegraphics[max size={0.9\\linewidth}{0.4\\paperheight}]{figures/calibration_curves/5_CLIPSEQ_AGO2_hg19_calibration_curve.png}\n",
       "            \\caption{Calibration curves for 5 Ago2}\n",
       "            \\label{fig:calibration5 Ago2}\n",
       "        \\end{center}\n",
       "    \\end{figure}"
      ],
      "text/plain": [
       "<IPython.core.display.Latex object>"
      ]
     },
     "metadata": {},
     "output_type": "display_data"
    },
    {
     "data": {
      "text/latex": [
       "\n",
       "    \\begin{figure}\n",
       "        \\begin{center}\n",
       "            \\includegraphics[max size={0.9\\linewidth}{0.4\\paperheight}]{figures/calibration_curves/6_CLIP-seq-eIF4AIII_1_calibration_curve.png}\n",
       "            \\caption{Calibration curves for 6 eIF4AIII-1}\n",
       "            \\label{fig:calibration6 eIF4AIII-1}\n",
       "        \\end{center}\n",
       "    \\end{figure}"
      ],
      "text/plain": [
       "<IPython.core.display.Latex object>"
      ]
     },
     "metadata": {},
     "output_type": "display_data"
    },
    {
     "data": {
      "text/latex": [
       "\n",
       "    \\begin{figure}\n",
       "        \\begin{center}\n",
       "            \\includegraphics[max size={0.9\\linewidth}{0.4\\paperheight}]{figures/calibration_curves/7_CLIP-seq-eIF4AIII_2_calibration_curve.png}\n",
       "            \\caption{Calibration curves for 7 eIF4AIII-2}\n",
       "            \\label{fig:calibration7 eIF4AIII-2}\n",
       "        \\end{center}\n",
       "    \\end{figure}"
      ],
      "text/plain": [
       "<IPython.core.display.Latex object>"
      ]
     },
     "metadata": {},
     "output_type": "display_data"
    },
    {
     "data": {
      "text/latex": [
       "\n",
       "    \\begin{figure}\n",
       "        \\begin{center}\n",
       "            \\includegraphics[max size={0.9\\linewidth}{0.4\\paperheight}]{figures/calibration_curves/8_PARCLIP_ELAVL1_hg19_calibration_curve.png}\n",
       "            \\caption{Calibration curves for 8 ELAVL1-1}\n",
       "            \\label{fig:calibration8 ELAVL1-1}\n",
       "        \\end{center}\n",
       "    \\end{figure}"
      ],
      "text/plain": [
       "<IPython.core.display.Latex object>"
      ]
     },
     "metadata": {},
     "output_type": "display_data"
    },
    {
     "data": {
      "text/latex": [
       "\n",
       "    \\begin{figure}\n",
       "        \\begin{center}\n",
       "            \\includegraphics[max size={0.9\\linewidth}{0.4\\paperheight}]{figures/calibration_curves/9_PARCLIP_ELAVL1MNASE_hg19_calibration_curve.png}\n",
       "            \\caption{Calibration curves for 9 ELAVL1-MNase}\n",
       "            \\label{fig:calibration9 ELAVL1-MNase}\n",
       "        \\end{center}\n",
       "    \\end{figure}"
      ],
      "text/plain": [
       "<IPython.core.display.Latex object>"
      ]
     },
     "metadata": {},
     "output_type": "display_data"
    },
    {
     "data": {
      "text/latex": [
       "\n",
       "    \\begin{figure}\n",
       "        \\begin{center}\n",
       "            \\includegraphics[max size={0.9\\linewidth}{0.4\\paperheight}]{figures/calibration_curves/10_PARCLIP_ELAVL1A_hg19_calibration_curve.png}\n",
       "            \\caption{Calibration curves for 10 ELAVL1A}\n",
       "            \\label{fig:calibration10 ELAVL1A}\n",
       "        \\end{center}\n",
       "    \\end{figure}"
      ],
      "text/plain": [
       "<IPython.core.display.Latex object>"
      ]
     },
     "metadata": {},
     "output_type": "display_data"
    },
    {
     "data": {
      "text/latex": [
       "\n",
       "    \\begin{figure}\n",
       "        \\begin{center}\n",
       "            \\includegraphics[max size={0.9\\linewidth}{0.4\\paperheight}]{figures/calibration_curves/10_PARCLIP_ELAVL1A_hg19_calibration_curve.png}\n",
       "            \\caption{Calibration curves for 11 ELAVL1-2}\n",
       "            \\label{fig:calibration11 ELAVL1-2}\n",
       "        \\end{center}\n",
       "    \\end{figure}"
      ],
      "text/plain": [
       "<IPython.core.display.Latex object>"
      ]
     },
     "metadata": {},
     "output_type": "display_data"
    },
    {
     "data": {
      "text/latex": [
       "\n",
       "    \\begin{figure}\n",
       "        \\begin{center}\n",
       "            \\includegraphics[max size={0.9\\linewidth}{0.4\\paperheight}]{figures/calibration_curves/12_PARCLIP_EWSR1_hg19_calibration_curve.png}\n",
       "            \\caption{Calibration curves for 12 ESWR1}\n",
       "            \\label{fig:calibration12 ESWR1}\n",
       "        \\end{center}\n",
       "    \\end{figure}"
      ],
      "text/plain": [
       "<IPython.core.display.Latex object>"
      ]
     },
     "metadata": {},
     "output_type": "display_data"
    },
    {
     "data": {
      "text/latex": [
       "\n",
       "    \\begin{figure}\n",
       "        \\begin{center}\n",
       "            \\includegraphics[max size={0.9\\linewidth}{0.4\\paperheight}]{figures/calibration_curves/13_PARCLIP_FUS_hg19_calibration_curve.png}\n",
       "            \\caption{Calibration curves for 13 FUS}\n",
       "            \\label{fig:calibration13 FUS}\n",
       "        \\end{center}\n",
       "    \\end{figure}"
      ],
      "text/plain": [
       "<IPython.core.display.Latex object>"
      ]
     },
     "metadata": {},
     "output_type": "display_data"
    },
    {
     "data": {
      "text/latex": [
       "\n",
       "    \\begin{figure}\n",
       "        \\begin{center}\n",
       "            \\includegraphics[max size={0.9\\linewidth}{0.4\\paperheight}]{figures/calibration_curves/14_PARCLIP_FUS_mut_hg19_calibration_curve.png}\n",
       "            \\caption{Calibration curves for 14 Mut FUS}\n",
       "            \\label{fig:calibration14 Mut FUS}\n",
       "        \\end{center}\n",
       "    \\end{figure}"
      ],
      "text/plain": [
       "<IPython.core.display.Latex object>"
      ]
     },
     "metadata": {},
     "output_type": "display_data"
    },
    {
     "data": {
      "text/latex": [
       "\n",
       "    \\begin{figure}\n",
       "        \\begin{center}\n",
       "            \\includegraphics[max size={0.9\\linewidth}{0.4\\paperheight}]{figures/calibration_curves/15_PARCLIP_IGF2BP123_hg19_calibration_curve.png}\n",
       "            \\caption{Calibration curves for 15 IGFBP1-3}\n",
       "            \\label{fig:calibration15 IGFBP1-3}\n",
       "        \\end{center}\n",
       "    \\end{figure}"
      ],
      "text/plain": [
       "<IPython.core.display.Latex object>"
      ]
     },
     "metadata": {},
     "output_type": "display_data"
    },
    {
     "data": {
      "text/latex": [
       "\n",
       "    \\begin{figure}\n",
       "        \\begin{center}\n",
       "            \\includegraphics[max size={0.9\\linewidth}{0.4\\paperheight}]{figures/calibration_curves/16_ICLIP_hnRNPC_Hela_iCLIP_all_clusters_calibration_curve.png}\n",
       "            \\caption{Calibration curves for 16 hnRNPC-1}\n",
       "            \\label{fig:calibration16 hnRNPC-1}\n",
       "        \\end{center}\n",
       "    \\end{figure}"
      ],
      "text/plain": [
       "<IPython.core.display.Latex object>"
      ]
     },
     "metadata": {},
     "output_type": "display_data"
    },
    {
     "data": {
      "text/latex": [
       "\n",
       "    \\begin{figure}\n",
       "        \\begin{center}\n",
       "            \\includegraphics[max size={0.9\\linewidth}{0.4\\paperheight}]{figures/calibration_curves/17_ICLIP_HNRNPC_hg19_calibration_curve.png}\n",
       "            \\caption{Calibration curves for 17 hnRNPC-2}\n",
       "            \\label{fig:calibration17 hnRNPC-2}\n",
       "        \\end{center}\n",
       "    \\end{figure}"
      ],
      "text/plain": [
       "<IPython.core.display.Latex object>"
      ]
     },
     "metadata": {},
     "output_type": "display_data"
    },
    {
     "data": {
      "text/latex": [
       "\n",
       "    \\begin{figure}\n",
       "        \\begin{center}\n",
       "            \\includegraphics[max size={0.9\\linewidth}{0.4\\paperheight}]{figures/calibration_curves/18_ICLIP_hnRNPL_Hela_group_3975_all-hnRNPL-Hela-hg19_sum_G_hg19--ensembl59_from_2337-2339-741_bedGraph-cDNA-hits-in-genome_calibration_curve.png}\n",
       "            \\caption{Calibration curves for 18 hnRNPL-1}\n",
       "            \\label{fig:calibration18 hnRNPL-1}\n",
       "        \\end{center}\n",
       "    \\end{figure}"
      ],
      "text/plain": [
       "<IPython.core.display.Latex object>"
      ]
     },
     "metadata": {},
     "output_type": "display_data"
    },
    {
     "data": {
      "text/latex": [
       "\n",
       "    \\begin{figure}\n",
       "        \\begin{center}\n",
       "            \\includegraphics[max size={0.9\\linewidth}{0.4\\paperheight}]{figures/calibration_curves/19_ICLIP_hnRNPL_U266_group_3986_all-hnRNPL-U266-hg19_sum_G_hg19--ensembl59_from_2485_bedGraph-cDNA-hits-in-genome_calibration_curve.png}\n",
       "            \\caption{Calibration curves for 19 hnRNPL-2}\n",
       "            \\label{fig:calibration19 hnRNPL-2}\n",
       "        \\end{center}\n",
       "    \\end{figure}"
      ],
      "text/plain": [
       "<IPython.core.display.Latex object>"
      ]
     },
     "metadata": {},
     "output_type": "display_data"
    },
    {
     "data": {
      "text/latex": [
       "\n",
       "    \\begin{figure}\n",
       "        \\begin{center}\n",
       "            \\includegraphics[max size={0.9\\linewidth}{0.4\\paperheight}]{figures/calibration_curves/20_ICLIP_hnRNPlike_U266_group_4000_all-hnRNPLlike-U266-hg19_sum_G_hg19--ensembl59_from_2342-2486_bedGraph-cDNA-hits-in-genome_calibration_curve.png}\n",
       "            \\caption{Calibration curves for 20 hnRNPL-like}\n",
       "            \\label{fig:calibration20 hnRNPL-like}\n",
       "        \\end{center}\n",
       "    \\end{figure}"
      ],
      "text/plain": [
       "<IPython.core.display.Latex object>"
      ]
     },
     "metadata": {},
     "output_type": "display_data"
    },
    {
     "data": {
      "text/latex": [
       "\n",
       "    \\begin{figure}\n",
       "        \\begin{center}\n",
       "            \\includegraphics[max size={0.9\\linewidth}{0.4\\paperheight}]{figures/calibration_curves/21_PARCLIP_MOV10_Sievers_hg19_calibration_curve.png}\n",
       "            \\caption{Calibration curves for 21 MOV10}\n",
       "            \\label{fig:calibration21 MOV10}\n",
       "        \\end{center}\n",
       "    \\end{figure}"
      ],
      "text/plain": [
       "<IPython.core.display.Latex object>"
      ]
     },
     "metadata": {},
     "output_type": "display_data"
    },
    {
     "data": {
      "text/latex": [
       "\n",
       "    \\begin{figure}\n",
       "        \\begin{center}\n",
       "            \\includegraphics[max size={0.9\\linewidth}{0.4\\paperheight}]{figures/calibration_curves/22_ICLIP_NSUN2_293_group_4007_all-NSUN2-293-hg19_sum_G_hg19--ensembl59_from_3137-3202_bedGraph-cDNA-hits-in-genome_calibration_curve.png}\n",
       "            \\caption{Calibration curves for 22 Nsun2}\n",
       "            \\label{fig:calibration22 Nsun2}\n",
       "        \\end{center}\n",
       "    \\end{figure}"
      ],
      "text/plain": [
       "<IPython.core.display.Latex object>"
      ]
     },
     "metadata": {},
     "output_type": "display_data"
    },
    {
     "data": {
      "text/latex": [
       "\n",
       "    \\begin{figure}\n",
       "        \\begin{center}\n",
       "            \\includegraphics[max size={0.9\\linewidth}{0.4\\paperheight}]{figures/calibration_curves/23_PARCLIP_PUM2_hg19_calibration_curve.png}\n",
       "            \\caption{Calibration curves for 23 PUM2}\n",
       "            \\label{fig:calibration23 PUM2}\n",
       "        \\end{center}\n",
       "    \\end{figure}"
      ],
      "text/plain": [
       "<IPython.core.display.Latex object>"
      ]
     },
     "metadata": {},
     "output_type": "display_data"
    },
    {
     "data": {
      "text/latex": [
       "\n",
       "    \\begin{figure}\n",
       "        \\begin{center}\n",
       "            \\includegraphics[max size={0.9\\linewidth}{0.4\\paperheight}]{figures/calibration_curves/24_PARCLIP_QKI_hg19_calibration_curve.png}\n",
       "            \\caption{Calibration curves for 24 QKI}\n",
       "            \\label{fig:calibration24 QKI}\n",
       "        \\end{center}\n",
       "    \\end{figure}"
      ],
      "text/plain": [
       "<IPython.core.display.Latex object>"
      ]
     },
     "metadata": {},
     "output_type": "display_data"
    },
    {
     "data": {
      "text/latex": [
       "\n",
       "    \\begin{figure}\n",
       "        \\begin{center}\n",
       "            \\includegraphics[max size={0.9\\linewidth}{0.4\\paperheight}]{figures/calibration_curves/25_CLIPSEQ_SFRS1_hg19_calibration_curve.png}\n",
       "            \\caption{Calibration curves for 25 SRSF1}\n",
       "            \\label{fig:calibration25 SRSF1}\n",
       "        \\end{center}\n",
       "    \\end{figure}"
      ],
      "text/plain": [
       "<IPython.core.display.Latex object>"
      ]
     },
     "metadata": {},
     "output_type": "display_data"
    },
    {
     "data": {
      "text/latex": [
       "\n",
       "    \\begin{figure}\n",
       "        \\begin{center}\n",
       "            \\includegraphics[max size={0.9\\linewidth}{0.4\\paperheight}]{figures/calibration_curves/26_PARCLIP_TAF15_hg19_calibration_curve.png}\n",
       "            \\caption{Calibration curves for 26 TAF15}\n",
       "            \\label{fig:calibration26 TAF15}\n",
       "        \\end{center}\n",
       "    \\end{figure}"
      ],
      "text/plain": [
       "<IPython.core.display.Latex object>"
      ]
     },
     "metadata": {},
     "output_type": "display_data"
    },
    {
     "data": {
      "text/latex": [
       "\n",
       "    \\begin{figure}\n",
       "        \\begin{center}\n",
       "            \\includegraphics[max size={0.9\\linewidth}{0.4\\paperheight}]{figures/calibration_curves/27_ICLIP_TDP43_hg19_calibration_curve.png}\n",
       "            \\caption{Calibration curves for 27 TDP-43}\n",
       "            \\label{fig:calibration27 TDP-43}\n",
       "        \\end{center}\n",
       "    \\end{figure}"
      ],
      "text/plain": [
       "<IPython.core.display.Latex object>"
      ]
     },
     "metadata": {},
     "output_type": "display_data"
    },
    {
     "data": {
      "text/latex": [
       "\n",
       "    \\begin{figure}\n",
       "        \\begin{center}\n",
       "            \\includegraphics[max size={0.9\\linewidth}{0.4\\paperheight}]{figures/calibration_curves/28_ICLIP_TIA1_hg19_calibration_curve.png}\n",
       "            \\caption{Calibration curves for 28 TIA1}\n",
       "            \\label{fig:calibration28 TIA1}\n",
       "        \\end{center}\n",
       "    \\end{figure}"
      ],
      "text/plain": [
       "<IPython.core.display.Latex object>"
      ]
     },
     "metadata": {},
     "output_type": "display_data"
    },
    {
     "data": {
      "text/latex": [
       "\n",
       "    \\begin{figure}\n",
       "        \\begin{center}\n",
       "            \\includegraphics[max size={0.9\\linewidth}{0.4\\paperheight}]{figures/calibration_curves/29_ICLIP_TIAL1_hg19_calibration_curve.png}\n",
       "            \\caption{Calibration curves for 29 TIAL1}\n",
       "            \\label{fig:calibration29 TIAL1}\n",
       "        \\end{center}\n",
       "    \\end{figure}"
      ],
      "text/plain": [
       "<IPython.core.display.Latex object>"
      ]
     },
     "metadata": {},
     "output_type": "display_data"
    },
    {
     "data": {
      "text/latex": [
       "\n",
       "    \\begin{figure}\n",
       "        \\begin{center}\n",
       "            \\includegraphics[max size={0.9\\linewidth}{0.4\\paperheight}]{figures/calibration_curves/30_ICLIP_U2AF65_Hela_iCLIP_ctrl_all_clusters_calibration_curve.png}\n",
       "            \\caption{Calibration curves for 30 U2AF2}\n",
       "            \\label{fig:calibration30 U2AF2}\n",
       "        \\end{center}\n",
       "    \\end{figure}"
      ],
      "text/plain": [
       "<IPython.core.display.Latex object>"
      ]
     },
     "metadata": {},
     "output_type": "display_data"
    },
    {
     "data": {
      "text/latex": [
       "\n",
       "    \\begin{figure}\n",
       "        \\begin{center}\n",
       "            \\includegraphics[max size={0.9\\linewidth}{0.4\\paperheight}]{figures/calibration_curves/31_ICLIP_U2AF65_Hela_iCLIP_ctrl+kd_all_clusters_calibration_curve.png}\n",
       "            \\caption{Calibration curves for 31 U2AF2(KD)}\n",
       "            \\label{fig:calibration31 U2AF2(KD)}\n",
       "        \\end{center}\n",
       "    \\end{figure}"
      ],
      "text/plain": [
       "<IPython.core.display.Latex object>"
      ]
     },
     "metadata": {},
     "output_type": "display_data"
    }
   ],
   "source": [
    "from IPython.display import Latex\n",
    "\n",
    "protein_names = ['1 Ago/EIF', '2 Ago2-MNase', '3 Ago2-1', '4 Ago2-2', '5 Ago2', '6 eIF4AIII-1', '7 eIF4AIII-2', '8 ELAVL1-1', '9 ELAVL1-MNase', '10 ELAVL1A', '11 ELAVL1-2', '12 ESWR1', '13 FUS', '14 Mut FUS', '15 IGFBP1-3', '16 hnRNPC-1', '17 hnRNPC-2', '18 hnRNPL-1', '19 hnRNPL-2', '20 hnRNPL-like', '21 MOV10', '22 Nsun2', '23 PUM2', '24 QKI', '25 SRSF1' , '26 TAF15', '27 TDP-43', '28 TIA1', '29 TIAL1', '30 U2AF2', '31 U2AF2(KD)']\n",
    "\n",
    "\n",
    "def makeplot(figname, figlabel, figcaption):\n",
    "    strLatex=r\"\"\"\n",
    "    \\begin{figure}\n",
    "        \\begin{center}\n",
    "            \\includegraphics[max size={0.9\\linewidth}{0.4\\paperheight}]{%s}\n",
    "            \\caption{%s}\n",
    "            \\label{%s}\n",
    "        \\end{center}\n",
    "    \\end{figure}\"\"\"%(figname, figcaption, figlabel) \n",
    "    return display(Latex(strLatex)) \n",
    "\n",
    "for protein, name in zip(protein_list, protein_names):\n",
    "    figname = f\"figures/ROC/{protein}.png\"\n",
    "    figlabel = f'fig:ROC{name}'\n",
    "    figcaption = f'ROC curves for {name}'\n",
    "    makeplot(figname, figlabel, figcaption)\n",
    "    \n",
    "for protein, name in zip(protein_list, protein_names):\n",
    "    figname = f\"figures/calibration_curves/{protein}_calibration_curve.png\"\n",
    "    figlabel = f'fig:calibration{name}'\n",
    "    figcaption = f'Calibration curves for {name}'\n",
    "    makeplot(figname, figlabel, figcaption)\n"
   ]
  }
 ],
 "metadata": {
  "celltoolbar": "Edit Metadata",
  "kernelspec": {
   "display_name": "Python 3",
   "language": "python",
   "name": "python3"
  },
  "language_info": {
   "codemirror_mode": {
    "name": "ipython",
    "version": 3
   },
   "file_extension": ".py",
   "mimetype": "text/x-python",
   "name": "python",
   "nbconvert_exporter": "python",
   "pygments_lexer": "ipython3",
   "version": "3.7.5"
  },
  "latex_envs": {
   "LaTeX_envs_menu_present": true,
   "autoclose": false,
   "autocomplete": true,
   "bibliofile": "biblio.bib",
   "cite_by": "apalike",
   "current_citInitial": 1,
   "eqLabelWithNumbers": true,
   "eqNumInitial": 1,
   "hotkeys": {
    "equation": "Ctrl-E",
    "itemize": "Ctrl-I"
   },
   "labels_anchors": false,
   "latex_user_defs": false,
   "report_style_numbering": false,
   "user_envs_cfg": false
  },
  "latex_metadata": {
   "affiliation": "University of Ljubljana, Faculty of Computer and Information Science",
   "author": "Anze Lovse, Tomaz Curk",
   "title": "Supplementary"
  }
 },
 "nbformat": 4,
 "nbformat_minor": 2
}
