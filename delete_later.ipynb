{
 "metadata": {
  "language_info": {
   "codemirror_mode": {
    "name": "ipython",
    "version": 3
   },
   "file_extension": ".py",
   "mimetype": "text/x-python",
   "name": "python",
   "nbconvert_exporter": "python",
   "pygments_lexer": "ipython3",
   "version": "3.6.12-final"
  },
  "orig_nbformat": 2,
  "kernelspec": {
   "name": "python3",
   "display_name": "Python 3.6.12 64-bit ('rnap3': conda)",
   "metadata": {
    "interpreter": {
     "hash": "54d2a9842a4608b27ce67022a41a245b1d56e32e33e45e2772f6c8e2ecf9d326"
    }
   }
  }
 },
 "nbformat": 4,
 "nbformat_minor": 2,
 "cells": [
  {
   "cell_type": "code",
   "execution_count": 1,
   "metadata": {},
   "outputs": [
    {
     "output_type": "stream",
     "name": "stderr",
     "text": [
      "Using TensorFlow backend.\n"
     ]
    }
   ],
   "source": [
    "import gzip\n",
    "import os\n",
    "import random\n",
    "\n",
    "import numpy as np\n",
    "from Bio import SeqIO\n",
    "from keras.models import model_from_json, Model\n",
    "from tensorflow import set_random_seed\n",
    "\n",
    "#Set random seeds for reproducibility.\n",
    "np.random.seed(4)\n",
    "random.seed(5)\n",
    "set_random_seed(4) \n",
    "\n",
    "\n",
    "\n",
    "def load_data(path):   \n",
    "    data = gzip.open(os.path.join(path,\"sequences.fa.gz\"),\"rt\")\n",
    "    return data\n",
    "\n",
    "\n",
    "def get_seq(protein, t_data, training_set_number): \n",
    "    if t_data == \"train\":\n",
    "                \n",
    "        training_data = load_data(\"datasets/clip/%s/30000/training_sample_%s\"% (protein, training_set_number))\n",
    "        x_train = np.zeros((30000,101,4))          \n",
    "    \n",
    "    elif t_data == \"test\":    \n",
    "                \n",
    "        training_data = load_data(\"datasets/clip/%s/30000/test_sample_%s\"% (protein, training_set_number))\n",
    "        x_train = np.zeros((10000,101,4))      \n",
    "      \n",
    "    r = 0    \n",
    "      \n",
    "    \n",
    "    for record in SeqIO.parse(training_data,\"fasta\"):\n",
    "        sequence = list(record.seq)                \n",
    "        nucleotide = {'A' : 0, 'T' : 1, 'G' : 2, 'C' : 3, 'N' : 4} \n",
    "        num_seq = list()\n",
    "\n",
    "\n",
    "        for i in range(0,len(sequence)):\n",
    "                num_seq.append(nucleotide[sequence[i]])\n",
    "\n",
    "\n",
    "        X = np.zeros((1,len(num_seq),4))\n",
    "\n",
    "        \n",
    "        for i in range (len(num_seq)):\n",
    "                if num_seq[i] <= 3:\n",
    "                    X[:,i,num_seq[i]] = 1               \n",
    "\n",
    "        x_train[r,:,:] = X\n",
    "        r = r + 1\n",
    "    \n",
    "    return x_train\n",
    "\n",
    "\n",
    "def get_class(protein, t_data,training_set_number):\n",
    "    y_train = []\n",
    "    \n",
    "\n",
    "    if t_data == 'train':\n",
    "        data = load_data(\"datasets/clip/%s/30000/training_sample_%s\"% (protein, training_set_number))\n",
    "\n",
    "    elif t_data == 'test':\n",
    "        data = load_data(\"datasets/clip/%s/30000/test_sample_%s\"% (protein, training_set_number))\n",
    "\n",
    "\n",
    "    for record in SeqIO.parse(data,\"fasta\"):\n",
    "        v = int((record.description).split(\":\")[1])\n",
    "        # [1,0] if there was no observed binding and [0,1] for sequences where binding was observed.\n",
    "        y_train.append([int(v == 0), int(v != 0)])\n",
    "\n",
    "    y_train = np.array(y_train)\n",
    "    return y_train\n",
    "\n",
    "\n",
    "def get_cobinding(protein, t_data, training_set_number):\n",
    "    if t_data == \"train\":\n",
    "        with gzip.open((\"datasets/clip/%s/30000/training_sample_%s/matrix_Cobinding.tab.gz\"% (protein, training_set_number)), \"rt\") as f:\n",
    "            cobinding_data = np.loadtxt(f, skiprows=1) \n",
    "            \n",
    "        cobinding = np.zeros((30000,101,int(cobinding_data.shape[1]/101)),dtype=np.int)    \n",
    "    elif t_data == \"test\":\n",
    "        with gzip.open((\"datasets/clip/%s/30000/test_sample_%s/matrix_Cobinding.tab.gz\"% (protein, training_set_number)), \"rt\") as f:\n",
    "            cobinding_data = np.loadtxt(f, skiprows=1) \n",
    "        cobinding = np.zeros((10000,101,int(cobinding_data.shape[1]/101)),dtype=np.int)\n",
    "   \n",
    "    \n",
    "    for n in range(0,cobinding_data.shape[1],101):\n",
    "        a = cobinding_data[:,n:(n+101)]\n",
    "        cobinding[:,:,int(n/101)] = a\n",
    "    \n",
    "    return cobinding\n",
    "    \n",
    "\n",
    "def get_region (protein, t_data, training_set_number):\n",
    "    if t_data == \"train\":\n",
    "        with gzip.open((\"datasets/clip/%s/30000/training_sample_%s/matrix_RegionType.tab.gz\"% (protein, training_set_number)), \"rt\") as f:\n",
    "            region_data = np.loadtxt(f, skiprows=1)\n",
    "        region = np.zeros((30000,101,int(region_data.shape[1]/101)),dtype=np.int)\n",
    "                             \n",
    "    elif t_data == \"test\":\n",
    "        with gzip.open((\"datasets/clip/%s/30000/test_sample_%s/matrix_RegionType.tab.gz\"% (protein, training_set_number)), \"rt\") as f:\n",
    "            region_data = np.loadtxt(f, skiprows=1) \n",
    "        region = np.zeros((10000,101,int(region_data.shape[1]/101)),dtype=np.int)\n",
    "    \n",
    "\n",
    "    for n in range(0,region_data.shape[1],101):\n",
    "        a = region_data[:,n:int(n+101)]\n",
    "        region[:,:,int(n/101)] = a\n",
    "        \n",
    "    return region\n",
    "\n",
    "\n",
    "def get_fold (protein, t_data, training_set_number):\n",
    "    if t_data == \"train\":\n",
    "        with gzip.open((\"datasets/clip/%s/30000/training_sample_%s/matrix_RNAfold.tab.gz\"% (protein, training_set_number)), \"rt\") as f:\n",
    "            fold_data = np.loadtxt(f, skiprows=1) \n",
    "        fold = np.zeros((30000,101,int(fold_data.shape[1]/101)), dtype=np.int)\n",
    "                             \n",
    "    elif t_data == \"test\":\n",
    "        with gzip.open((\"datasets/clip/%s/30000/test_sample_%s/matrix_RNAfold.tab.gz\"% (protein, training_set_number)), \"rt\") as f:\n",
    "            fold_data = np.loadtxt(f, skiprows=1)\n",
    "        fold = np.zeros((10000,101,int(fold_data.shape[1]/101)), dtype=np.int)\n",
    "\n",
    "\n",
    "\n",
    "\n",
    "    for n in range(0,fold_data.shape[1],101):\n",
    "        a = fold_data[:,n:(n+101)]\n",
    "        fold[:,:,int(n/101)] = a\n",
    "    \n",
    "    \n",
    "    return fold\n",
    "\n",
    "def load_data_sources(protein, t_data, training_set_number, *args):\n",
    "    X = np.array([])\n",
    "    data_sources = []\n",
    "    for arg in args:\n",
    "        \n",
    "        if arg == 'KMER':\n",
    "            if X.size == 0:\n",
    "                X = get_seq(protein, t_data, training_set_number)\n",
    "            else: \n",
    "                X = np.dstack((X, get_seq(protein, t_data, training_set_number)))\n",
    "        if arg == 'RNA': \n",
    "            if X.size == 0:\n",
    "                X = get_fold(protein, t_data, training_set_number)\n",
    "            else: \n",
    "                X = np.dstack((X, get_fold(protein, t_data, training_set_number)))\n",
    "        if arg == 'RG':   \n",
    "            if X.size == 0:\n",
    "                X = get_region(protein, t_data, training_set_number)\n",
    "            else: \n",
    "                X = np.dstack((X, get_region(protein, t_data, training_set_number)))\n",
    "        if arg == 'CLIP': \n",
    "            if X.size == 0:\n",
    "                X = get_cobinding(protein, t_data, training_set_number)\n",
    "            else: \n",
    "                X = np.dstack((X, get_cobinding(protein, t_data, training_set_number)))\n",
    "        data_sources.append(arg)\n",
    "        \n",
    "    data_sources = ','.join(data_sources)\n",
    "    return data_sources, X"
   ]
  },
  {
   "cell_type": "code",
   "execution_count": 36,
   "metadata": {},
   "outputs": [
    {
     "output_type": "stream",
     "name": "stdout",
     "text": [
      "(2000, 96, 10)\n"
     ]
    }
   ],
   "source": [
    "training_set_number = 0\n",
    "protein = \"27_ICLIP_TDP43_hg19\"\n",
    "experiment_set = ['KMER' , 'RNA', 'RG', 'CLIP']\n",
    "\n",
    "def get_positive_samples(protein, t_data, training_set_number, *args ):\n",
    "    data_sources, X_test = load_data_sources(protein, t_data, training_set_number, *args)\n",
    "    y_test = get_class(protein, t_data, training_set_number)\n",
    "    y_test = y_test [:,1]\n",
    "    positive_samples = np.zeros((2000, X_test.shape[1], X_test.shape[2]))\n",
    "    n = 0\n",
    "\n",
    "    for i, value in enumerate(y_test):\n",
    "        if value == 1:\n",
    "            positive_samples[n] = X_test[i]\n",
    "            n += 1 \n",
    " \n",
    "    return positive_samples\n",
    "\n",
    "X_samples = get_positive_samples(protein, 'test', training_set_number, *experiment_set)\n",
    "\n",
    "with open(f\"results/set_{training_set_number}/{protein}/model.json\", \"r\") as json_file:\n",
    "    json = json_file.read()\n",
    "    model = model_from_json(json)\n",
    "    model.load_weights(f\"results/set_{training_set_number}/{protein}/weights.h5\")\n",
    "    model.compile(loss='categorical_crossentropy', optimizer='adam', metrics=['accuracy'])\n",
    "    \n",
    "first_layer_outputs = model.layers[0].output\n",
    "activation_model = Model(inputs = model.input, outputs = first_layer_outputs)\n",
    "\n",
    "activations = activation_model.predict(X_samples)\n",
    "print(activations.shape)     "
   ]
  },
  {
   "cell_type": "code",
   "execution_count": 31,
   "metadata": {},
   "outputs": [],
   "source": [
    "# max_pct = 0.5\n",
    "# all_activations = np.ravel(activations)\n",
    "# threshold = maxpct_t * all_activations.max()\n",
    "\n",
    "\n",
    "# print(threshold)\n",
    "test_sequences = load_data(\"datasets/clip/%s/30000/test_sample_%s\"% (protein, training_set_number))\n",
    "y_test = get_class(protein, \"test\", training_set_number)\n",
    "y_test = y_test [:,1]\n",
    "positive_seq = [seq for seq, label in zip(SeqIO.parse(test_sequences,\"fasta\"), y_test) if label == 1]"
   ]
  },
  {
   "cell_type": "code",
   "execution_count": 39,
   "metadata": {
    "tags": []
   },
   "outputs": [
    {
     "output_type": "stream",
     "name": "stdout",
     "text": [
      "0.6639365255832672\n",
      "0.9464169144630432\n",
      "0.781870648264885\n",
      "0.9657856822013855\n",
      "0.46774134039878845\n",
      "0.727801151573658\n",
      "0.4989057779312134\n",
      "1.2489061504602432\n",
      "0.9553701281547546\n",
      "0.4875513017177582\n"
     ]
    }
   ],
   "source": [
    "from Bio.Seq import Seq\n",
    "\n",
    "max_pct=0.5\n",
    "\n",
    "filters_sequences = {}\n",
    "for filter_number in range(10):\n",
    "    filter_activations = activations[:,:,filter_number]\n",
    "\n",
    "    all_activations = np.ravel(filter_activations)\n",
    "    activations_mean = all_activations.mean()\n",
    "    activations_norm = all_activations - activations_mean\n",
    "    threshold = max_pct * activations_norm.max() + activations_mean\n",
    "\n",
    "    for case_num, act in enumerate(filter_activations):\n",
    "        locations = np.argwhere(act > threshold)\n",
    "        if locations.size != 0:\n",
    "            for loc in locations.flatten():\n",
    "                loc = int(loc)\n",
    "                nucleotides = list(positive_seq[case_num].seq)[loc: loc + 6]\n",
    "                motif = Seq(\"\".join(nucleotides).replace(\"T\", \"U\"))\n",
    "\n",
    "                if filter_number in filters_sequences:\n",
    "                    filters_sequences[filter_number].append(motif)\n",
    "                else:\n",
    "                    filters_sequences[filter_number] = [motif]\n",
    "\n",
    "\n",
    "                \n",
    "for filter_number, fil_seq in filters_sequences.items():\n",
    "    if not os.path.exists('test_motifs/{}'.format(protein)):\n",
    "        os.mkdir('test_motifs/{}'.format(protein))\n",
    "    with open(f\"test_motifs/{protein}/filter{filter_number}_motif.txt\", \"w\") as motif_file:\n",
    "        for motif in fil_seq:\n",
    "            motif_file.write(str(motif) + \"\\n\")\n",
    "\n"
   ]
  },
  {
   "source": [
    "from Bio.Seq import Seq\n",
    "\n",
    "\n",
    "filters_sequences = {}\n",
    "for case_num, case in enumerate(activations):\n",
    "    #shape is case/binding site, sequence, filter (2000, 96, 10)\n",
    "    for filter_number, filter_act in enumerate(case.T):\n",
    "        locations = np.argwhere(filter_act > threshold)\n",
    "        if locations.size != 0:\n",
    "            for loc in locations:\n",
    "                loc = int(loc)\n",
    "\n",
    "                nucleotides = list(positive_seq[case_num].seq)[loc: loc + 6]\n",
    "                motif = Seq(\"\".join(nucleotides).replace(\"T\", \"U\"))\n",
    "\n",
    "                if filter_number in filters_sequences:\n",
    "                    filters_sequences[filter_number].append(motif)\n",
    "                else:\n",
    "                    filters_sequences[filter_number] = [motif]\n",
    "\n",
    "\n",
    "                \n",
    "for filter_number, fil_seq in filters_sequences.items():\n",
    "    if not os.path.exists('test_motifs/{}'.format(protein)):\n",
    "        os.mkdir('test_motifs/{}'.format(protein))\n",
    "    with open(f\"test_motifs/{protein}/filter{filter_number}_motif.txt\", \"w\") as motif_file:\n",
    "        for motif in fil_seq:\n",
    "            motif_file.write(str(motif) + \"\\n\")\n",
    "        "
   ],
   "cell_type": "code",
   "metadata": {
    "tags": []
   },
   "execution_count": 88,
   "outputs": []
  },
  {
   "cell_type": "code",
   "execution_count": 40,
   "metadata": {},
   "outputs": [
    {
     "output_type": "display_data",
     "data": {
      "image/png": "[encoded data removed]",
      "text/plain": "<IPython.core.display.Image object>"
     },
     "metadata": {}
    },
    {
     "output_type": "display_data",
     "data": {
      "image/png": "[encoded data removed]",
      "text/plain": "<IPython.core.display.Image object>"
     },
     "metadata": {}
    },
    {
     "output_type": "display_data",
     "data": {
      "image/png": "[encoded data removed]",
      "text/plain": "<IPython.core.display.Image object>"
     },
     "metadata": {}
    },
    {
     "output_type": "display_data",
     "data": {
      "image/png": "[encoded data removed]",
      "text/plain": "<IPython.core.display.Image object>"
     },
     "metadata": {}
    },
    {
     "output_type": "display_data",
     "data": {
      "image/png": "[encoded data removed]",
      "text/plain": "<IPython.core.display.Image object>"
     },
     "metadata": {}
    },
    {
     "output_type": "display_data",
     "data": {
      "image/png": "[encoded data removed]",
      "text/plain": "<IPython.core.display.Image object>"
     },
     "metadata": {}
    },
    {
     "output_type": "display_data",
     "data": {
      "image/png": "[encoded data removed]",
      "text/plain": "<IPython.core.display.Image object>"
     },
     "metadata": {}
    },
    {
     "output_type": "display_data",
     "data": {
      "image/png": "[encoded data removed]",
      "text/plain": "<IPython.core.display.Image object>"
     },
     "metadata": {}
    },
    {
     "output_type": "display_data",
     "data": {
      "image/png": "[encoded data removed]",
      "text/plain": "<IPython.core.display.Image object>"
     },
     "metadata": {}
    },
    {
     "output_type": "display_data",
     "data": {
      "image/png": "[encoded data removed]",
      "text/plain": "<IPython.core.display.Image object>"
     },
     "metadata": {}
    }
   ],
   "source": [
    "from IPython.display import display, Image \n",
    "for filter_number, fil_seq in filters_sequences.items():\n",
    "    title = (f\"'Logo for filter {filter_number} ({len(fil_seq)})'\")\n",
    "    cmd = (f\"weblogo -f test_motifs/{protein}/filter{filter_number}_motif.txt -F png -o test_motifs/{protein}/motif{filter_number}.png -P '' --title 'Filter motif {filter_number} ({len(fil_seq)})' --size large --errorbars NO --show-xaxis YES --show-yaxis YES -A rna --composition none --color '#00CC00' 'A' 'A' --color '#0000CC' 'C' 'C' --color '#FFB300' 'G' 'G' --color '#CC0000' 'U' 'U'\")\n",
    "    os.system(cmd)\n",
    "\n",
    "    \n",
    "    display(Image('test_motifs/{1}/motif{0}.png'.format(filter_number, protein)))\n"
   ]
  },
  {
   "cell_type": "code",
   "execution_count": 3,
   "metadata": {},
   "outputs": [
    {
     "output_type": "execute_result",
     "data": {
      "text/plain": [
       "{'1_PARCLIP_AGO1234_hg19': '1 Ago/EIF',\n",
       " '2_PARCLIP_AGO2MNASE_hg19': '2 Ago2-MNase',\n",
       " '3_HITSCLIP_Ago2_binding_clusters': '3 Ago2-1',\n",
       " '4_HITSCLIP_Ago2_binding_clusters_2': '4 Ago2-2',\n",
       " '5_CLIPSEQ_AGO2_hg19': '5 Ago2',\n",
       " '6_CLIP-seq-eIF4AIII_1': '6 eIF4AIII-1',\n",
       " '7_CLIP-seq-eIF4AIII_2': '7 eIF4AIII-2',\n",
       " '8_PARCLIP_ELAVL1_hg19': '8 ELAVL1-1',\n",
       " '9_PARCLIP_ELAVL1MNASE_hg19': '9 ELAVL1-MNase',\n",
       " '10_PARCLIP_ELAVL1A_hg19': '10 ELAVL1A',\n",
       " '12_PARCLIP_EWSR1_hg19': '12 ESWR1',\n",
       " '13_PARCLIP_FUS_hg19': '13 FUS',\n",
       " '14_PARCLIP_FUS_mut_hg19': '14 Mut FUS',\n",
       " '15_PARCLIP_IGF2BP123_hg19': '15 IGFBP1-3',\n",
       " '16_ICLIP_hnRNPC_Hela_iCLIP_all_clusters': '16 hnRNPC-1',\n",
       " '17_ICLIP_HNRNPC_hg19': '17 hnRNPC-2',\n",
       " '18_ICLIP_hnRNPL_Hela_group_3975_all-hnRNPL-Hela-hg19_sum_G_hg19--ensembl59_from_2337-2339-741_bedGraph-cDNA-hits-in-genome': '18 hnRNPL-1',\n",
       " '19_ICLIP_hnRNPL_U266_group_3986_all-hnRNPL-U266-hg19_sum_G_hg19--ensembl59_from_2485_bedGraph-cDNA-hits-in-genome': '19 hnRNPL-2',\n",
       " '20_ICLIP_hnRNPlike_U266_group_4000_all-hnRNPLlike-U266-hg19_sum_G_hg19--ensembl59_from_2342-2486_bedGraph-cDNA-hits-in-genome': '20 hnRNPL-like',\n",
       " '21_PARCLIP_MOV10_Sievers_hg19': '21 MOV10',\n",
       " '22_ICLIP_NSUN2_293_group_4007_all-NSUN2-293-hg19_sum_G_hg19--ensembl59_from_3137-3202_bedGraph-cDNA-hits-in-genome': '22 Nsun2',\n",
       " '23_PARCLIP_PUM2_hg19': '23 PUM2',\n",
       " '24_PARCLIP_QKI_hg19': '24 QKI',\n",
       " '25_CLIPSEQ_SFRS1_hg19': '25 SRSF1',\n",
       " '26_PARCLIP_TAF15_hg19': '26 TAF15',\n",
       " '27_ICLIP_TDP43_hg19': '27 TDP-43',\n",
       " '28_ICLIP_TIA1_hg19': '28 TIA1',\n",
       " '29_ICLIP_TIAL1_hg19': '29 TIAL1',\n",
       " '30_ICLIP_U2AF65_Hela_iCLIP_ctrl_all_clusters': '30 U2AF2',\n",
       " '31_ICLIP_U2AF65_Hela_iCLIP_ctrl+kd_all_clusters': '31 U2AF2(KD)'}"
      ]
     },
     "metadata": {},
     "execution_count": 3
    }
   ],
   "source": [
    "PROTEINS = ['1 Ago/EIF', '2 Ago2-MNase', '3 Ago2-1', '4 Ago2-2', '5 Ago2', '6 eIF4AIII-1', '7 eIF4AIII-2', '8 ELAVL1-1', '9 ELAVL1-MNase', '10 ELAVL1A', '12 ESWR1', '13 FUS', '14 Mut FUS', '15 IGFBP1-3', '16 hnRNPC-1', '17 hnRNPC-2', '18 hnRNPL-1', '19 hnRNPL-2', '20 hnRNPL-like', '21 MOV10', '22 Nsun2', '23 PUM2', '24 QKI', '25 SRSF1' , '26 TAF15', '27 TDP-43', '28 TIA1', '29 TIAL1', '30 U2AF2', '31 U2AF2(KD)']\n",
    "protein_list = [\"1_PARCLIP_AGO1234_hg19\", \"2_PARCLIP_AGO2MNASE_hg19\",\"3_HITSCLIP_Ago2_binding_clusters\",\"4_HITSCLIP_Ago2_binding_clusters_2\",\"5_CLIPSEQ_AGO2_hg19\", \"6_CLIP-seq-eIF4AIII_1\",\"7_CLIP-seq-eIF4AIII_2\",\"8_PARCLIP_ELAVL1_hg19\",\"9_PARCLIP_ELAVL1MNASE_hg19\", \"10_PARCLIP_ELAVL1A_hg19\", \"12_PARCLIP_EWSR1_hg19\", \"13_PARCLIP_FUS_hg19\", \"14_PARCLIP_FUS_mut_hg19\", \"15_PARCLIP_IGF2BP123_hg19\", \"16_ICLIP_hnRNPC_Hela_iCLIP_all_clusters\", \"17_ICLIP_HNRNPC_hg19\", \"18_ICLIP_hnRNPL_Hela_group_3975_all-hnRNPL-Hela-hg19_sum_G_hg19--ensembl59_from_2337-2339-741_bedGraph-cDNA-hits-in-genome\", \"19_ICLIP_hnRNPL_U266_group_3986_all-hnRNPL-U266-hg19_sum_G_hg19--ensembl59_from_2485_bedGraph-cDNA-hits-in-genome\", \"20_ICLIP_hnRNPlike_U266_group_4000_all-hnRNPLlike-U266-hg19_sum_G_hg19--ensembl59_from_2342-2486_bedGraph-cDNA-hits-in-genome\", \"21_PARCLIP_MOV10_Sievers_hg19\", \"22_ICLIP_NSUN2_293_group_4007_all-NSUN2-293-hg19_sum_G_hg19--ensembl59_from_3137-3202_bedGraph-cDNA-hits-in-genome\", \"23_PARCLIP_PUM2_hg19\", \"24_PARCLIP_QKI_hg19\", \"25_CLIPSEQ_SFRS1_hg19\",\"26_PARCLIP_TAF15_hg19\", \"27_ICLIP_TDP43_hg19\", \"28_ICLIP_TIA1_hg19\", \"29_ICLIP_TIAL1_hg19\", \"30_ICLIP_U2AF65_Hela_iCLIP_ctrl_all_clusters\", \"31_ICLIP_U2AF65_Hela_iCLIP_ctrl+kd_all_clusters\"]\n",
    "PROTEIN_NAMES = {protein:name for (protein,name) in zip(protein_list, PROTEINS)}\n",
    "PROTEIN_NAMES"
   ]
  },
  {
   "cell_type": "code",
   "execution_count": null,
   "metadata": {},
   "outputs": [],
   "source": []
  }
 ]
}