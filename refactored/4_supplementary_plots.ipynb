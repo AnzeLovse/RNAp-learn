{
 "metadata": {
  "language_info": {
   "codemirror_mode": {
    "name": "ipython",
    "version": 3
   },
   "file_extension": ".py",
   "mimetype": "text/x-python",
   "name": "python",
   "nbconvert_exporter": "python",
   "pygments_lexer": "ipython3",
   "version": "3.6.12"
  },
  "orig_nbformat": 2,
  "kernelspec": {
   "name": "python3612jvsc74a57bd054d2a9842a4608b27ce67022a41a245b1d56e32e33e45e2772f6c8e2ecf9d326",
   "display_name": "Python 3.6.12 64-bit ('rnap3': conda)"
  }
 },
 "nbformat": 4,
 "nbformat_minor": 2,
 "cells": [
  {
   "cell_type": "code",
   "execution_count": 10,
   "metadata": {},
   "outputs": [],
   "source": [
    "import os\n",
    "import pickle\n",
    "\n",
    "import matplotlib.pyplot as plt\n",
    "import matplotlib.style as style\n",
    "import numpy as np\n",
    "import pandas as pd\n",
    "\n",
    "from IPython.display import display, Image\n",
    "from sklearn.metrics import roc_auc_score, roc_curve\n",
    "\n",
    "from utils import get_class, load_data_sources, reset_seeds, get_positive_samples\n",
    "from constants import protein_list, protein_names, experiment_set\n",
    "\n",
    "style.use('seaborn-poster')\n",
    "\n",
    "#Set random seeds for reproducibility.\n",
    "reset_seeds()"
   ]
  },
  {
   "cell_type": "code",
   "execution_count": null,
   "metadata": {},
   "outputs": [],
   "source": [
    "receptive_field = 0\n",
    "receptive_field_previous = 1\n",
    "filters = [6,20,4,40,4,30,3]\n",
    "layers = ['conv1','pool1','conv2','pool2','conv3','pool3','conv4']\n",
    "\n",
    "for i, filter_size in enumerate(filters):\n",
    "    receptive_field = receptive_field_previous + filter_size - 1\n",
    "    print('ERF of layer {} is {}'.format(layers[i], receptive_field))\n",
    "    receptive_field_previous = receptive_field"
   ]
  },
  {
   "cell_type": "code",
   "execution_count": 9,
   "metadata": {},
   "outputs": [
    {
     "output_type": "display_data",
     "data": {
      "text/plain": "<IPython.core.display.Latex object>",
      "text/latex": "\\subsection{Ago/EIF}\n    \\begin{figure}[h!]\n        \\begin{center}\n            \\includegraphics[width=\\textwidth]{/1_PARCLIP_AGO1234_hg19.png}\n            \\caption{Aggregated plots for Ago/EIF. (a) Area under ROC curve analysis of iDeep, iONMF and mcBind. (b) Calibration curves for iDeep and mcBind. For each of the two models the distribution of predicted values is shown below. (c) Sequence logo based on most salient regions. (d) Sequence motifs based on filter activation. Filters are ordered by the impact on AUC when this filter is omitted. The number of times each filter was activated is written in parentheses. (e) Visualisation of filter weights. (f) Artificial sequence that achieves the maximum activation.}\n            \\label{sf:1_Ago/EIF}\n        \\end{center}\n    \\end{figure}\n    \\clearpage"
     },
     "metadata": {}
    }
   ],
   "source": [
    "\n",
    "from IPython.display import Latex\n",
    "\n",
    "def makeplot(figname, figlabel, figcaption):\n",
    "    strLatex=r\"\"\"\\subsection{%s}\n",
    "    \\begin{figure}[h!]\n",
    "        \\begin{center}\n",
    "            \\includegraphics[width=\\textwidth]{/%s}\n",
    "            \\caption{%s}\n",
    "            \\label{sf:%s}\n",
    "        \\end{center}\n",
    "    \\end{figure}\n",
    "    \\clearpage\"\"\"%(figlabel.split(\" \")[1], figname, figcaption, figlabel.replace(\" \", \"_\")) \n",
    "    return display(Latex(strLatex))\n",
    "\n",
    "for protein, name in zip(protein_list, protein_names):\n",
    "    fig_text = [\n",
    "        f\"Aggregated plots for {name.split(' ')[1]}. (a) Area under ROC curve analysis of iDeep, iONMF and mcBind. (b) Calibration curves for iDeep and mcBind. For each of the \"\n",
    "        \"two models the distribution of predicted values is shown below. (c) Sequence logo based on most salient regions. (d) Sequence motifs based on filter activation. Filters are ordered \"\n",
    "        \"by the impact on AUC when this filter is omitted. The number of times each filter was activated is written in parentheses. (e) Visualisation of filter weights. (f) Artificial sequence \"\n",
    "        \"that achieves the maximum activation.\"\n",
    "    ]\n",
    "    makeplot(f\"{protein}.png\", name, fig_text[0])\n"
   ]
  },
  {
   "cell_type": "code",
   "execution_count": 7,
   "metadata": {},
   "outputs": [],
   "source": [
    "%run aggregate"
   ]
  },
  {
   "cell_type": "code",
   "execution_count": null,
   "metadata": {},
   "outputs": [],
   "source": [
    "%run shallow_model.py"
   ]
  },
  {
   "cell_type": "code",
   "execution_count": 8,
   "metadata": {},
   "outputs": [
    {
     "output_type": "execute_result",
     "data": {
      "text/plain": [
       "[0.9414360833333334]"
      ]
     },
     "metadata": {},
     "execution_count": 8
    }
   ],
   "source": [
    "shallow_results = pd.read_csv(\"shallow_model/scores.tsv\", sep=\"\\t\", index_col=0)\n",
    "shallow_results.mean(axis=1).to_list()"
   ]
  },
  {
   "cell_type": "code",
   "execution_count": 43,
   "metadata": {},
   "outputs": [
    {
     "output_type": "stream",
     "name": "stdout",
     "text": [
      "Mean difference with iDeep is 0.006286143333333327 \nNumber of proteins for which our model is better: 1 \nMean difference with Shallow mcbind is 0.001539499999999916 \nNumber of proteins for which our model is better: 1 \n"
     ]
    },
    {
     "output_type": "execute_result",
     "data": {
      "text/plain": [
       "<pandas.io.formats.style.Styler at 0x7f1aec6aa0b8>"
      ],
      "text/html": "<style  type=\"text/css\" >\n#T_bd74f090_d291_11eb_a0b7_a1db235862e8row0_col0{\n            font-weight: bold;\n        }</style><table id=\"T_bd74f090_d291_11eb_a0b7_a1db235862e8\" ><thead>    <tr>        <th class=\"blank level0\" ></th>        <th class=\"col_heading level0 col0\" >mcBind</th>        <th class=\"col_heading level0 col1\" >iDeep</th>        <th class=\"col_heading level0 col2\" >Shallow mcBind</th>    </tr></thead><tbody>\n                <tr>\n                        <th id=\"T_bd74f090_d291_11eb_a0b7_a1db235862e8level0_row0\" class=\"row_heading level0 row0\" >1_PARCLIP_AGO1234_hg19</th>\n                        <td id=\"T_bd74f090_d291_11eb_a0b7_a1db235862e8row0_col0\" class=\"data row0 col0\" >0.943</td>\n                        <td id=\"T_bd74f090_d291_11eb_a0b7_a1db235862e8row0_col1\" class=\"data row0 col1\" >0.937</td>\n                        <td id=\"T_bd74f090_d291_11eb_a0b7_a1db235862e8row0_col2\" class=\"data row0 col2\" >0.941</td>\n            </tr>\n    </tbody></table>"
     },
     "metadata": {},
     "execution_count": 43
    }
   ],
   "source": [
    "with open(\"results/scores_dict.pkl\" , \"rb\") as pkl:\n",
    "    scores_dict = pickle.load(pkl)\n",
    "\n",
    "def latex_highlight(x):\n",
    "    is_max = x == x.max()\n",
    "    return [f'\\\\textbf{{{np.round(val, 2)}}}' if v else np.round(val, 2) for val, v in zip(x, is_max)]\n",
    "def highlight_max(s):\n",
    "    \"\"\"Marks the series in bold.\"\"\"\n",
    "    is_max = s == s.max()\n",
    "    return ['font-weight:bold' if v else '' for v in is_max]\n",
    "\n",
    "ideep = [0.93668944, ]#0.76282461, 0.94159092, 0.94483924, 0.76107508, 0.95504916,\n",
    "        #  0.97001479, 0.96485094, 0.76609511, 0.9469512,  0.9469512,  0.9525081,\n",
    "        #  0.94539888, 0.98648477, 0.95614971, 0.94825049, 0.96873706, 0.84875831,\n",
    "        #  0.82395875, 0.82983874, 0.97112416, 0.88624311, 0.98298004, 0.96877799,\n",
    "        #  0.92754448, 0.97679184, 0.91218175, 0.94829456, 0.9227082,  0.95288192,\n",
    "        #  0.94209036]\n",
    "\n",
    "new = [v for v in scores_dict.values()]\n",
    "shallow = shallow_results.mean(axis=1).to_list()\n",
    "\n",
    "table_data = {'mcBind': new, 'iDeep': ideep, 'Shallow mcBind': shallow}\n",
    "\n",
    "table = pd.DataFrame(table_data, index=protein_list)\n",
    "\n",
    "d1 = np.subtract(new, ideep)\n",
    "d2 = np.subtract(new, shallow)\n",
    "\n",
    "n1 = sum(1 for number in d1 if number > 0)\n",
    "n2 = sum(1 for number in d2 if number > 0)\n",
    "\n",
    "print(\"Mean difference with iDeep is %s \" % (np.mean(d1)))\n",
    "print(\"Number of proteins for which our model is better: %s \" % (n1))\n",
    "print(\"Mean difference with Shallow mcbind is %s \" % (np.mean(d2)))\n",
    "print(\"Number of proteins for which our model is better: %s \" % (n2))\n",
    "\n",
    "\n",
    "with pd.option_context('display.precision', 3):\n",
    "    html = (table.style.apply(highlight_max, axis=1))\n",
    "latex_table = table.apply(latex_highlight, axis=1, result_type='expand')\n",
    "\n",
    "html\n",
    "\n"
   ]
  },
  {
   "cell_type": "code",
   "execution_count": 27,
   "metadata": {},
   "outputs": [
    {
     "output_type": "stream",
     "name": "stdout",
     "text": [
      "\\begin{tabular}{lrrl}\n\\toprule\n{} &     0 &     1 &              2 \\\\\n\\midrule\n1_PARCLIP_AGO1234_hg19 &  0.94 &  0.94 &  \\textbf{0.94} \\\\\n\\bottomrule\n\\end{tabular}\n\n"
     ]
    }
   ],
   "source": [
    "print(latex_table.to_latex(escape=False))"
   ]
  },
  {
   "cell_type": "code",
   "execution_count": 44,
   "metadata": {},
   "outputs": [
    {
     "output_type": "display_data",
     "data": {
      "text/plain": "<Figure size 1152x288 with 1 Axes>",
      "image/svg+xml": "<?xml version=\"1.0\" encoding=\"utf-8\" standalone=\"no\"?>\n<!DOCTYPE svg PUBLIC \"-//W3C//DTD SVG 1.1//EN\"\n  \"http://www.w3.org/Graphics/SVG/1.1/DTD/svg11.dtd\">\n<!-- Created with matplotlib (https://matplotlib.org/) -->\n<svg height=\"302.4pt\" version=\"1.1\" viewBox=\"0 0 1166.4 302.4\" width=\"1166.4pt\" xmlns=\"http://www.w3.org/2000/svg\" xmlns:xlink=\"http://www.w3.org/1999/xlink\">\n <metadata>\n  <rdf:RDF xmlns:cc=\"http://creativecommons.org/ns#\" xmlns:dc=\"http://purl.org/dc/elements/1.1/\" xmlns:rdf=\"http://www.w3.org/1999/02/22-rdf-syntax-ns#\">\n   <cc:Work>\n    <dc:type rdf:resource=\"http://purl.org/dc/dcmitype/StillImage\"/>\n    <dc:date>2021-06-21T13:08:19.960088</dc:date>\n    <dc:format>image/svg+xml</dc:format>\n    <dc:creator>\n     <cc:Agent>\n      <dc:title>Matplotlib v3.3.2, https://matplotlib.org/</dc:title>\n     </cc:Agent>\n    </dc:creator>\n   </cc:Work>\n  </rdf:RDF>\n </metadata>\n <defs>\n  <style type=\"text/css\">*{stroke-linecap:butt;stroke-linejoin:round;}</style>\n </defs>\n <g id=\"figure_1\">\n  <g id=\"patch_1\">\n   <path d=\"M 0 302.4 \nL 1166.4 302.4 \nL 1166.4 0 \nL 0 0 \nz\n\" style=\"fill:#ffffff;\"/>\n  </g>\n  <g id=\"axes_1\">\n   <g id=\"line2d_1\">\n    <path clip-path=\"url(#p95960e92b0)\" d=\"M 7.2 7.2 \nL 1159.2 295.2 \n\" style=\"fill:none;stroke:#ffffff;stroke-linecap:square;stroke-width:2.8;\"/>\n   </g>\n   <g id=\"line2d_2\">\n    <path clip-path=\"url(#p95960e92b0)\" d=\"M 199.2 136.303448 \nL 967.2 136.303448 \n\" style=\"fill:none;stroke:#000000;stroke-linecap:square;stroke-width:0.7;\"/>\n   </g>\n   <g id=\"line2d_3\">\n    <path clip-path=\"url(#p95960e92b0)\" d=\"M 199.2 126.372414 \nL 199.2 136.303448 \n\" style=\"fill:none;stroke:#000000;stroke-linecap:square;stroke-width:0.7;\"/>\n   </g>\n   <g id=\"line2d_4\">\n    <path clip-path=\"url(#p95960e92b0)\" d=\"M 391.2 131.337931 \nL 391.2 136.303448 \n\" style=\"fill:none;stroke:#000000;stroke-linecap:square;stroke-width:0.7;\"/>\n   </g>\n   <g id=\"line2d_5\">\n    <path clip-path=\"url(#p95960e92b0)\" d=\"M 583.2 126.372414 \nL 583.2 136.303448 \n\" style=\"fill:none;stroke:#000000;stroke-linecap:square;stroke-width:0.7;\"/>\n   </g>\n   <g id=\"line2d_6\">\n    <path clip-path=\"url(#p95960e92b0)\" d=\"M 775.2 131.337931 \nL 775.2 136.303448 \n\" style=\"fill:none;stroke:#000000;stroke-linecap:square;stroke-width:0.7;\"/>\n   </g>\n   <g id=\"line2d_7\">\n    <path clip-path=\"url(#p95960e92b0)\" d=\"M 967.2 126.372414 \nL 967.2 136.303448 \n\" style=\"fill:none;stroke:#000000;stroke-linecap:square;stroke-width:0.7;\"/>\n   </g>\n   <g id=\"line2d_8\">\n    <path clip-path=\"url(#p95960e92b0)\" d=\"M 199.2 136.303448 \nL 199.2 215.751724 \nL 180 215.751724 \n\" style=\"fill:none;stroke:#000000;stroke-linecap:square;stroke-width:0.7;\"/>\n   </g>\n   <g id=\"line2d_9\">\n    <path clip-path=\"url(#p95960e92b0)\" d=\"M 583.2 136.303448 \nL 583.2 255.475862 \nL 180 255.475862 \n\" style=\"fill:none;stroke:#000000;stroke-linecap:square;stroke-width:0.7;\"/>\n   </g>\n   <g id=\"line2d_10\">\n    <path clip-path=\"url(#p95960e92b0)\" d=\"M 967.2 136.303448 \nL 967.2 215.751724 \nL 986.4 215.751724 \n\" style=\"fill:none;stroke:#000000;stroke-linecap:square;stroke-width:0.7;\"/>\n   </g>\n   <g id=\"line2d_11\">\n    <path clip-path=\"url(#p95960e92b0)\" d=\"M 199.2 56.855172 \nL 1167.4 56.855172 \n\" style=\"fill:none;stroke:#000000;stroke-linecap:square;stroke-width:0.7;\"/>\n   </g>\n   <g id=\"line2d_12\">\n    <path clip-path=\"url(#p95960e92b0)\" d=\"M 199.2 66.786207 \nL 199.2 46.924138 \n\" style=\"fill:none;stroke:#000000;stroke-linecap:square;stroke-width:0.7;\"/>\n   </g>\n   <g id=\"line2d_13\">\n    <path clip-path=\"url(#p95960e92b0)\" style=\"fill:none;stroke:#000000;stroke-linecap:square;stroke-width:0.7;\"/>\n   </g>\n   <g id=\"line2d_14\">\n    <path clip-path=\"url(#p95960e92b0)\" d=\"M 189.6 176.027586 \nL 976.8 176.027586 \n\" style=\"fill:none;stroke:#000000;stroke-linecap:square;stroke-width:2.5;\"/>\n   </g>\n   <g id=\"text_1\">\n    <!-- 1 -->\n    <g transform=\"translate(196.01875 114.361692)scale(0.1 -0.1)\">\n     <defs>\n      <path d=\"M 12.40625 8.296875 \nL 28.515625 8.296875 \nL 28.515625 63.921875 \nL 10.984375 60.40625 \nL 10.984375 69.390625 \nL 28.421875 72.90625 \nL 38.28125 72.90625 \nL 38.28125 8.296875 \nL 54.390625 8.296875 \nL 54.390625 0 \nL 12.40625 0 \nz\n\" id=\"DejaVuSans-49\"/>\n     </defs>\n     <use xlink:href=\"#DejaVuSans-49\"/>\n    </g>\n   </g>\n   <g id=\"text_2\">\n    <!-- 2 -->\n    <g transform=\"translate(580.01875 114.361692)scale(0.1 -0.1)\">\n     <defs>\n      <path d=\"M 19.1875 8.296875 \nL 53.609375 8.296875 \nL 53.609375 0 \nL 7.328125 0 \nL 7.328125 8.296875 \nQ 12.9375 14.109375 22.625 23.890625 \nQ 32.328125 33.6875 34.8125 36.53125 \nQ 39.546875 41.84375 41.421875 45.53125 \nQ 43.3125 49.21875 43.3125 52.78125 \nQ 43.3125 58.59375 39.234375 62.25 \nQ 35.15625 65.921875 28.609375 65.921875 \nQ 23.96875 65.921875 18.8125 64.3125 \nQ 13.671875 62.703125 7.8125 59.421875 \nL 7.8125 69.390625 \nQ 13.765625 71.78125 18.9375 73 \nQ 24.125 74.21875 28.421875 74.21875 \nQ 39.75 74.21875 46.484375 68.546875 \nQ 53.21875 62.890625 53.21875 53.421875 \nQ 53.21875 48.921875 51.53125 44.890625 \nQ 49.859375 40.875 45.40625 35.40625 \nQ 44.1875 33.984375 37.640625 27.21875 \nQ 31.109375 20.453125 19.1875 8.296875 \nz\n\" id=\"DejaVuSans-50\"/>\n     </defs>\n     <use xlink:href=\"#DejaVuSans-50\"/>\n    </g>\n   </g>\n   <g id=\"text_3\">\n    <!-- 3 -->\n    <g transform=\"translate(964.01875 114.361692)scale(0.1 -0.1)\">\n     <defs>\n      <path d=\"M 40.578125 39.3125 \nQ 47.65625 37.796875 51.625 33 \nQ 55.609375 28.21875 55.609375 21.1875 \nQ 55.609375 10.40625 48.1875 4.484375 \nQ 40.765625 -1.421875 27.09375 -1.421875 \nQ 22.515625 -1.421875 17.65625 -0.515625 \nQ 12.796875 0.390625 7.625 2.203125 \nL 7.625 11.71875 \nQ 11.71875 9.328125 16.59375 8.109375 \nQ 21.484375 6.890625 26.8125 6.890625 \nQ 36.078125 6.890625 40.9375 10.546875 \nQ 45.796875 14.203125 45.796875 21.1875 \nQ 45.796875 27.640625 41.28125 31.265625 \nQ 36.765625 34.90625 28.71875 34.90625 \nL 20.21875 34.90625 \nL 20.21875 43.015625 \nL 29.109375 43.015625 \nQ 36.375 43.015625 40.234375 45.921875 \nQ 44.09375 48.828125 44.09375 54.296875 \nQ 44.09375 59.90625 40.109375 62.90625 \nQ 36.140625 65.921875 28.71875 65.921875 \nQ 24.65625 65.921875 20.015625 65.03125 \nQ 15.375 64.15625 9.8125 62.3125 \nL 9.8125 71.09375 \nQ 15.4375 72.65625 20.34375 73.4375 \nQ 25.25 74.21875 29.59375 74.21875 \nQ 40.828125 74.21875 47.359375 69.109375 \nQ 53.90625 64.015625 53.90625 55.328125 \nQ 53.90625 49.265625 50.4375 45.09375 \nQ 46.96875 40.921875 40.578125 39.3125 \nz\n\" id=\"DejaVuSans-51\"/>\n     </defs>\n     <use xlink:href=\"#DejaVuSans-51\"/>\n    </g>\n   </g>\n   <g id=\"text_4\">\n    <!-- mcBind -->\n    <g transform=\"translate(123.235937 218.511099)scale(0.1 -0.1)\">\n     <defs>\n      <path d=\"M 52 44.1875 \nQ 55.375 50.25 60.0625 53.125 \nQ 64.75 56 71.09375 56 \nQ 79.640625 56 84.28125 50.015625 \nQ 88.921875 44.046875 88.921875 33.015625 \nL 88.921875 0 \nL 79.890625 0 \nL 79.890625 32.71875 \nQ 79.890625 40.578125 77.09375 44.375 \nQ 74.3125 48.1875 68.609375 48.1875 \nQ 61.625 48.1875 57.5625 43.546875 \nQ 53.515625 38.921875 53.515625 30.90625 \nL 53.515625 0 \nL 44.484375 0 \nL 44.484375 32.71875 \nQ 44.484375 40.625 41.703125 44.40625 \nQ 38.921875 48.1875 33.109375 48.1875 \nQ 26.21875 48.1875 22.15625 43.53125 \nQ 18.109375 38.875 18.109375 30.90625 \nL 18.109375 0 \nL 9.078125 0 \nL 9.078125 54.6875 \nL 18.109375 54.6875 \nL 18.109375 46.1875 \nQ 21.1875 51.21875 25.484375 53.609375 \nQ 29.78125 56 35.6875 56 \nQ 41.65625 56 45.828125 52.96875 \nQ 50 49.953125 52 44.1875 \nz\n\" id=\"DejaVuSans-109\"/>\n      <path d=\"M 48.78125 52.59375 \nL 48.78125 44.1875 \nQ 44.96875 46.296875 41.140625 47.34375 \nQ 37.3125 48.390625 33.40625 48.390625 \nQ 24.65625 48.390625 19.8125 42.84375 \nQ 14.984375 37.3125 14.984375 27.296875 \nQ 14.984375 17.28125 19.8125 11.734375 \nQ 24.65625 6.203125 33.40625 6.203125 \nQ 37.3125 6.203125 41.140625 7.25 \nQ 44.96875 8.296875 48.78125 10.40625 \nL 48.78125 2.09375 \nQ 45.015625 0.34375 40.984375 -0.53125 \nQ 36.96875 -1.421875 32.421875 -1.421875 \nQ 20.0625 -1.421875 12.78125 6.34375 \nQ 5.515625 14.109375 5.515625 27.296875 \nQ 5.515625 40.671875 12.859375 48.328125 \nQ 20.21875 56 33.015625 56 \nQ 37.15625 56 41.109375 55.140625 \nQ 45.0625 54.296875 48.78125 52.59375 \nz\n\" id=\"DejaVuSans-99\"/>\n      <path d=\"M 19.671875 34.8125 \nL 19.671875 8.109375 \nL 35.5 8.109375 \nQ 43.453125 8.109375 47.28125 11.40625 \nQ 51.125 14.703125 51.125 21.484375 \nQ 51.125 28.328125 47.28125 31.5625 \nQ 43.453125 34.8125 35.5 34.8125 \nz\nM 19.671875 64.796875 \nL 19.671875 42.828125 \nL 34.28125 42.828125 \nQ 41.5 42.828125 45.03125 45.53125 \nQ 48.578125 48.25 48.578125 53.8125 \nQ 48.578125 59.328125 45.03125 62.0625 \nQ 41.5 64.796875 34.28125 64.796875 \nz\nM 9.8125 72.90625 \nL 35.015625 72.90625 \nQ 46.296875 72.90625 52.390625 68.21875 \nQ 58.5 63.53125 58.5 54.890625 \nQ 58.5 48.1875 55.375 44.234375 \nQ 52.25 40.28125 46.1875 39.3125 \nQ 53.46875 37.75 57.5 32.78125 \nQ 61.53125 27.828125 61.53125 20.40625 \nQ 61.53125 10.640625 54.890625 5.3125 \nQ 48.25 0 35.984375 0 \nL 9.8125 0 \nz\n\" id=\"DejaVuSans-66\"/>\n      <path d=\"M 9.421875 54.6875 \nL 18.40625 54.6875 \nL 18.40625 0 \nL 9.421875 0 \nz\nM 9.421875 75.984375 \nL 18.40625 75.984375 \nL 18.40625 64.59375 \nL 9.421875 64.59375 \nz\n\" id=\"DejaVuSans-105\"/>\n      <path d=\"M 54.890625 33.015625 \nL 54.890625 0 \nL 45.90625 0 \nL 45.90625 32.71875 \nQ 45.90625 40.484375 42.875 44.328125 \nQ 39.84375 48.1875 33.796875 48.1875 \nQ 26.515625 48.1875 22.3125 43.546875 \nQ 18.109375 38.921875 18.109375 30.90625 \nL 18.109375 0 \nL 9.078125 0 \nL 9.078125 54.6875 \nL 18.109375 54.6875 \nL 18.109375 46.1875 \nQ 21.34375 51.125 25.703125 53.5625 \nQ 30.078125 56 35.796875 56 \nQ 45.21875 56 50.046875 50.171875 \nQ 54.890625 44.34375 54.890625 33.015625 \nz\n\" id=\"DejaVuSans-110\"/>\n      <path d=\"M 45.40625 46.390625 \nL 45.40625 75.984375 \nL 54.390625 75.984375 \nL 54.390625 0 \nL 45.40625 0 \nL 45.40625 8.203125 \nQ 42.578125 3.328125 38.25 0.953125 \nQ 33.9375 -1.421875 27.875 -1.421875 \nQ 17.96875 -1.421875 11.734375 6.484375 \nQ 5.515625 14.40625 5.515625 27.296875 \nQ 5.515625 40.1875 11.734375 48.09375 \nQ 17.96875 56 27.875 56 \nQ 33.9375 56 38.25 53.625 \nQ 42.578125 51.265625 45.40625 46.390625 \nz\nM 14.796875 27.296875 \nQ 14.796875 17.390625 18.875 11.75 \nQ 22.953125 6.109375 30.078125 6.109375 \nQ 37.203125 6.109375 41.296875 11.75 \nQ 45.40625 17.390625 45.40625 27.296875 \nQ 45.40625 37.203125 41.296875 42.84375 \nQ 37.203125 48.484375 30.078125 48.484375 \nQ 22.953125 48.484375 18.875 42.84375 \nQ 14.796875 37.203125 14.796875 27.296875 \nz\n\" id=\"DejaVuSans-100\"/>\n     </defs>\n     <use xlink:href=\"#DejaVuSans-109\"/>\n     <use x=\"97.412109\" xlink:href=\"#DejaVuSans-99\"/>\n     <use x=\"152.392578\" xlink:href=\"#DejaVuSans-66\"/>\n     <use x=\"220.996094\" xlink:href=\"#DejaVuSans-105\"/>\n     <use x=\"248.779297\" xlink:href=\"#DejaVuSans-110\"/>\n     <use x=\"312.158203\" xlink:href=\"#DejaVuSans-100\"/>\n    </g>\n   </g>\n   <g id=\"text_5\">\n    <!-- Shallow mcBind -->\n    <g transform=\"translate(81.390625 258.235237)scale(0.1 -0.1)\">\n     <defs>\n      <path d=\"M 53.515625 70.515625 \nL 53.515625 60.890625 \nQ 47.90625 63.578125 42.921875 64.890625 \nQ 37.9375 66.21875 33.296875 66.21875 \nQ 25.25 66.21875 20.875 63.09375 \nQ 16.5 59.96875 16.5 54.203125 \nQ 16.5 49.359375 19.40625 46.890625 \nQ 22.3125 44.4375 30.421875 42.921875 \nL 36.375 41.703125 \nQ 47.40625 39.59375 52.65625 34.296875 \nQ 57.90625 29 57.90625 20.125 \nQ 57.90625 9.515625 50.796875 4.046875 \nQ 43.703125 -1.421875 29.984375 -1.421875 \nQ 24.8125 -1.421875 18.96875 -0.25 \nQ 13.140625 0.921875 6.890625 3.21875 \nL 6.890625 13.375 \nQ 12.890625 10.015625 18.65625 8.296875 \nQ 24.421875 6.59375 29.984375 6.59375 \nQ 38.421875 6.59375 43.015625 9.90625 \nQ 47.609375 13.234375 47.609375 19.390625 \nQ 47.609375 24.75 44.3125 27.78125 \nQ 41.015625 30.8125 33.5 32.328125 \nL 27.484375 33.5 \nQ 16.453125 35.6875 11.515625 40.375 \nQ 6.59375 45.0625 6.59375 53.421875 \nQ 6.59375 63.09375 13.40625 68.65625 \nQ 20.21875 74.21875 32.171875 74.21875 \nQ 37.3125 74.21875 42.625 73.28125 \nQ 47.953125 72.359375 53.515625 70.515625 \nz\n\" id=\"DejaVuSans-83\"/>\n      <path d=\"M 54.890625 33.015625 \nL 54.890625 0 \nL 45.90625 0 \nL 45.90625 32.71875 \nQ 45.90625 40.484375 42.875 44.328125 \nQ 39.84375 48.1875 33.796875 48.1875 \nQ 26.515625 48.1875 22.3125 43.546875 \nQ 18.109375 38.921875 18.109375 30.90625 \nL 18.109375 0 \nL 9.078125 0 \nL 9.078125 75.984375 \nL 18.109375 75.984375 \nL 18.109375 46.1875 \nQ 21.34375 51.125 25.703125 53.5625 \nQ 30.078125 56 35.796875 56 \nQ 45.21875 56 50.046875 50.171875 \nQ 54.890625 44.34375 54.890625 33.015625 \nz\n\" id=\"DejaVuSans-104\"/>\n      <path d=\"M 34.28125 27.484375 \nQ 23.390625 27.484375 19.1875 25 \nQ 14.984375 22.515625 14.984375 16.5 \nQ 14.984375 11.71875 18.140625 8.90625 \nQ 21.296875 6.109375 26.703125 6.109375 \nQ 34.1875 6.109375 38.703125 11.40625 \nQ 43.21875 16.703125 43.21875 25.484375 \nL 43.21875 27.484375 \nz\nM 52.203125 31.203125 \nL 52.203125 0 \nL 43.21875 0 \nL 43.21875 8.296875 \nQ 40.140625 3.328125 35.546875 0.953125 \nQ 30.953125 -1.421875 24.3125 -1.421875 \nQ 15.921875 -1.421875 10.953125 3.296875 \nQ 6 8.015625 6 15.921875 \nQ 6 25.140625 12.171875 29.828125 \nQ 18.359375 34.515625 30.609375 34.515625 \nL 43.21875 34.515625 \nL 43.21875 35.40625 \nQ 43.21875 41.609375 39.140625 45 \nQ 35.0625 48.390625 27.6875 48.390625 \nQ 23 48.390625 18.546875 47.265625 \nQ 14.109375 46.140625 10.015625 43.890625 \nL 10.015625 52.203125 \nQ 14.9375 54.109375 19.578125 55.046875 \nQ 24.21875 56 28.609375 56 \nQ 40.484375 56 46.34375 49.84375 \nQ 52.203125 43.703125 52.203125 31.203125 \nz\n\" id=\"DejaVuSans-97\"/>\n      <path d=\"M 9.421875 75.984375 \nL 18.40625 75.984375 \nL 18.40625 0 \nL 9.421875 0 \nz\n\" id=\"DejaVuSans-108\"/>\n      <path d=\"M 30.609375 48.390625 \nQ 23.390625 48.390625 19.1875 42.75 \nQ 14.984375 37.109375 14.984375 27.296875 \nQ 14.984375 17.484375 19.15625 11.84375 \nQ 23.34375 6.203125 30.609375 6.203125 \nQ 37.796875 6.203125 41.984375 11.859375 \nQ 46.1875 17.53125 46.1875 27.296875 \nQ 46.1875 37.015625 41.984375 42.703125 \nQ 37.796875 48.390625 30.609375 48.390625 \nz\nM 30.609375 56 \nQ 42.328125 56 49.015625 48.375 \nQ 55.71875 40.765625 55.71875 27.296875 \nQ 55.71875 13.875 49.015625 6.21875 \nQ 42.328125 -1.421875 30.609375 -1.421875 \nQ 18.84375 -1.421875 12.171875 6.21875 \nQ 5.515625 13.875 5.515625 27.296875 \nQ 5.515625 40.765625 12.171875 48.375 \nQ 18.84375 56 30.609375 56 \nz\n\" id=\"DejaVuSans-111\"/>\n      <path d=\"M 4.203125 54.6875 \nL 13.1875 54.6875 \nL 24.421875 12.015625 \nL 35.59375 54.6875 \nL 46.1875 54.6875 \nL 57.421875 12.015625 \nL 68.609375 54.6875 \nL 77.59375 54.6875 \nL 63.28125 0 \nL 52.6875 0 \nL 40.921875 44.828125 \nL 29.109375 0 \nL 18.5 0 \nz\n\" id=\"DejaVuSans-119\"/>\n      <path id=\"DejaVuSans-32\"/>\n     </defs>\n     <use xlink:href=\"#DejaVuSans-83\"/>\n     <use x=\"63.476562\" xlink:href=\"#DejaVuSans-104\"/>\n     <use x=\"126.855469\" xlink:href=\"#DejaVuSans-97\"/>\n     <use x=\"188.134766\" xlink:href=\"#DejaVuSans-108\"/>\n     <use x=\"215.917969\" xlink:href=\"#DejaVuSans-108\"/>\n     <use x=\"243.701172\" xlink:href=\"#DejaVuSans-111\"/>\n     <use x=\"304.882812\" xlink:href=\"#DejaVuSans-119\"/>\n     <use x=\"386.669922\" xlink:href=\"#DejaVuSans-32\"/>\n     <use x=\"418.457031\" xlink:href=\"#DejaVuSans-109\"/>\n     <use x=\"515.869141\" xlink:href=\"#DejaVuSans-99\"/>\n     <use x=\"570.849609\" xlink:href=\"#DejaVuSans-66\"/>\n     <use x=\"639.453125\" xlink:href=\"#DejaVuSans-105\"/>\n     <use x=\"667.236328\" xlink:href=\"#DejaVuSans-110\"/>\n     <use x=\"730.615234\" xlink:href=\"#DejaVuSans-100\"/>\n    </g>\n   </g>\n   <g id=\"text_6\">\n    <!-- iDeep -->\n    <g transform=\"translate(1005.6 218.511099)scale(0.1 -0.1)\">\n     <defs>\n      <path d=\"M 19.671875 64.796875 \nL 19.671875 8.109375 \nL 31.59375 8.109375 \nQ 46.6875 8.109375 53.6875 14.9375 \nQ 60.6875 21.78125 60.6875 36.53125 \nQ 60.6875 51.171875 53.6875 57.984375 \nQ 46.6875 64.796875 31.59375 64.796875 \nz\nM 9.8125 72.90625 \nL 30.078125 72.90625 \nQ 51.265625 72.90625 61.171875 64.09375 \nQ 71.09375 55.28125 71.09375 36.53125 \nQ 71.09375 17.671875 61.125 8.828125 \nQ 51.171875 0 30.078125 0 \nL 9.8125 0 \nz\n\" id=\"DejaVuSans-68\"/>\n      <path d=\"M 56.203125 29.59375 \nL 56.203125 25.203125 \nL 14.890625 25.203125 \nQ 15.484375 15.921875 20.484375 11.0625 \nQ 25.484375 6.203125 34.421875 6.203125 \nQ 39.59375 6.203125 44.453125 7.46875 \nQ 49.3125 8.734375 54.109375 11.28125 \nL 54.109375 2.78125 \nQ 49.265625 0.734375 44.1875 -0.34375 \nQ 39.109375 -1.421875 33.890625 -1.421875 \nQ 20.796875 -1.421875 13.15625 6.1875 \nQ 5.515625 13.8125 5.515625 26.8125 \nQ 5.515625 40.234375 12.765625 48.109375 \nQ 20.015625 56 32.328125 56 \nQ 43.359375 56 49.78125 48.890625 \nQ 56.203125 41.796875 56.203125 29.59375 \nz\nM 47.21875 32.234375 \nQ 47.125 39.59375 43.09375 43.984375 \nQ 39.0625 48.390625 32.421875 48.390625 \nQ 24.90625 48.390625 20.390625 44.140625 \nQ 15.875 39.890625 15.1875 32.171875 \nz\n\" id=\"DejaVuSans-101\"/>\n      <path d=\"M 18.109375 8.203125 \nL 18.109375 -20.796875 \nL 9.078125 -20.796875 \nL 9.078125 54.6875 \nL 18.109375 54.6875 \nL 18.109375 46.390625 \nQ 20.953125 51.265625 25.265625 53.625 \nQ 29.59375 56 35.59375 56 \nQ 45.5625 56 51.78125 48.09375 \nQ 58.015625 40.1875 58.015625 27.296875 \nQ 58.015625 14.40625 51.78125 6.484375 \nQ 45.5625 -1.421875 35.59375 -1.421875 \nQ 29.59375 -1.421875 25.265625 0.953125 \nQ 20.953125 3.328125 18.109375 8.203125 \nz\nM 48.6875 27.296875 \nQ 48.6875 37.203125 44.609375 42.84375 \nQ 40.53125 48.484375 33.40625 48.484375 \nQ 26.265625 48.484375 22.1875 42.84375 \nQ 18.109375 37.203125 18.109375 27.296875 \nQ 18.109375 17.390625 22.1875 11.75 \nQ 26.265625 6.109375 33.40625 6.109375 \nQ 40.53125 6.109375 44.609375 11.75 \nQ 48.6875 17.390625 48.6875 27.296875 \nz\n\" id=\"DejaVuSans-112\"/>\n     </defs>\n     <use xlink:href=\"#DejaVuSans-105\"/>\n     <use x=\"27.783203\" xlink:href=\"#DejaVuSans-68\"/>\n     <use x=\"104.785156\" xlink:href=\"#DejaVuSans-101\"/>\n     <use x=\"166.308594\" xlink:href=\"#DejaVuSans-101\"/>\n     <use x=\"227.832031\" xlink:href=\"#DejaVuSans-112\"/>\n    </g>\n   </g>\n   <g id=\"text_7\">\n    <!-- CD -->\n    <g transform=\"translate(828.241392 44.84445)scale(0.1 -0.1)\">\n     <defs>\n      <path d=\"M 64.40625 67.28125 \nL 64.40625 56.890625 \nQ 59.421875 61.53125 53.78125 63.8125 \nQ 48.140625 66.109375 41.796875 66.109375 \nQ 29.296875 66.109375 22.65625 58.46875 \nQ 16.015625 50.828125 16.015625 36.375 \nQ 16.015625 21.96875 22.65625 14.328125 \nQ 29.296875 6.6875 41.796875 6.6875 \nQ 48.140625 6.6875 53.78125 8.984375 \nQ 59.421875 11.28125 64.40625 15.921875 \nL 64.40625 5.609375 \nQ 59.234375 2.09375 53.4375 0.328125 \nQ 47.65625 -1.421875 41.21875 -1.421875 \nQ 24.65625 -1.421875 15.125 8.703125 \nQ 5.609375 18.84375 5.609375 36.375 \nQ 5.609375 53.953125 15.125 64.078125 \nQ 24.65625 74.21875 41.21875 74.21875 \nQ 47.75 74.21875 53.53125 72.484375 \nQ 59.328125 70.75 64.40625 67.28125 \nz\n\" id=\"DejaVuSans-67\"/>\n     </defs>\n     <use xlink:href=\"#DejaVuSans-67\"/>\n     <use x=\"69.824219\" xlink:href=\"#DejaVuSans-68\"/>\n    </g>\n   </g>\n  </g>\n </g>\n <defs>\n  <clipPath id=\"p95960e92b0\">\n   <rect height=\"288\" width=\"1152\" x=\"7.2\" y=\"7.2\"/>\n  </clipPath>\n </defs>\n</svg>\n",
      "image/png": "[encoded data removed]"
     },
     "metadata": {}
    },
    {
     "output_type": "display_data",
     "data": {
      "text/plain": "<Figure size 1440x576 with 0 Axes>"
     },
     "metadata": {}
    }
   ],
   "source": [
    "import Orange\n",
    "\n",
    "ranks = table.rank(axis=1, method=\"min\", ascending=False)\n",
    "avranks = ranks.mean()\n",
    "names = table.columns.to_list()\n",
    "cd = Orange.evaluation.compute_CD(avranks, 1)\n",
    "Orange.evaluation.graph_ranks(avranks, names, cd=cd, textspace=1)\n",
    "\n",
    "fig = plt.gcf()\n",
    "fig.set_size_inches(16, 4)\n",
    "\n",
    "plt.show()\n",
    "plt.savefig(\"results/critical_difference_shalow.png\")"
   ]
  }
 ]
}